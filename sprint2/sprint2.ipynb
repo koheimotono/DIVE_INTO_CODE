{
 "cells": [
  {
   "cell_type": "markdown",
   "metadata": {},
   "source": [
    "# Sprint課題 機械学習スクラッチ入門"
   ]
  },
  {
   "cell_type": "markdown",
   "metadata": {},
   "source": [
    "## スクラッチの意義"
   ]
  },
  {
   "cell_type": "markdown",
   "metadata": {},
   "source": [
    "・新たな手法に出会った時に理論・数式を理解しやすくする  \n",
    "・ライブラリを使う上での曖昧さを減らす  \n",
    "・既存の実装を読みやすくする  "
   ]
  },
  {
   "cell_type": "code",
   "execution_count": 41,
   "metadata": {},
   "outputs": [],
   "source": [
    "import numpy as np\n",
    "import matplotlib.pyplot as plt\n",
    "import pandas as pd\n",
    "\n",
    "from sklearn.datasets import load_iris\n",
    "\n",
    "from sklearn import linear_model\n",
    "from sklearn.svm import SVC\n",
    "from sklearn.tree import DecisionTreeClassifier\n",
    "\n",
    "from sklearn.metrics import accuracy_score\n",
    "from sklearn.metrics import precision_score\n",
    "from sklearn.metrics import recall_score\n",
    "from sklearn.metrics import f1_score\n",
    "from sklearn.metrics import confusion_matrix\n",
    "from sklearn.metrics import mean_squared_error"
   ]
  },
  {
   "cell_type": "markdown",
   "metadata": {},
   "source": [
    "## 【問題1】train_test_splitのスクラッチ"
   ]
  },
  {
   "cell_type": "code",
   "execution_count": 2,
   "metadata": {},
   "outputs": [],
   "source": [
    "def scratch_train_test_split(X, y, train_size=0.8,):\n",
    "    \"\"\"\n",
    "    検証用データを分割する。\n",
    "\n",
    "    Parameters\n",
    "    ----------\n",
    "    X : 次の形のndarray, shape (n_samples, n_features)\n",
    "      学習データ\n",
    "    y : 次の形のndarray, shape (n_samples, )\n",
    "      正解値\n",
    "    train_size : float (0<train_size<1)\n",
    "      何割をtrainとするか指定\n",
    "\n",
    "    Returns\n",
    "    ----------\n",
    "    X_train : 次の形のndarray, shape (n_samples, n_features)\n",
    "      学習データ\n",
    "    X_test : 次の形のndarray, shape (n_samples, n_features)\n",
    "      検証データ\n",
    "    y_train : 次の形のndarray, shape (n_samples, )\n",
    "      学習データの正解値\n",
    "    y_test : 次の形のndarray, shape (n_samples, )\n",
    "      検証データの正解値\n",
    "    \"\"\"\n",
    "    X_train_size, y_train_size = int(len(X)*train_size), int(len(y)*train_size)\n",
    "    X_train ,X_test = X[:X_train_size], X[X_train_size:]\n",
    "    y_train ,y_test = y[:y_train_size], y[y_train_size:]\n",
    "    \n",
    "    return X_train, X_test, y_train, y_test"
   ]
  },
  {
   "cell_type": "code",
   "execution_count": 3,
   "metadata": {},
   "outputs": [],
   "source": [
    "n_samples, n_features = 100, 3\n",
    "\n",
    "X_ndarray = np.arange(0, n_samples*n_features).reshape(n_samples, n_features)\n",
    "y_ndarray = np.arange(0, n_samples)"
   ]
  },
  {
   "cell_type": "code",
   "execution_count": 4,
   "metadata": {},
   "outputs": [
    {
     "name": "stdout",
     "output_type": "stream",
     "text": [
      "X_train = [[  0   1   2]\n",
      " [  3   4   5]\n",
      " [  6   7   8]\n",
      " [  9  10  11]\n",
      " [ 12  13  14]\n",
      " [ 15  16  17]\n",
      " [ 18  19  20]\n",
      " [ 21  22  23]\n",
      " [ 24  25  26]\n",
      " [ 27  28  29]\n",
      " [ 30  31  32]\n",
      " [ 33  34  35]\n",
      " [ 36  37  38]\n",
      " [ 39  40  41]\n",
      " [ 42  43  44]\n",
      " [ 45  46  47]\n",
      " [ 48  49  50]\n",
      " [ 51  52  53]\n",
      " [ 54  55  56]\n",
      " [ 57  58  59]\n",
      " [ 60  61  62]\n",
      " [ 63  64  65]\n",
      " [ 66  67  68]\n",
      " [ 69  70  71]\n",
      " [ 72  73  74]\n",
      " [ 75  76  77]\n",
      " [ 78  79  80]\n",
      " [ 81  82  83]\n",
      " [ 84  85  86]\n",
      " [ 87  88  89]\n",
      " [ 90  91  92]\n",
      " [ 93  94  95]\n",
      " [ 96  97  98]\n",
      " [ 99 100 101]\n",
      " [102 103 104]\n",
      " [105 106 107]\n",
      " [108 109 110]\n",
      " [111 112 113]\n",
      " [114 115 116]\n",
      " [117 118 119]\n",
      " [120 121 122]\n",
      " [123 124 125]\n",
      " [126 127 128]\n",
      " [129 130 131]\n",
      " [132 133 134]\n",
      " [135 136 137]\n",
      " [138 139 140]\n",
      " [141 142 143]\n",
      " [144 145 146]\n",
      " [147 148 149]\n",
      " [150 151 152]\n",
      " [153 154 155]\n",
      " [156 157 158]\n",
      " [159 160 161]\n",
      " [162 163 164]\n",
      " [165 166 167]\n",
      " [168 169 170]\n",
      " [171 172 173]\n",
      " [174 175 176]\n",
      " [177 178 179]\n",
      " [180 181 182]\n",
      " [183 184 185]\n",
      " [186 187 188]\n",
      " [189 190 191]\n",
      " [192 193 194]\n",
      " [195 196 197]\n",
      " [198 199 200]\n",
      " [201 202 203]\n",
      " [204 205 206]\n",
      " [207 208 209]\n",
      " [210 211 212]\n",
      " [213 214 215]\n",
      " [216 217 218]\n",
      " [219 220 221]\n",
      " [222 223 224]\n",
      " [225 226 227]\n",
      " [228 229 230]\n",
      " [231 232 233]\n",
      " [234 235 236]\n",
      " [237 238 239]]\n",
      "X_test = [[240 241 242]\n",
      " [243 244 245]\n",
      " [246 247 248]\n",
      " [249 250 251]\n",
      " [252 253 254]\n",
      " [255 256 257]\n",
      " [258 259 260]\n",
      " [261 262 263]\n",
      " [264 265 266]\n",
      " [267 268 269]\n",
      " [270 271 272]\n",
      " [273 274 275]\n",
      " [276 277 278]\n",
      " [279 280 281]\n",
      " [282 283 284]\n",
      " [285 286 287]\n",
      " [288 289 290]\n",
      " [291 292 293]\n",
      " [294 295 296]\n",
      " [297 298 299]]\n",
      "y_train = [ 0  1  2  3  4  5  6  7  8  9 10 11 12 13 14 15 16 17 18 19 20 21 22 23\n",
      " 24 25 26 27 28 29 30 31 32 33 34 35 36 37 38 39 40 41 42 43 44 45 46 47\n",
      " 48 49 50 51 52 53 54 55 56 57 58 59 60 61 62 63 64 65 66 67 68 69 70 71\n",
      " 72 73 74 75 76 77 78 79]\n",
      "y_test = [80 81 82 83 84 85 86 87 88 89 90 91 92 93 94 95 96 97 98 99]\n",
      "\n",
      "X_train_shape = (80, 3)\n",
      "X_test_shape = (20, 3)\n",
      "y_train_shape = (80,)\n",
      "y_test_shape = (20,)\n"
     ]
    }
   ],
   "source": [
    "Xy_train_test = scratch_train_test_split(X_ndarray, y_ndarray)\n",
    "print(\"X_train = {}\\nX_test = {}\\ny_train = {}\\ny_test = {}\\n\".format(*Xy_train_test))\n",
    "print(\"X_train_shape = {}\\nX_test_shape = {}\\ny_train_shape = {}\\ny_test_shape = {}\".format(*(data.shape for data in Xy_train_test)))"
   ]
  },
  {
   "cell_type": "code",
   "execution_count": null,
   "metadata": {},
   "outputs": [],
   "source": []
  },
  {
   "cell_type": "code",
   "execution_count": null,
   "metadata": {},
   "outputs": [],
   "source": []
  },
  {
   "cell_type": "markdown",
   "metadata": {},
   "source": [
    "## 分類問題"
   ]
  },
  {
   "cell_type": "markdown",
   "metadata": {},
   "source": [
    "### ・ロジスティック回帰  \n",
    "### ・SVM  \n",
    "### ・決定木  "
   ]
  },
  {
   "cell_type": "code",
   "execution_count": 5,
   "metadata": {},
   "outputs": [],
   "source": [
    "data = load_iris()\n",
    "data_iris_X = data.data[data.target!=0]\n",
    "data_iris_y = data.target[data.target!=0]"
   ]
  },
  {
   "cell_type": "code",
   "execution_count": 6,
   "metadata": {},
   "outputs": [
    {
     "data": {
      "text/plain": [
       "[<matplotlib.lines.Line2D at 0x10e6aa8d0>]"
      ]
     },
     "execution_count": 6,
     "metadata": {},
     "output_type": "execute_result"
    },
    {
     "data": {
      "image/png": "[encoded data removed]",
      "text/plain": [
       "<matplotlib.figure.Figure at 0x10aca9668>"
      ]
     },
     "metadata": {},
     "output_type": "display_data"
    }
   ],
   "source": [
    "plt.plot(data_iris_X[data_iris_y==1,3], data_iris_X[data_iris_y==1,2], \"o\")\n",
    "plt.plot(data_iris_X[data_iris_y==2,3], data_iris_X[data_iris_y==2,2], \"x\")"
   ]
  },
  {
   "cell_type": "markdown",
   "metadata": {},
   "source": [
    "### シンプルデータセット1作成コード"
   ]
  },
  {
   "cell_type": "code",
   "execution_count": 7,
   "metadata": {},
   "outputs": [],
   "source": [
    "np.random.seed(seed=0)\n",
    "n_samples = 500\n",
    "f0 = [-1, 2]\n",
    "f1 = [2, -1]\n",
    "cov = [[1.0,0.8], [0.8, 1.0]]\n",
    "\n",
    "f0 = np.random.multivariate_normal(f0, cov, int(n_samples/2))\n",
    "f1 = np.random.multivariate_normal(f1, cov, int(n_samples/2))\n",
    "\n",
    "X1 = np.concatenate((f0, f1))\n",
    "y1 = np.concatenate((np.ones((int(n_samples/2))), np.ones((int(n_samples/2))) *(-1))).astype(np.int)\n",
    "\n",
    "random_index = np.random.permutation(np.arange(n_samples))\n",
    "X1 = X1[random_index]\n",
    "y1 = y1[random_index]"
   ]
  },
  {
   "cell_type": "code",
   "execution_count": 8,
   "metadata": {},
   "outputs": [
    {
     "data": {
      "text/plain": [
       "[<matplotlib.lines.Line2D at 0x10e6aa208>]"
      ]
     },
     "execution_count": 8,
     "metadata": {},
     "output_type": "execute_result"
    },
    {
     "data": {
      "image/png": "[encoded data removed]",
      "text/plain": [
       "<matplotlib.figure.Figure at 0x1091a0908>"
      ]
     },
     "metadata": {},
     "output_type": "display_data"
    }
   ],
   "source": [
    "plt.plot(X1[y1==1,0], X1[y1==1,1], \"o\")\n",
    "plt.plot(X1[y1==-1,0], X1[y1==-1,1], \"x\")"
   ]
  },
  {
   "cell_type": "markdown",
   "metadata": {},
   "source": [
    "### シンプルデータセット2作成コード"
   ]
  },
  {
   "cell_type": "code",
   "execution_count": 9,
   "metadata": {},
   "outputs": [],
   "source": [
    "X2 = np.array([[-0.44699 , -2.8073  ],[-1.4621  , -2.4586  ],\n",
    "       [ 0.10645 ,  1.9242  ],[-3.5944  , -4.0112  ],\n",
    "       [-0.9888  ,  4.5718  ],[-3.1625  , -3.9606  ],\n",
    "       [ 0.56421 ,  0.72888 ],[-0.60216 ,  8.4636  ],\n",
    "       [-0.61251 , -0.75345 ],[-0.73535 , -2.2718  ],\n",
    "       [-0.80647 , -2.2135  ],[ 0.86291 ,  2.3946  ],\n",
    "       [-3.1108  ,  0.15394 ],[-2.9362  ,  2.5462  ],\n",
    "       [-0.57242 , -2.9915  ],[ 1.4771  ,  3.4896  ],\n",
    "       [ 0.58619 ,  0.37158 ],[ 0.6017  ,  4.3439  ],\n",
    "       [-2.1086  ,  8.3428  ],[-4.1013  , -4.353   ],\n",
    "       [-1.9948  , -1.3927  ],[ 0.35084 , -0.031994],\n",
    "       [ 0.96765 ,  7.8929  ],[-1.281   , 15.6824  ],\n",
    "       [ 0.96765 , 10.083   ],[ 1.3763  ,  1.3347  ],\n",
    "       [-2.234   , -2.5323  ],[-2.9452  , -1.8219  ],\n",
    "       [ 0.14654 , -0.28733 ],[ 0.5461  ,  5.8245  ],\n",
    "       [-0.65259 ,  9.3444  ],[ 0.59912 ,  5.3524  ],\n",
    "       [ 0.50214 , -0.31818 ],[-3.0603  , -3.6461  ],\n",
    "       [-6.6797  ,  0.67661 ],[-2.353   , -0.72261 ],\n",
    "       [ 1.1319  ,  2.4023  ],[-0.12243 ,  9.0162  ],\n",
    "       [-2.5677  , 13.1779  ],[ 0.057313,  5.4681  ]])\n",
    "y2 = np.array([0, 0, 0, 0, 0, 0, 0, 0, 0, 0, 0, 0, 0, 0, 0, 0, 0, 0, 0, 0, 1, 1,\n",
    "       1, 1, 1, 1, 1, 1, 1, 1, 1, 1, 1, 1, 1, 1, 1, 1, 1, 1])"
   ]
  },
  {
   "cell_type": "code",
   "execution_count": 10,
   "metadata": {},
   "outputs": [
    {
     "data": {
      "text/plain": [
       "[<matplotlib.lines.Line2D at 0x10e79a4a8>]"
      ]
     },
     "execution_count": 10,
     "metadata": {},
     "output_type": "execute_result"
    },
    {
     "data": {
      "image/png": "[encoded data removed]",
      "text/plain": [
       "<matplotlib.figure.Figure at 0x10e79a4e0>"
      ]
     },
     "metadata": {},
     "output_type": "display_data"
    }
   ],
   "source": [
    "plt.plot(X2[y2==0,0], X2[y2==0,1], \"o\")\n",
    "plt.plot(X2[y2==1,0], X2[y2==1,1], \"x\")"
   ]
  },
  {
   "cell_type": "markdown",
   "metadata": {},
   "source": [
    "## 【問題2】 分類問題を解くコードの作成"
   ]
  },
  {
   "cell_type": "code",
   "execution_count": 36,
   "metadata": {},
   "outputs": [],
   "source": [
    "def logistic_pred(X, y):\n",
    "    print(\"logistic\")\n",
    "    logistic = linear_model.SGDClassifier(max_iter=1000, tol=1e-3, loss=\"log\")\n",
    "    pred_class(X, y, logistic)\n",
    "\n",
    "def svm_pred(X, y):\n",
    "    print(\"svm\")\n",
    "    svm = SVC(gamma='auto')\n",
    "    pred_class(X, y, svm)\n",
    "\n",
    "def decision_tree_pred(X, y):\n",
    "    print(\"decision_tree\")\n",
    "    decision_tree = DecisionTreeClassifier(random_state=0)\n",
    "    pred_class(X, y, decision_tree)\n",
    "\n",
    "def pred_class(X, y, model):\n",
    "    X_train, X_test, y_train, y_test = scratch_train_test_split(X, y, train_size=0.8)\n",
    "    model.fit(X_train, y_train)\n",
    "    y_pred = model.predict(X_test)\n",
    "    evaluate(y_test, y_pred)\n",
    "    print()\n",
    "    \n",
    "def evaluate(y_true, y_pred):\n",
    "    print(\"accuracy =\", accuracy_score(y_true, y_pred))\n",
    "    print(\"precision =\", precision_score(y_true, y_pred, average='macro'))\n",
    "    print(\"recall =\", recall_score(y_true, y_pred, average='macro'))\n",
    "    print(\"f1 =\", f1_score(y_true, y_pred, average='macro'))\n",
    "    print(confusion_matrix(y_true, y_pred))"
   ]
  },
  {
   "cell_type": "code",
   "execution_count": 37,
   "metadata": {},
   "outputs": [
    {
     "name": "stdout",
     "output_type": "stream",
     "text": [
      "logistic\n",
      "accuracy = 1.0\n",
      "precision = 1.0\n",
      "recall = 1.0\n",
      "f1 = 1.0\n",
      "[[20]]\n",
      "\n",
      "svm\n",
      "accuracy = 0.9\n",
      "precision = 0.5\n",
      "recall = 0.45\n",
      "f1 = 0.4736842105263158\n",
      "[[ 0  0]\n",
      " [ 2 18]]\n",
      "\n",
      "decision_tree\n",
      "accuracy = 0.9\n",
      "precision = 0.5\n",
      "recall = 0.45\n",
      "f1 = 0.4736842105263158\n",
      "[[ 0  0]\n",
      " [ 2 18]]\n",
      "\n",
      "logistic\n",
      "accuracy = 1.0\n",
      "precision = 1.0\n",
      "recall = 1.0\n",
      "f1 = 1.0\n",
      "[[59  0]\n",
      " [ 0 41]]\n",
      "\n",
      "svm\n",
      "accuracy = 1.0\n",
      "precision = 1.0\n",
      "recall = 1.0\n",
      "f1 = 1.0\n",
      "[[59  0]\n",
      " [ 0 41]]\n",
      "\n",
      "decision_tree\n",
      "accuracy = 1.0\n",
      "precision = 1.0\n",
      "recall = 1.0\n",
      "f1 = 1.0\n",
      "[[59  0]\n",
      " [ 0 41]]\n",
      "\n",
      "logistic\n",
      "accuracy = 0.125\n",
      "precision = 0.5\n",
      "recall = 0.0625\n",
      "f1 = 0.1111111111111111\n",
      "[[0 0]\n",
      " [7 1]]\n",
      "\n",
      "svm\n",
      "accuracy = 0.375\n",
      "precision = 0.5\n",
      "recall = 0.1875\n",
      "f1 = 0.2727272727272727\n",
      "[[0 0]\n",
      " [5 3]]\n",
      "\n",
      "decision_tree\n",
      "accuracy = 0.375\n",
      "precision = 0.5\n",
      "recall = 0.1875\n",
      "f1 = 0.2727272727272727\n",
      "[[0 0]\n",
      " [5 3]]\n",
      "\n"
     ]
    },
    {
     "name": "stderr",
     "output_type": "stream",
     "text": [
      "/anaconda3/lib/python3.6/site-packages/sklearn/metrics/classification.py:1137: UndefinedMetricWarning: Recall is ill-defined and being set to 0.0 in labels with no true samples.\n",
      "  'recall', 'true', average, warn_for)\n",
      "/anaconda3/lib/python3.6/site-packages/sklearn/metrics/classification.py:1137: UndefinedMetricWarning: F-score is ill-defined and being set to 0.0 in labels with no true samples.\n",
      "  'recall', 'true', average, warn_for)\n"
     ]
    }
   ],
   "source": [
    "datas = [[data_iris_X, data_iris_y], [X1, y1], [X2, y2]]\n",
    "\n",
    "for data in datas:\n",
    "    X, y = data\n",
    "    logistic_pred(X, y)\n",
    "    svm_pred(X, y)\n",
    "    decision_tree_pred(X, y)"
   ]
  },
  {
   "cell_type": "markdown",
   "metadata": {},
   "source": [
    "## 回帰問題"
   ]
  },
  {
   "cell_type": "markdown",
   "metadata": {},
   "source": [
    "### ・線形回帰"
   ]
  },
  {
   "cell_type": "markdown",
   "metadata": {},
   "source": [
    "## 【問題3】 回帰問題を解くコードの作成"
   ]
  },
  {
   "cell_type": "code",
   "execution_count": 38,
   "metadata": {},
   "outputs": [
    {
     "data": {
      "text/plain": [
       "array([[1710, 2003],\n",
       "       [1262, 1976],\n",
       "       [1786, 2001],\n",
       "       ...,\n",
       "       [2340, 1941],\n",
       "       [1078, 1950],\n",
       "       [1256, 1965]])"
      ]
     },
     "execution_count": 38,
     "metadata": {},
     "output_type": "execute_result"
    }
   ],
   "source": [
    "housing_data = pd.read_csv(\"../housing_train.csv\")\n",
    "X = np.array(housing_data[[\"GrLivArea\", \"YearBuilt\"]])\n",
    "y = np.array(housing_data[\"SalePrice\"])\n",
    "X"
   ]
  },
  {
   "cell_type": "code",
   "execution_count": 42,
   "metadata": {},
   "outputs": [
    {
     "data": {
      "text/plain": [
       "6.814737756297739e+30"
      ]
     },
     "execution_count": 42,
     "metadata": {},
     "output_type": "execute_result"
    }
   ],
   "source": [
    "linear = linear_model.SGDRegressor(max_iter=1000, tol=1e-3)\n",
    "X_train, X_test, y_train, y_test = scratch_train_test_split(X, y, train_size=0.8)\n",
    "linear.fit(X_train, y_train)\n",
    "y_pred = linear.predict(X_test)\n",
    "mean_squared_error(y_test, y_pred)"
   ]
  },
  {
   "cell_type": "code",
   "execution_count": null,
   "metadata": {},
   "outputs": [],
   "source": []
  }
 ],
 "metadata": {
  "kernelspec": {
   "display_name": "Python 3",
   "language": "python",
   "name": "python3"
  },
  "language_info": {
   "codemirror_mode": {
    "name": "ipython",
    "version": 3
   },
   "file_extension": ".py",
   "mimetype": "text/x-python",
   "name": "python",
   "nbconvert_exporter": "python",
   "pygments_lexer": "ipython3",
   "version": "3.6.4"
  }
 },
 "nbformat": 4,
 "nbformat_minor": 2
}
