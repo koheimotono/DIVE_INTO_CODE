{
 "cells": [
  {
   "cell_type": "markdown",
   "metadata": {},
   "source": [
    "# Sprint 深層学習スクラッチ ディープニューラルネットワーク"
   ]
  },
  {
   "cell_type": "markdown",
   "metadata": {},
   "source": [
    "## Sprintの目的\n",
    "スクラッチを通してニューラルネットワークの発展的内容を理解する"
   ]
  },
  {
   "cell_type": "code",
   "execution_count": 1,
   "metadata": {
    "collapsed": true,
    "jupyter": {
     "outputs_hidden": true
    }
   },
   "outputs": [
    {
     "name": "stderr",
     "output_type": "stream",
     "text": [
      "/anaconda3/lib/python3.6/site-packages/h5py/__init__.py:36: FutureWarning: Conversion of the second argument of issubdtype from `float` to `np.floating` is deprecated. In future, it will be treated as `np.float64 == np.dtype(float).type`.\n",
      "  from ._conv import register_converters as _register_converters\n",
      "Using TensorFlow backend.\n",
      "/anaconda3/lib/python3.6/site-packages/tensorflow/python/framework/dtypes.py:516: FutureWarning: Passing (type, 1) or '1type' as a synonym of type is deprecated; in a future version of numpy, it will be understood as (type, (1,)) / '(1,)type'.\n",
      "  _np_qint8 = np.dtype([(\"qint8\", np.int8, 1)])\n",
      "/anaconda3/lib/python3.6/site-packages/tensorflow/python/framework/dtypes.py:517: FutureWarning: Passing (type, 1) or '1type' as a synonym of type is deprecated; in a future version of numpy, it will be understood as (type, (1,)) / '(1,)type'.\n",
      "  _np_quint8 = np.dtype([(\"quint8\", np.uint8, 1)])\n",
      "/anaconda3/lib/python3.6/site-packages/tensorflow/python/framework/dtypes.py:518: FutureWarning: Passing (type, 1) or '1type' as a synonym of type is deprecated; in a future version of numpy, it will be understood as (type, (1,)) / '(1,)type'.\n",
      "  _np_qint16 = np.dtype([(\"qint16\", np.int16, 1)])\n",
      "/anaconda3/lib/python3.6/site-packages/tensorflow/python/framework/dtypes.py:519: FutureWarning: Passing (type, 1) or '1type' as a synonym of type is deprecated; in a future version of numpy, it will be understood as (type, (1,)) / '(1,)type'.\n",
      "  _np_quint16 = np.dtype([(\"quint16\", np.uint16, 1)])\n",
      "/anaconda3/lib/python3.6/site-packages/tensorflow/python/framework/dtypes.py:520: FutureWarning: Passing (type, 1) or '1type' as a synonym of type is deprecated; in a future version of numpy, it will be understood as (type, (1,)) / '(1,)type'.\n",
      "  _np_qint32 = np.dtype([(\"qint32\", np.int32, 1)])\n",
      "/anaconda3/lib/python3.6/site-packages/tensorflow/python/framework/dtypes.py:525: FutureWarning: Passing (type, 1) or '1type' as a synonym of type is deprecated; in a future version of numpy, it will be understood as (type, (1,)) / '(1,)type'.\n",
      "  np_resource = np.dtype([(\"resource\", np.ubyte, 1)])\n",
      "/anaconda3/lib/python3.6/site-packages/tensorboard/compat/tensorflow_stub/dtypes.py:541: FutureWarning: Passing (type, 1) or '1type' as a synonym of type is deprecated; in a future version of numpy, it will be understood as (type, (1,)) / '(1,)type'.\n",
      "  _np_qint8 = np.dtype([(\"qint8\", np.int8, 1)])\n",
      "/anaconda3/lib/python3.6/site-packages/tensorboard/compat/tensorflow_stub/dtypes.py:542: FutureWarning: Passing (type, 1) or '1type' as a synonym of type is deprecated; in a future version of numpy, it will be understood as (type, (1,)) / '(1,)type'.\n",
      "  _np_quint8 = np.dtype([(\"quint8\", np.uint8, 1)])\n",
      "/anaconda3/lib/python3.6/site-packages/tensorboard/compat/tensorflow_stub/dtypes.py:543: FutureWarning: Passing (type, 1) or '1type' as a synonym of type is deprecated; in a future version of numpy, it will be understood as (type, (1,)) / '(1,)type'.\n",
      "  _np_qint16 = np.dtype([(\"qint16\", np.int16, 1)])\n",
      "/anaconda3/lib/python3.6/site-packages/tensorboard/compat/tensorflow_stub/dtypes.py:544: FutureWarning: Passing (type, 1) or '1type' as a synonym of type is deprecated; in a future version of numpy, it will be understood as (type, (1,)) / '(1,)type'.\n",
      "  _np_quint16 = np.dtype([(\"quint16\", np.uint16, 1)])\n",
      "/anaconda3/lib/python3.6/site-packages/tensorboard/compat/tensorflow_stub/dtypes.py:545: FutureWarning: Passing (type, 1) or '1type' as a synonym of type is deprecated; in a future version of numpy, it will be understood as (type, (1,)) / '(1,)type'.\n",
      "  _np_qint32 = np.dtype([(\"qint32\", np.int32, 1)])\n",
      "/anaconda3/lib/python3.6/site-packages/tensorboard/compat/tensorflow_stub/dtypes.py:550: FutureWarning: Passing (type, 1) or '1type' as a synonym of type is deprecated; in a future version of numpy, it will be understood as (type, (1,)) / '(1,)type'.\n",
      "  np_resource = np.dtype([(\"resource\", np.ubyte, 1)])\n"
     ]
    }
   ],
   "source": [
    "import numpy as np\n",
    "import math\n",
    "import matplotlib.pyplot as plt\n",
    "%matplotlib inline\n",
    "\n",
    "from keras.datasets import mnist\n",
    "\n",
    "from sklearn.preprocessing import OneHotEncoder\n",
    "from sklearn.model_selection import train_test_split\n",
    "\n",
    "from sklearn.metrics import accuracy_score\n",
    "from sklearn.metrics import precision_score\n",
    "from sklearn.metrics import recall_score\n",
    "from sklearn.metrics import f1_score\n",
    "from sklearn.metrics import confusion_matrix"
   ]
  },
  {
   "cell_type": "code",
   "execution_count": 171,
   "metadata": {},
   "outputs": [],
   "source": [
    "(X_train, y_train), (X_test, y_test) = mnist.load_data()"
   ]
  },
  {
   "cell_type": "markdown",
   "metadata": {},
   "source": [
    "### データセットの確認"
   ]
  },
  {
   "cell_type": "code",
   "execution_count": 172,
   "metadata": {},
   "outputs": [
    {
     "name": "stdout",
     "output_type": "stream",
     "text": [
      "(60000, 28, 28)\n",
      "(10000, 28, 28)\n",
      "uint8\n"
     ]
    }
   ],
   "source": [
    "print(X_train.shape) # (60000, 28, 28)\n",
    "print(X_test.shape) # (10000, 28, 28)\n",
    "print(X_train[0].dtype) # uint8\n",
    "#print(X_train[0])"
   ]
  },
  {
   "cell_type": "markdown",
   "metadata": {},
   "source": [
    "### 平滑化"
   ]
  },
  {
   "cell_type": "code",
   "execution_count": 173,
   "metadata": {},
   "outputs": [],
   "source": [
    "X_train = X_train.reshape(-1, 784)\n",
    "X_test = X_test.reshape(-1, 784)"
   ]
  },
  {
   "cell_type": "markdown",
   "metadata": {},
   "source": [
    "### 画像データの可視化"
   ]
  },
  {
   "cell_type": "code",
   "execution_count": 174,
   "metadata": {},
   "outputs": [
    {
     "data": {
      "image/png": "[encoded data removed]",
      "text/plain": [
       "<matplotlib.figure.Figure at 0x1a60038eb8>"
      ]
     },
     "metadata": {},
     "output_type": "display_data"
    }
   ],
   "source": [
    "index = 0\n",
    "image = X_train[index].reshape(28,28)\n",
    "# X_train[index]: (784,)\n",
    "# image: (28, 28)\n",
    "plt.imshow(image, 'gray')\n",
    "plt.title('label : {}'.format(y_train[index]))\n",
    "plt.show()"
   ]
  },
  {
   "cell_type": "markdown",
   "metadata": {},
   "source": [
    "### 前処理"
   ]
  },
  {
   "cell_type": "code",
   "execution_count": 175,
   "metadata": {},
   "outputs": [
    {
     "name": "stdout",
     "output_type": "stream",
     "text": [
      "1.0\n",
      "0.0\n"
     ]
    }
   ],
   "source": [
    "X_train = X_train.astype(np.float)\n",
    "X_test = X_test.astype(np.float)\n",
    "X_train /= 255\n",
    "X_test /= 255\n",
    "print(X_train.max()) # 1.0\n",
    "print(X_train.min()) # 0.0"
   ]
  },
  {
   "cell_type": "code",
   "execution_count": 176,
   "metadata": {},
   "outputs": [
    {
     "name": "stdout",
     "output_type": "stream",
     "text": [
      "(60000,)\n",
      "(60000, 10)\n",
      "float64\n"
     ]
    }
   ],
   "source": [
    "enc = OneHotEncoder(handle_unknown='ignore', sparse=False)\n",
    "y_train_one_hot = enc.fit_transform(y_train[:, np.newaxis])\n",
    "y_test_one_hot = enc.transform(y_test[:, np.newaxis])\n",
    "print(y_train.shape) # (60000,)\n",
    "print(y_train_one_hot.shape) # (60000, 10)\n",
    "print(y_train_one_hot.dtype) # float64"
   ]
  },
  {
   "cell_type": "code",
   "execution_count": 8,
   "metadata": {},
   "outputs": [
    {
     "name": "stdout",
     "output_type": "stream",
     "text": [
      "X_train.shape = (48000, 784)\n",
      "X_val.shape = (12000, 784)\n",
      "y_train.shape = (48000, 10)\n",
      "y_val.shape = (12000, 10)\n"
     ]
    }
   ],
   "source": [
    "X_train_, X_val, y_train_, y_val = train_test_split(X_train, y_train_one_hot, test_size=0.2)\n",
    "print(\"X_train.shape =\", X_train_.shape) # (48000, 784)\n",
    "print(\"X_val.shape =\", X_val.shape) # (12000, 784)\n",
    "print(\"y_train.shape =\", y_train_.shape) # (48000, 784)\n",
    "print(\"y_val.shape =\", y_val.shape) # (12000, 784)"
   ]
  },
  {
   "cell_type": "markdown",
   "metadata": {},
   "source": [
    "## ニューラルネットワークスクラッチ"
   ]
  },
  {
   "cell_type": "markdown",
   "metadata": {},
   "source": [
    "## 【問題1】全結合層のクラス化"
   ]
  },
  {
   "cell_type": "code",
   "execution_count": 256,
   "metadata": {},
   "outputs": [],
   "source": [
    "class FC:\n",
    "    \"\"\"\n",
    "    ノード数n_nodes1からn_nodes2への全結合層\n",
    "    Parameters\n",
    "    ----------\n",
    "    n_nodes1 : int\n",
    "      前の層のノード数\n",
    "    n_nodes2 : int\n",
    "      後の層のノード数\n",
    "    initializer : 初期化方法のインスタンス\n",
    "    optimizer : 最適化手法のインスタンス\n",
    "    \"\"\"\n",
    "    def __init__(self, n_nodes1, n_nodes2, initializer, optimizer):\n",
    "        self.optimizer = optimizer\n",
    "        # 初期化\n",
    "        # initializerのメソッドを使い、self.Wとself.Bを初期化する\n",
    "        self.W = initializer.W(n_nodes1, n_nodes2)\n",
    "        self.B = initializer.B(n_nodes2)\n",
    "        \n",
    "    def forward(self, X):\n",
    "        \"\"\"\n",
    "        フォワード\n",
    "        Parameters\n",
    "        ----------\n",
    "        X : 次の形のndarray, shape (batch_size, n_nodes1)\n",
    "            入力\n",
    "        Returns\n",
    "        ----------\n",
    "        A : 次の形のndarray, shape (batch_size, n_nodes2)\n",
    "            出力\n",
    "        \"\"\"\n",
    "        self.X = X\n",
    "        A = X@self.W + self.B\n",
    "        return A\n",
    "    \n",
    "    def backward(self, dA):\n",
    "        \"\"\"\n",
    "        バックワード\n",
    "        Parameters\n",
    "        ----------\n",
    "        dA : 次の形のndarray, shape (batch_size, n_nodes2)\n",
    "            後ろから流れてきた勾配\n",
    "        Returns\n",
    "        ----------\n",
    "        dZ : 次の形のndarray, shape (batch_size, n_nodes1)\n",
    "            前に流す勾配\n",
    "        \"\"\"\n",
    "        dZ = dA@self.W.T\n",
    "        self.dB = np.sum(dA, axis=0)\n",
    "        self.dW = self.X.T@dA\n",
    "        self.optimizer.update(self)\n",
    "        return dZ"
   ]
  },
  {
   "cell_type": "markdown",
   "metadata": {},
   "source": [
    "## 【問題2】初期化方法のクラス化"
   ]
  },
  {
   "cell_type": "code",
   "execution_count": 251,
   "metadata": {},
   "outputs": [],
   "source": [
    "class SimpleInitializer:\n",
    "    \"\"\"\n",
    "    ガウス分布によるシンプルな初期化\n",
    "    Parameters\n",
    "    ----------\n",
    "    sigma : float\n",
    "      ガウス分布の標準偏差\n",
    "    \"\"\"\n",
    "    def __init__(self, sigma):\n",
    "        self.sigma = sigma\n",
    "    def W(self, n_nodes1, n_nodes2):\n",
    "        \"\"\"\n",
    "        重みの初期化\n",
    "        Parameters\n",
    "        ----------\n",
    "        n_nodes1 : int\n",
    "          前の層のノード数\n",
    "        n_nodes2 : int\n",
    "          後の層のノード数\n",
    "\n",
    "        Returns\n",
    "        ----------\n",
    "        W : (n_nodes1, n_nodes2)\n",
    "        \"\"\"\n",
    "        W = self.sigma * np.random.randn(n_nodes1, n_nodes2)\n",
    "        return W\n",
    "    def B(self, n_nodes2):\n",
    "        \"\"\"\n",
    "        バイアスの初期化\n",
    "        Parameters\n",
    "        ----------\n",
    "        n_nodes2 : int\n",
    "          後の層のノード数\n",
    "\n",
    "        Returns\n",
    "        ----------\n",
    "        B : (n_nodes2,)\n",
    "        \"\"\"\n",
    "        B = self.sigma * np.random.randn(n_nodes2)\n",
    "        return B"
   ]
  },
  {
   "cell_type": "markdown",
   "metadata": {},
   "source": [
    "## 【問題3】最適化手法のクラス化"
   ]
  },
  {
   "cell_type": "code",
   "execution_count": 253,
   "metadata": {},
   "outputs": [],
   "source": [
    "class SGD:\n",
    "    \"\"\"\n",
    "    確率的勾配降下法\n",
    "    Parameters\n",
    "    ----------\n",
    "    lr : 学習率\n",
    "    \"\"\"\n",
    "    def __init__(self, lr):\n",
    "        self.lr = lr\n",
    "    \n",
    "    def update(self, layer):\n",
    "        \"\"\"\n",
    "        ある層の重みやバイアスの更新\n",
    "        Parameters\n",
    "        ----------\n",
    "        layer : 更新前の層のインスタンス\n",
    "\n",
    "        Returns\n",
    "        ----------\n",
    "        layer : 更新後の層のインスタンス\n",
    "        \"\"\"\n",
    "        layer.W -= self.lr * layer.dW\n",
    "        layer.B -= self.lr * layer.dB\n",
    "        return"
   ]
  },
  {
   "cell_type": "markdown",
   "metadata": {},
   "source": [
    "## 【問題4】活性化関数のクラス化"
   ]
  },
  {
   "cell_type": "code",
   "execution_count": 131,
   "metadata": {},
   "outputs": [],
   "source": [
    "class ActSigmoid:\n",
    "    \n",
    "    def forward(self, A):\n",
    "        self.A = A\n",
    "        return self.sigmoid(A)\n",
    "    \n",
    "    def backward(self, dZ):\n",
    "        _sig = self.sigmoid(self.A)\n",
    "        return dZ * (1 - _sig)*_sig\n",
    "    \n",
    "    def sigmoid(self, X):\n",
    "        return 1 / (1 + np.exp(-X))"
   ]
  },
  {
   "cell_type": "code",
   "execution_count": 13,
   "metadata": {},
   "outputs": [],
   "source": [
    "class ActTanh:\n",
    "    \n",
    "    def forward(self, A):\n",
    "        self.A = A\n",
    "        return np.tanh(A)\n",
    "    \n",
    "    def backward(self, dZ):\n",
    "        return dZ * (1 - (np.tanh(self.A))**2)"
   ]
  },
  {
   "cell_type": "code",
   "execution_count": 55,
   "metadata": {},
   "outputs": [],
   "source": [
    "class ActSoftmax:\n",
    "    \n",
    "    def forward(self, X):\n",
    "        self.Z = np.exp(X) / np.sum(np.exp(X), axis=1).reshape(-1,1)\n",
    "        return self.Z\n",
    "    \n",
    "    def backward(self, Y):\n",
    "        self.loss = self.loss_func(Y)\n",
    "        return self.Z - Y\n",
    "    \n",
    "    def loss_func(self, Y, Z=None):\n",
    "        \"\"\"\n",
    "        y_true : (n_samples, n_output)\n",
    "        z : (n_samples, n_output)\n",
    "        \"\"\"\n",
    "        if Z is None:\n",
    "            Z = self.Z\n",
    "        return (-1)*np.average(np.sum(Y*np.log(Z), axis=1))"
   ]
  },
  {
   "cell_type": "markdown",
   "metadata": {},
   "source": [
    "## 【問題5】ReLUクラスの作成"
   ]
  },
  {
   "cell_type": "code",
   "execution_count": 132,
   "metadata": {},
   "outputs": [],
   "source": [
    "class ActReLU:\n",
    "    def forward(self, A):\n",
    "        self.A = A\n",
    "        return np.clip(A, 0, None)\n",
    "    \n",
    "    def backward(self, dZ):\n",
    "        return dZ * np.clip(np.sign(self.A), 0, None)"
   ]
  },
  {
   "cell_type": "markdown",
   "metadata": {},
   "source": [
    "## 【問題6】重みの初期値"
   ]
  },
  {
   "cell_type": "code",
   "execution_count": 162,
   "metadata": {},
   "outputs": [],
   "source": [
    "class XavierInitializer:\n",
    "    def W(self, n_nodes1, n_nodes2):\n",
    "        self.sigma = math.sqrt(1 / n_nodes1)\n",
    "        W = self.sigma * np.random.randn(n_nodes1, n_nodes2)\n",
    "        return W\n",
    "    def B(self, n_nodes2):\n",
    "        B = self.sigma * np.random.randn(n_nodes2)\n",
    "        return B"
   ]
  },
  {
   "cell_type": "code",
   "execution_count": 163,
   "metadata": {},
   "outputs": [],
   "source": [
    "class HeInitializer():\n",
    "    def W(self, n_nodes1, n_nodes2):\n",
    "        self.sigma = math.sqrt(2 / n_nodes1)\n",
    "        W = self.sigma * np.random.randn(n_nodes1, n_nodes2)\n",
    "        return W\n",
    "    def B(self, n_nodes2):\n",
    "        B = self.sigma * np.random.randn(n_nodes2)\n",
    "        return B"
   ]
  },
  {
   "cell_type": "markdown",
   "metadata": {},
   "source": [
    "## 【問題7】最適化手法"
   ]
  },
  {
   "cell_type": "code",
   "execution_count": 255,
   "metadata": {},
   "outputs": [],
   "source": [
    "class AdaGrad:\n",
    "    \n",
    "    def __init__(self, lr):\n",
    "        self.lr = lr\n",
    "        self.HW = 1\n",
    "        self.HB = 1\n",
    "    \n",
    "    def update(self, layer):\n",
    "        self.HW += layer.dW**2\n",
    "        self.HB += layer.dB**2\n",
    "        layer.W -= self.lr * np.sqrt(1/self.HW) * layer.dW\n",
    "        layer.B -= self.lr * np.sqrt(1/self.HB) * layer.dB"
   ]
  },
  {
   "cell_type": "markdown",
   "metadata": {},
   "source": [
    "## 【問題8】クラスの完成"
   ]
  },
  {
   "cell_type": "code",
   "execution_count": 195,
   "metadata": {},
   "outputs": [],
   "source": [
    "class ScratchDeepNeuralNetrowkClassifier:\n",
    "    \n",
    "    def __init__(self, num_epoch=10, lr=0.01, batch_size=20, \n",
    "                 n_features=784, n_nodes1=400, n_nodes2=200, n_output=10, \n",
    "                 verbose=True, Activater=ActTanh, Optimizer=AdaGrad):\n",
    "        self.num_epoch = num_epoch\n",
    "        self.lr = lr\n",
    "        self.verbose = verbose\n",
    "        \n",
    "        self.batch_size = batch_size # バッチサイズ\n",
    "        self.n_features = n_features # 特徴量の数\n",
    "        self.n_nodes1 = n_nodes1 # 1層目のノード数\n",
    "        self.n_nodes2 = n_nodes2 # 2層目のノード数\n",
    "        self.n_output = n_output # 出力のクラス数（3層目のノード数）\n",
    "        \n",
    "        self.Activater = Activater\n",
    "        if Activater == ActSigmoid or Activater == ActTanh:\n",
    "            self.Initializer = XavierInitializer\n",
    "        elif Activater == ActReLU:\n",
    "            self.Initializer = HeInitializer\n",
    "        else:\n",
    "            print(\"活性化関数が不適切\")\n",
    "        self.Optimizer = Optimizer\n",
    "    \n",
    "    def fit(self, X, y, X_val=None, y_val=None):\n",
    "        \n",
    "        self.val_enable = False\n",
    "        if X_val is not None:\n",
    "            self.val_enable = True\n",
    "        \n",
    "        #optimizer = self.Optimizer(self.lr)\n",
    "        self.FC1 = FC(self.n_features, self.n_nodes1, self.Initializer(), self.Optimizer(self.lr))\n",
    "        self.activation1 = self.Activater()\n",
    "        self.FC2 = FC(self.n_nodes1, self.n_nodes2, self.Initializer(), self.Optimizer(self.lr))\n",
    "        self.activation2 = self.Activater()\n",
    "        self.FC3 = FC(self.n_nodes2, self.n_output, self.Initializer(), self.Optimizer(self.lr))\n",
    "        self.activation3 = ActSoftmax()\n",
    "        \n",
    "        self.loss = []\n",
    "        self.loss_epoch = [self.activation3.loss_func(y, self.forward_propagation(X))]\n",
    "        for _ in range(self.num_epoch):\n",
    "            get_mini_batch = GetMiniBatch(X, y, batch_size=self.batch_size)\n",
    "            self.iter = len(get_mini_batch)\n",
    "            for mini_X, mini_y in get_mini_batch:\n",
    "                self.forward_propagation(mini_X)\n",
    "                self.back_propagation(mini_X, mini_y)\n",
    "                self.loss.append(self.activation3.loss)\n",
    "            self.loss_epoch.append(self.activation3.loss_func(y, self.forward_propagation(X)))\n",
    "        \n",
    "        if self.verbose:\n",
    "            self.learning_curve()\n",
    "            print()\n",
    "        \n",
    "    def predict(self, X):\n",
    "        return np.argmax(self.forward_propagation(X), axis=1)\n",
    "    \n",
    "    def forward_propagation(self, X):\n",
    "        A1 = self.FC1.forward(X)\n",
    "        Z1 = self.activation1.forward(A1)\n",
    "        A2 = self.FC2.forward(Z1)\n",
    "        Z2 = self.activation2.forward(A2)\n",
    "        A3 = self.FC3.forward(Z2)\n",
    "        Z3 = self.activation3.forward(A3)\n",
    "        return Z3\n",
    "        \n",
    "    def back_propagation(self, X, y_true):\n",
    "        dA3 = self.activation3.backward(y_true) # 交差エントロピー誤差とソフトマックスを合わせている\n",
    "        dZ2 = self.FC3.backward(dA3)\n",
    "        dA2 = self.activation2.backward(dZ2)\n",
    "        dZ1 = self.FC2.backward(dA2)\n",
    "        dA1 = self.activation1.backward(dZ1)\n",
    "        dZ0 = self.FC1.backward(dA1) # dZ0は使用しない\n",
    "    \n",
    "    def learning_curve(self):\n",
    "        plt.title(\"model loss\")\n",
    "        plt.xlabel(\"num_epoch\")\n",
    "        plt.ylabel(\"loss\")\n",
    "        plt.plot(np.arange(1, self.num_epoch*self.iter + 1), self.loss, label=\"train_loss\")\n",
    "        plt.plot(np.arange(0, self.num_epoch + 1)*self.iter, self.loss_epoch, label=\"epoch_loss\")\n",
    "        if self.val_enable:\n",
    "            plt.plot(np.arange(1, self.num_epoch + 1), self.val_loss, label=\"val_loss\")\n",
    "        plt.legend()\n",
    "        plt.show()\n",
    "        return"
   ]
  },
  {
   "cell_type": "code",
   "execution_count": 20,
   "metadata": {},
   "outputs": [],
   "source": [
    "class GetMiniBatch:\n",
    "    \"\"\"\n",
    "    ミニバッチを取得するイテレータ\n",
    "\n",
    "    Parameters\n",
    "    ----------\n",
    "    X : 次の形のndarray, shape (n_samples, n_features)\n",
    "      訓練用データ\n",
    "    y : 次の形のndarray, shape (n_samples, 1)\n",
    "      正解値\n",
    "    batch_size : int\n",
    "      バッチサイズ\n",
    "    seed : int\n",
    "      NumPyの乱数のシード\n",
    "    \"\"\"\n",
    "    def __init__(self, X, y, batch_size = 20, seed=0):\n",
    "        self.batch_size = batch_size\n",
    "        np.random.seed(seed)\n",
    "        shuffle_index = np.random.permutation(np.arange(X.shape[0]))\n",
    "        self._X = X[shuffle_index]\n",
    "        self._y = y[shuffle_index]\n",
    "        self._stop = np.ceil(X.shape[0]/self.batch_size).astype(np.int)\n",
    "\n",
    "    def __len__(self):\n",
    "        return self._stop\n",
    "\n",
    "    def __getitem__(self,item):\n",
    "        p0 = item*self.batch_size\n",
    "        p1 = item*self.batch_size + self.batch_size\n",
    "        return self._X[p0:p1], self._y[p0:p1]        \n",
    "\n",
    "    def __iter__(self):\n",
    "        self._counter = 0\n",
    "        return self\n",
    "\n",
    "    def __next__(self):\n",
    "        if self._counter >= self._stop:\n",
    "            raise StopIteration()\n",
    "        p0 = self._counter*self.batch_size\n",
    "        p1 = self._counter*self.batch_size + self.batch_size\n",
    "        self._counter += 1\n",
    "        return self._X[p0:p1], self._y[p0:p1]"
   ]
  },
  {
   "cell_type": "markdown",
   "metadata": {},
   "source": [
    "## 【問題9】学習と推定"
   ]
  },
  {
   "cell_type": "code",
   "execution_count": 21,
   "metadata": {},
   "outputs": [],
   "source": [
    "def evaluate(y_true, y_pred):\n",
    "    print(\"accuracy =\", accuracy_score(y_true, y_pred))\n",
    "    print(\"precision =\", precision_score(y_true, y_pred, average='macro'))\n",
    "    print(\"recall =\", recall_score(y_true, y_pred, average='macro'))\n",
    "    print(\"f1 =\", f1_score(y_true, y_pred, average='macro'))\n",
    "    print(confusion_matrix(y_true, y_pred))"
   ]
  },
  {
   "cell_type": "markdown",
   "metadata": {},
   "source": [
    "### scratch_dnn1(num_epoch=5, lr=1e-2, Activater=ActTanh, Optimizer=SGD)"
   ]
  },
  {
   "cell_type": "code",
   "execution_count": 168,
   "metadata": {},
   "outputs": [
    {
     "data": {
      "image/png": "[encoded data removed]",
      "text/plain": [
       "<matplotlib.figure.Figure at 0x1a69f10be0>"
      ]
     },
     "metadata": {},
     "output_type": "display_data"
    },
    {
     "name": "stdout",
     "output_type": "stream",
     "text": [
      "\n"
     ]
    }
   ],
   "source": [
    "scratch_dnn1 = ScratchDeepNeuralNetrowkClassifier(num_epoch=5, lr=0.01, batch_size=20, \n",
    "                                                  n_features=784, n_nodes1=400, n_nodes2=200, n_output=10, \n",
    "                                                  verbose=True, Activater=ActTanh, Optimizer=SGD)\n",
    "scratch_dnn1.fit(X_train_, y_train_)"
   ]
  },
  {
   "cell_type": "code",
   "execution_count": 169,
   "metadata": {},
   "outputs": [],
   "source": [
    "y_pred1 = scratch_dnn1.predict(X_test)"
   ]
  },
  {
   "cell_type": "code",
   "execution_count": 170,
   "metadata": {},
   "outputs": [
    {
     "name": "stdout",
     "output_type": "stream",
     "text": [
      "accuracy = 0.9729\n",
      "precision = 0.9729655867842055\n",
      "recall = 0.9726195329174185\n",
      "f1 = 0.9726894439228954\n",
      "[[ 971    0    0    0    0    2    4    0    1    2]\n",
      " [   1 1126    2    2    0    1    2    0    1    0]\n",
      " [   6    0  998    5    2    1    5    7    8    0]\n",
      " [   0    0    4  985    0    2    1    8    0   10]\n",
      " [   2    0    1    1  952    1    9    2    0   14]\n",
      " [   3    0    0    7    1  861    6    1    6    7]\n",
      " [   5    2    0    0    1    5  945    0    0    0]\n",
      " [   1    9    8    1    1    0    0  988    1   19]\n",
      " [   6    2    4    9    8    6    5    3  920   11]\n",
      " [   2    4    0    3    9    2    2    4    0  983]]\n"
     ]
    }
   ],
   "source": [
    "evaluate(y_test, y_pred1)"
   ]
  },
  {
   "cell_type": "markdown",
   "metadata": {},
   "source": [
    "### scratch_dnn3(num_epoch=20, lr=1e-2, Activater=ActTanh, Optimizer=SGD)"
   ]
  },
  {
   "cell_type": "code",
   "execution_count": 100,
   "metadata": {},
   "outputs": [
    {
     "data": {
      "image/png": "[encoded data removed]",
      "text/plain": [
       "<matplotlib.figure.Figure at 0x1a5e3a0748>"
      ]
     },
     "metadata": {},
     "output_type": "display_data"
    },
    {
     "name": "stdout",
     "output_type": "stream",
     "text": [
      "\n"
     ]
    }
   ],
   "source": [
    "scratch_dnn3 = ScratchDeepNeuralNetrowkClassifier(num_epoch=20, lr=0.01, batch_size=20, \n",
    "                                                  n_features=784, n_nodes1=400, n_nodes2=200, n_output=10, \n",
    "                                                  verbose=True, Activater=ActTanh, Optimizer=SGD)\n",
    "scratch_dnn3.fit(X_train_, y_train_)"
   ]
  },
  {
   "cell_type": "code",
   "execution_count": 101,
   "metadata": {},
   "outputs": [],
   "source": [
    "y_pred3 = scratch_dnn3.predict(X_test)"
   ]
  },
  {
   "cell_type": "code",
   "execution_count": 102,
   "metadata": {},
   "outputs": [
    {
     "name": "stdout",
     "output_type": "stream",
     "text": [
      "accuracy = 0.9798\n",
      "precision = 0.9797196646658135\n",
      "recall = 0.9795570379961399\n",
      "f1 = 0.9796233139009647\n",
      "[[ 973    0    0    1    0    1    1    0    3    1]\n",
      " [   0 1127    1    3    0    0    2    0    2    0]\n",
      " [   5    1 1006    4    1    0    4    6    5    0]\n",
      " [   0    0    4  992    0    3    0    4    4    3]\n",
      " [   0    0    2    0  962    1    5    2    0   10]\n",
      " [   4    0    0    9    1  864    5    1    4    4]\n",
      " [   5    2    1    1    3    3  943    0    0    0]\n",
      " [   0    5   10    1    1    0    0 1004    4    3]\n",
      " [   2    0    3    3    4    3    4    5  947    3]\n",
      " [   2    2    0    5    9    2    1    7    1  980]]\n"
     ]
    }
   ],
   "source": [
    "evaluate(y_test, y_pred3)"
   ]
  },
  {
   "cell_type": "markdown",
   "metadata": {},
   "source": [
    "### scratch_dnn9(num_epoch=5, lr=1e-2, Activater=ActSigmoid, Optimizer=SGD)"
   ]
  },
  {
   "cell_type": "code",
   "execution_count": 223,
   "metadata": {},
   "outputs": [
    {
     "data": {
      "image/png": "[encoded data removed]",
      "text/plain": [
       "<matplotlib.figure.Figure at 0x1a737daac8>"
      ]
     },
     "metadata": {},
     "output_type": "display_data"
    },
    {
     "name": "stdout",
     "output_type": "stream",
     "text": [
      "\n"
     ]
    }
   ],
   "source": [
    "scratch_dnn9 = ScratchDeepNeuralNetrowkClassifier(num_epoch=5, lr=0.01, batch_size=20, \n",
    "                                                  n_features=784, n_nodes1=400, n_nodes2=200, n_output=10, \n",
    "                                                  verbose=True, Activater=ActSigmoid, Optimizer=SGD)\n",
    "scratch_dnn9.fit(X_train_, y_train_)"
   ]
  },
  {
   "cell_type": "code",
   "execution_count": 224,
   "metadata": {},
   "outputs": [],
   "source": [
    "y_pred9 = scratch_dnn9.predict(X_test)"
   ]
  },
  {
   "cell_type": "code",
   "execution_count": 225,
   "metadata": {},
   "outputs": [
    {
     "name": "stdout",
     "output_type": "stream",
     "text": [
      "accuracy = 0.9556\n",
      "precision = 0.956520615345864\n",
      "recall = 0.9547864838713649\n",
      "f1 = 0.9552011769096247\n",
      "[[ 963    0    1    3    0    3    6    1    1    2]\n",
      " [   0 1125    2    2    0    2    2    1    1    0]\n",
      " [   6    3  987   13    3    0   11    7    1    1]\n",
      " [   1    0    4  992    0    1    0    6    3    3]\n",
      " [   1    3    4    1  923    2   16    2    3   27]\n",
      " [   9    1    2   33    2  825    9    1    4    6]\n",
      " [   7    3    0    2    3    9  931    0    3    0]\n",
      " [   1   14   15   11    2    1    0  974    1    9]\n",
      " [   4    6    6   37    5    9    9    6  891    1]\n",
      " [   4   10    1   18   17    3    1   10    0  945]]\n"
     ]
    }
   ],
   "source": [
    "evaluate(y_test, y_pred9)"
   ]
  },
  {
   "cell_type": "markdown",
   "metadata": {},
   "source": [
    "### scratch_dnn10(num_epoch=20, lr=1e-2, Activater=ActSigmoid, Optimizer=SGD)"
   ]
  },
  {
   "cell_type": "code",
   "execution_count": 136,
   "metadata": {},
   "outputs": [
    {
     "data": {
      "image/png": "[encoded data removed]",
      "text/plain": [
       "<matplotlib.figure.Figure at 0x1a95b4e5f8>"
      ]
     },
     "metadata": {},
     "output_type": "display_data"
    },
    {
     "name": "stdout",
     "output_type": "stream",
     "text": [
      "\n"
     ]
    }
   ],
   "source": [
    "scratch_dnn10 = ScratchDeepNeuralNetrowkClassifier(num_epoch=20, lr=0.01, batch_size=20, \n",
    "                                                  n_features=784, n_nodes1=400, n_nodes2=200, n_output=10, \n",
    "                                                  verbose=True, Activater=ActSigmoid, Optimizer=SGD)\n",
    "scratch_dnn10.fit(X_train_, y_train_)"
   ]
  },
  {
   "cell_type": "code",
   "execution_count": 137,
   "metadata": {},
   "outputs": [],
   "source": [
    "y_pred10 = scratch_dnn10.predict(X_test)"
   ]
  },
  {
   "cell_type": "code",
   "execution_count": 138,
   "metadata": {},
   "outputs": [
    {
     "name": "stdout",
     "output_type": "stream",
     "text": [
      "accuracy = 0.9765\n",
      "precision = 0.9766194956705843\n",
      "recall = 0.9762205425317182\n",
      "f1 = 0.9763584238800951\n",
      "[[ 966    0    2    1    1    3    1    2    2    2]\n",
      " [   0 1128    1    2    0    1    2    0    1    0]\n",
      " [   4    2 1008    7    2    0    1    5    3    0]\n",
      " [   0    0    6  993    0    2    0    3    1    5]\n",
      " [   2    0    3    0  945    0    6    3    1   22]\n",
      " [   3    0    0    9    2  867    5    1    2    3]\n",
      " [   4    3    1    0    3    6  941    0    0    0]\n",
      " [   1    9    8    4    0    0    1  995    1    9]\n",
      " [   2    0    5   13    0    4    4    2  939    5]\n",
      " [   2    2    0    7    6    3    2    4    0  983]]\n"
     ]
    }
   ],
   "source": [
    "evaluate(y_test, y_pred10)"
   ]
  },
  {
   "cell_type": "markdown",
   "metadata": {},
   "source": [
    "### scratch_dnn2(num_epoch=5, lr=1e-2, Activater=ActTanh, Optimizer=AdaGrad)"
   ]
  },
  {
   "cell_type": "code",
   "execution_count": 233,
   "metadata": {},
   "outputs": [
    {
     "data": {
      "image/png": "[encoded data removed]",
      "text/plain": [
       "<matplotlib.figure.Figure at 0x1ac90d4a90>"
      ]
     },
     "metadata": {},
     "output_type": "display_data"
    },
    {
     "name": "stdout",
     "output_type": "stream",
     "text": [
      "\n"
     ]
    }
   ],
   "source": [
    "scratch_dnn2 = ScratchDeepNeuralNetrowkClassifier(num_epoch=5, lr=0.01, batch_size=20, \n",
    "                                                  n_features=784, n_nodes1=400, n_nodes2=200, n_output=10, \n",
    "                                                  verbose=True, Activater=ActTanh, Optimizer=AdaGrad)\n",
    "scratch_dnn2.fit(X_train_, y_train_)"
   ]
  },
  {
   "cell_type": "code",
   "execution_count": 234,
   "metadata": {},
   "outputs": [],
   "source": [
    "y_pred2 = scratch_dnn2.predict(X_test)"
   ]
  },
  {
   "cell_type": "code",
   "execution_count": 235,
   "metadata": {},
   "outputs": [
    {
     "name": "stdout",
     "output_type": "stream",
     "text": [
      "accuracy = 0.9674\n",
      "precision = 0.9672298153946016\n",
      "recall = 0.9670671644110446\n",
      "f1 = 0.9671050984825575\n",
      "[[ 969    0    1    1    0    2    5    1    1    0]\n",
      " [   0 1122    2    1    0    1    4    2    3    0]\n",
      " [   5    1  999    4    2    2    5    5    8    1]\n",
      " [   1    0    4  984    0    5    0    9    4    3]\n",
      " [   1    0    2    1  940    0   13    2    2   21]\n",
      " [   4    1    1   11    2  853   10    1    4    5]\n",
      " [   8    3    0    0    3    8  935    0    1    0]\n",
      " [   0    8   14    4    2    1    0  981    2   16]\n",
      " [   4    3    5    6    5    6    6    5  931    3]\n",
      " [   4    7    2    9   12    5    1    7    2  960]]\n"
     ]
    }
   ],
   "source": [
    "evaluate(y_test, y_pred2)"
   ]
  },
  {
   "cell_type": "markdown",
   "metadata": {},
   "source": [
    "### scratch_dnn4(num_epoch=20, lr=1e-2, Activater=ActTanh, Optimizer=AdaGrad)"
   ]
  },
  {
   "cell_type": "code",
   "execution_count": 236,
   "metadata": {},
   "outputs": [
    {
     "data": {
      "image/png": "[encoded data removed]",
      "text/plain": [
       "<matplotlib.figure.Figure at 0x1ac93f0cc0>"
      ]
     },
     "metadata": {},
     "output_type": "display_data"
    },
    {
     "name": "stdout",
     "output_type": "stream",
     "text": [
      "\n"
     ]
    }
   ],
   "source": [
    "scratch_dnn4 = ScratchDeepNeuralNetrowkClassifier(num_epoch=20, lr=0.01, batch_size=20, \n",
    "                                                  n_features=784, n_nodes1=400, n_nodes2=200, n_output=10, \n",
    "                                                  verbose=True, Activater=ActTanh, Optimizer=AdaGrad)\n",
    "scratch_dnn4.fit(X_train_, y_train_)"
   ]
  },
  {
   "cell_type": "code",
   "execution_count": 237,
   "metadata": {},
   "outputs": [],
   "source": [
    "y_pred4 = scratch_dnn4.predict(X_test)"
   ]
  },
  {
   "cell_type": "code",
   "execution_count": 238,
   "metadata": {},
   "outputs": [
    {
     "name": "stdout",
     "output_type": "stream",
     "text": [
      "accuracy = 0.9759\n",
      "precision = 0.9758097642349594\n",
      "recall = 0.9756824511541489\n",
      "f1 = 0.9757249423416814\n",
      "[[ 970    0    2    1    0    1    3    2    1    0]\n",
      " [   0 1125    2    1    0    1    2    1    3    0]\n",
      " [   6    1 1005    5    1    0    3    5    6    0]\n",
      " [   0    0    5  988    1    3    0    6    5    2]\n",
      " [   1    0    2    1  949    1    7    2    2   17]\n",
      " [   2    0    0   10    1  866    6    1    3    3]\n",
      " [   5    2    0    0    3    5  942    0    1    0]\n",
      " [   2    4   10    4    0    0    0 1000    3    5]\n",
      " [   4    0    4    6    5    4    2    5  942    2]\n",
      " [   4    5    0    7    8    3    1    9    0  972]]\n"
     ]
    }
   ],
   "source": [
    "evaluate(y_test, y_pred4)"
   ]
  },
  {
   "cell_type": "markdown",
   "metadata": {},
   "source": [
    "### scratch_dnn7(num_epoch=5, lr=0.1, Activater=ActTanh, Optimizer=AdaGrad)"
   ]
  },
  {
   "cell_type": "code",
   "execution_count": 239,
   "metadata": {},
   "outputs": [
    {
     "data": {
      "image/png": "[encoded data removed]",
      "text/plain": [
       "<matplotlib.figure.Figure at 0x1a72f412e8>"
      ]
     },
     "metadata": {},
     "output_type": "display_data"
    },
    {
     "name": "stdout",
     "output_type": "stream",
     "text": [
      "\n"
     ]
    }
   ],
   "source": [
    "scratch_dnn7 = ScratchDeepNeuralNetrowkClassifier(num_epoch=5, lr=0.1, batch_size=20, \n",
    "                                                  n_features=784, n_nodes1=400, n_nodes2=200, n_output=10, \n",
    "                                                  verbose=True, Activater=ActTanh, Optimizer=AdaGrad)\n",
    "scratch_dnn7.fit(X_train_, y_train_)"
   ]
  },
  {
   "cell_type": "code",
   "execution_count": 240,
   "metadata": {},
   "outputs": [],
   "source": [
    "y_pred7 = scratch_dnn7.predict(X_test)"
   ]
  },
  {
   "cell_type": "code",
   "execution_count": 241,
   "metadata": {},
   "outputs": [
    {
     "name": "stdout",
     "output_type": "stream",
     "text": [
      "accuracy = 0.9716\n",
      "precision = 0.9713090003152786\n",
      "recall = 0.971507972552647\n",
      "f1 = 0.971289958587181\n",
      "[[ 965    0    1    0    0    5    5    1    1    2]\n",
      " [   0 1123    3    2    0    1    3    0    3    0]\n",
      " [   6    1 1005    4    0    2    4    7    2    1]\n",
      " [   0    0    6  970    0   17    0    8    3    6]\n",
      " [   2    0    0    1  943    1    9    1    2   23]\n",
      " [   2    0    1    0    1  878    5    1    1    3]\n",
      " [   5    2    1    0    2   11  937    0    0    0]\n",
      " [   1    4   13    2    1    0    0  992    1   14]\n",
      " [   5    0    5    4    3   13    9    3  928    4]\n",
      " [   4    4    0    3   10    5    1    4    3  975]]\n"
     ]
    }
   ],
   "source": [
    "evaluate(y_test, y_pred7)"
   ]
  },
  {
   "cell_type": "markdown",
   "metadata": {},
   "source": [
    "### scratch_dnn8(num_epoch=20, lr=0.1, Activater=ActTanh, Optimizer=AdaGrad)"
   ]
  },
  {
   "cell_type": "code",
   "execution_count": 242,
   "metadata": {},
   "outputs": [
    {
     "data": {
      "image/png": "[encoded data removed]",
      "text/plain": [
       "<matplotlib.figure.Figure at 0x1ab0efb4a8>"
      ]
     },
     "metadata": {},
     "output_type": "display_data"
    },
    {
     "name": "stdout",
     "output_type": "stream",
     "text": [
      "\n"
     ]
    }
   ],
   "source": [
    "scratch_dnn8 = ScratchDeepNeuralNetrowkClassifier(num_epoch=20, lr=0.1, batch_size=20, \n",
    "                                                  n_features=784, n_nodes1=400, n_nodes2=200, n_output=10, \n",
    "                                                  verbose=True, Activater=ActTanh, Optimizer=AdaGrad)\n",
    "scratch_dnn8.fit(X_train_, y_train_)"
   ]
  },
  {
   "cell_type": "code",
   "execution_count": 243,
   "metadata": {},
   "outputs": [],
   "source": [
    "y_pred8 = scratch_dnn8.predict(X_test)"
   ]
  },
  {
   "cell_type": "code",
   "execution_count": 244,
   "metadata": {},
   "outputs": [
    {
     "name": "stdout",
     "output_type": "stream",
     "text": [
      "accuracy = 0.98\n",
      "precision = 0.9799051100765663\n",
      "recall = 0.9797649215770121\n",
      "f1 = 0.9798216936580625\n",
      "[[ 970    0    2    0    0    0    2    1    3    2]\n",
      " [   0 1126    3    1    0    1    1    0    3    0]\n",
      " [   4    1 1011    4    0    1    1    5    5    0]\n",
      " [   0    0    3  993    0    2    0    5    3    4]\n",
      " [   1    0    1    1  955    1    5    3    1   14]\n",
      " [   3    0    1    7    1  868    4    1    4    3]\n",
      " [   6    3    1    0    2    4  941    0    1    0]\n",
      " [   1    0    6    1    1    0    0 1008    2    9]\n",
      " [   4    0    2    6    2    4    2    3  948    3]\n",
      " [   2    2    0    5    9    1    2    7    1  980]]\n"
     ]
    }
   ],
   "source": [
    "evaluate(y_test, y_pred8)"
   ]
  },
  {
   "cell_type": "markdown",
   "metadata": {},
   "source": [
    "### scratch_dnn5(num_epoch=5, lr=1e-2, Activater=ActReLU, Optimizer=SGD)"
   ]
  },
  {
   "cell_type": "code",
   "execution_count": 145,
   "metadata": {},
   "outputs": [
    {
     "data": {
      "image/png": "[encoded data removed]",
      "text/plain": [
       "<matplotlib.figure.Figure at 0x1a682e7b00>"
      ]
     },
     "metadata": {},
     "output_type": "display_data"
    },
    {
     "name": "stdout",
     "output_type": "stream",
     "text": [
      "\n"
     ]
    }
   ],
   "source": [
    "scratch_dnn5 = ScratchDeepNeuralNetrowkClassifier(num_epoch=5, lr=0.01, batch_size=20, \n",
    "                                                  n_features=784, n_nodes1=400, n_nodes2=200, n_output=10, \n",
    "                                                  verbose=True, Activater=ActReLU, Optimizer=SGD)\n",
    "scratch_dnn5.fit(X_train_, y_train_)"
   ]
  },
  {
   "cell_type": "code",
   "execution_count": 146,
   "metadata": {},
   "outputs": [],
   "source": [
    "y_pred5 = scratch_dnn5.predict(X_test)"
   ]
  },
  {
   "cell_type": "code",
   "execution_count": 147,
   "metadata": {},
   "outputs": [
    {
     "name": "stdout",
     "output_type": "stream",
     "text": [
      "accuracy = 0.9755\n",
      "precision = 0.9753523472394721\n",
      "recall = 0.9753896783052683\n",
      "f1 = 0.9752867470019719\n",
      "[[ 968    1    0    0    1    0    8    0    1    1]\n",
      " [   3 1123    0    3    0    2    3    0    1    0]\n",
      " [   7    2  988   13    5    0    5    5    7    0]\n",
      " [   0    0    3  992    0    6    0    4    2    3]\n",
      " [   2    0    0    0  958    0    7    2    0   13]\n",
      " [   3    0    0    9    1  872    2    0    3    2]\n",
      " [   1    2    0    1    3    5  946    0    0    0]\n",
      " [   0    5    7    0    2    0    0 1005    2    7]\n",
      " [   3    0    1   13    5   13    4    4  924    7]\n",
      " [   2    4    0    4   12    2    1    5    0  979]]\n"
     ]
    }
   ],
   "source": [
    "evaluate(y_test, y_pred5)"
   ]
  },
  {
   "cell_type": "markdown",
   "metadata": {},
   "source": [
    "### scratch_dnn11(num_epoch=20, lr=1e-2, Activater=ActReLU, Optimizer=SGD)"
   ]
  },
  {
   "cell_type": "code",
   "execution_count": 151,
   "metadata": {},
   "outputs": [
    {
     "data": {
      "image/png": "[encoded data removed]",
      "text/plain": [
       "<matplotlib.figure.Figure at 0x1aa7361828>"
      ]
     },
     "metadata": {},
     "output_type": "display_data"
    },
    {
     "name": "stdout",
     "output_type": "stream",
     "text": [
      "\n"
     ]
    }
   ],
   "source": [
    "scratch_dnn11 = ScratchDeepNeuralNetrowkClassifier(num_epoch=20, lr=0.01, batch_size=20, \n",
    "                                                  n_features=784, n_nodes1=400, n_nodes2=200, n_output=10, \n",
    "                                                  verbose=True, Activater=ActReLU, Optimizer=SGD)\n",
    "scratch_dnn11.fit(X_train_, y_train_)"
   ]
  },
  {
   "cell_type": "code",
   "execution_count": 152,
   "metadata": {},
   "outputs": [],
   "source": [
    "y_pred11 = scratch_dnn11.predict(X_test)"
   ]
  },
  {
   "cell_type": "code",
   "execution_count": 153,
   "metadata": {},
   "outputs": [
    {
     "name": "stdout",
     "output_type": "stream",
     "text": [
      "accuracy = 0.9836\n",
      "precision = 0.9835177274217504\n",
      "recall = 0.9834470502468987\n",
      "f1 = 0.9834753175908648\n",
      "[[ 975    1    1    0    0    0    1    0    1    1]\n",
      " [   0 1129    1    1    0    1    2    0    1    0]\n",
      " [   4    0 1014    3    1    0    2    3    4    1]\n",
      " [   0    0    3  993    0    3    0    5    2    4]\n",
      " [   0    0    2    1  960    1    4    2    1   11]\n",
      " [   2    0    0    5    0  876    5    1    2    1]\n",
      " [   3    2    0    1    7    2  940    1    2    0]\n",
      " [   2    2    8    0    2    0    0 1005    3    6]\n",
      " [   2    0    1    4    1    2    4    2  954    4]\n",
      " [   1    2    0    3    6    1    2    3    1  990]]\n"
     ]
    }
   ],
   "source": [
    "evaluate(y_test, y_pred11)"
   ]
  },
  {
   "cell_type": "markdown",
   "metadata": {},
   "source": [
    "### scratch_dnn6(num_epoch=5, lr=1e-2, Activater=ActReLU, Optimizer=AdaGrad)"
   ]
  },
  {
   "cell_type": "code",
   "execution_count": 245,
   "metadata": {},
   "outputs": [
    {
     "data": {
      "image/png": "[encoded data removed]",
      "text/plain": [
       "<matplotlib.figure.Figure at 0x1a600929b0>"
      ]
     },
     "metadata": {},
     "output_type": "display_data"
    },
    {
     "name": "stdout",
     "output_type": "stream",
     "text": [
      "\n"
     ]
    }
   ],
   "source": [
    "scratch_dnn6 = ScratchDeepNeuralNetrowkClassifier(num_epoch=5, lr=0.01, batch_size=20, \n",
    "                                                  n_features=784, n_nodes1=400, n_nodes2=200, n_output=10, \n",
    "                                                  verbose=True, Activater=ActReLU, Optimizer=AdaGrad)\n",
    "scratch_dnn6.fit(X_train_, y_train_)"
   ]
  },
  {
   "cell_type": "code",
   "execution_count": 246,
   "metadata": {},
   "outputs": [],
   "source": [
    "y_pred6 = scratch_dnn6.predict(X_test)"
   ]
  },
  {
   "cell_type": "code",
   "execution_count": 247,
   "metadata": {},
   "outputs": [
    {
     "name": "stdout",
     "output_type": "stream",
     "text": [
      "accuracy = 0.9781\n",
      "precision = 0.9780463056738513\n",
      "recall = 0.9778632524579173\n",
      "f1 = 0.9779105144791329\n",
      "[[ 971    0    1    1    0    2    1    1    2    1]\n",
      " [   0 1127    2    1    0    1    2    0    2    0]\n",
      " [   5    2 1010    3    1    0    3    5    2    1]\n",
      " [   0    0    3  995    0    3    0    3    2    4]\n",
      " [   1    0    3    0  953    0    7    3    0   15]\n",
      " [   2    0    0    9    1  871    6    0    1    2]\n",
      " [   3    3    0    0    2    6  942    1    1    0]\n",
      " [   0    5    7    3    1    0    0 1003    0    9]\n",
      " [   3    0    4    9    6    9    4    3  931    5]\n",
      " [   2    5    0    6    7    2    2    7    0  978]]\n"
     ]
    }
   ],
   "source": [
    "evaluate(y_test, y_pred6)"
   ]
  },
  {
   "cell_type": "markdown",
   "metadata": {},
   "source": [
    "### scratch_dnn12(num_epoch=20, lr=1e-2, Activater=ActReLU, Optimizer=AdaGrad)"
   ]
  },
  {
   "cell_type": "code",
   "execution_count": 248,
   "metadata": {},
   "outputs": [
    {
     "data": {
      "image/png": "[encoded data removed]",
      "text/plain": [
       "<matplotlib.figure.Figure at 0x1a5f793400>"
      ]
     },
     "metadata": {},
     "output_type": "display_data"
    },
    {
     "name": "stdout",
     "output_type": "stream",
     "text": [
      "\n"
     ]
    }
   ],
   "source": [
    "scratch_dnn12 = ScratchDeepNeuralNetrowkClassifier(num_epoch=20, lr=0.01, batch_size=20, \n",
    "                                                  n_features=784, n_nodes1=400, n_nodes2=200, n_output=10, \n",
    "                                                  verbose=True, Activater=ActReLU, Optimizer=AdaGrad)\n",
    "scratch_dnn12.fit(X_train_, y_train_)"
   ]
  },
  {
   "cell_type": "code",
   "execution_count": 249,
   "metadata": {},
   "outputs": [],
   "source": [
    "y_pred12 = scratch_dnn12.predict(X_test)"
   ]
  },
  {
   "cell_type": "code",
   "execution_count": 250,
   "metadata": {},
   "outputs": [
    {
     "name": "stdout",
     "output_type": "stream",
     "text": [
      "accuracy = 0.9817\n",
      "precision = 0.9816343565297723\n",
      "recall = 0.981529823147496\n",
      "f1 = 0.9815715303959905\n",
      "[[ 973    0    1    1    0    0    1    1    3    0]\n",
      " [   0 1127    2    1    0    1    2    0    2    0]\n",
      " [   4    2 1011    3    1    0    2    4    5    0]\n",
      " [   0    0    4  992    0    2    0    3    4    5]\n",
      " [   1    0    4    0  959    0    5    3    0   10]\n",
      " [   2    0    0    7    1  872    7    0    1    2]\n",
      " [   3    3    0    0    3    4  945    0    0    0]\n",
      " [   0    4    6    3    1    0    0 1009    2    3]\n",
      " [   3    0    3    6    3    2    4    2  948    3]\n",
      " [   2    2    0    4    9    3    2    5    1  981]]\n"
     ]
    }
   ],
   "source": [
    "evaluate(y_test, y_pred12)"
   ]
  },
  {
   "cell_type": "markdown",
   "metadata": {},
   "source": [
    "### 結果"
   ]
  },
  {
   "cell_type": "markdown",
   "metadata": {},
   "source": [
    "scratch_dnn11(num_epoch=20, lr=1e-2, Activater=ActReLU, Optimizer=SGD)  \n",
    "が最も結果が良く、accuracyは98.36であった。  "
   ]
  },
  {
   "cell_type": "code",
   "execution_count": null,
   "metadata": {},
   "outputs": [],
   "source": []
  }
 ],
 "metadata": {
  "kernelspec": {
   "display_name": "Python 3",
   "language": "python",
   "name": "python3"
  },
  "language_info": {
   "codemirror_mode": {
    "name": "ipython",
    "version": 3
   },
   "file_extension": ".py",
   "mimetype": "text/x-python",
   "name": "python",
   "nbconvert_exporter": "python",
   "pygments_lexer": "ipython3",
   "version": "3.6.6"
  }
 },
 "nbformat": 4,
 "nbformat_minor": 4
}
