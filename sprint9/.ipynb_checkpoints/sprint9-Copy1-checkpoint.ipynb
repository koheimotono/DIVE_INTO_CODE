{
 "cells": [
  {
   "cell_type": "markdown",
   "metadata": {},
   "source": [
    "# Sprint 深層学習スクラッチ ニューラルネットワーク"
   ]
  },
  {
   "cell_type": "markdown",
   "metadata": {},
   "source": [
    "## Sprintの目的\n",
    "スクラッチを通してニューラルネットワークの基礎を理解する\n",
    "画像データの扱い方を知る"
   ]
  },
  {
   "cell_type": "code",
   "execution_count": 1,
   "metadata": {},
   "outputs": [
    {
     "name": "stderr",
     "output_type": "stream",
     "text": [
      "/anaconda3/lib/python3.6/site-packages/h5py/__init__.py:36: FutureWarning: Conversion of the second argument of issubdtype from `float` to `np.floating` is deprecated. In future, it will be treated as `np.float64 == np.dtype(float).type`.\n",
      "  from ._conv import register_converters as _register_converters\n",
      "Using TensorFlow backend.\n",
      "/anaconda3/lib/python3.6/site-packages/tensorflow/python/framework/dtypes.py:516: FutureWarning: Passing (type, 1) or '1type' as a synonym of type is deprecated; in a future version of numpy, it will be understood as (type, (1,)) / '(1,)type'.\n",
      "  _np_qint8 = np.dtype([(\"qint8\", np.int8, 1)])\n",
      "/anaconda3/lib/python3.6/site-packages/tensorflow/python/framework/dtypes.py:517: FutureWarning: Passing (type, 1) or '1type' as a synonym of type is deprecated; in a future version of numpy, it will be understood as (type, (1,)) / '(1,)type'.\n",
      "  _np_quint8 = np.dtype([(\"quint8\", np.uint8, 1)])\n",
      "/anaconda3/lib/python3.6/site-packages/tensorflow/python/framework/dtypes.py:518: FutureWarning: Passing (type, 1) or '1type' as a synonym of type is deprecated; in a future version of numpy, it will be understood as (type, (1,)) / '(1,)type'.\n",
      "  _np_qint16 = np.dtype([(\"qint16\", np.int16, 1)])\n",
      "/anaconda3/lib/python3.6/site-packages/tensorflow/python/framework/dtypes.py:519: FutureWarning: Passing (type, 1) or '1type' as a synonym of type is deprecated; in a future version of numpy, it will be understood as (type, (1,)) / '(1,)type'.\n",
      "  _np_quint16 = np.dtype([(\"quint16\", np.uint16, 1)])\n",
      "/anaconda3/lib/python3.6/site-packages/tensorflow/python/framework/dtypes.py:520: FutureWarning: Passing (type, 1) or '1type' as a synonym of type is deprecated; in a future version of numpy, it will be understood as (type, (1,)) / '(1,)type'.\n",
      "  _np_qint32 = np.dtype([(\"qint32\", np.int32, 1)])\n",
      "/anaconda3/lib/python3.6/site-packages/tensorflow/python/framework/dtypes.py:525: FutureWarning: Passing (type, 1) or '1type' as a synonym of type is deprecated; in a future version of numpy, it will be understood as (type, (1,)) / '(1,)type'.\n",
      "  np_resource = np.dtype([(\"resource\", np.ubyte, 1)])\n",
      "/anaconda3/lib/python3.6/site-packages/tensorboard/compat/tensorflow_stub/dtypes.py:541: FutureWarning: Passing (type, 1) or '1type' as a synonym of type is deprecated; in a future version of numpy, it will be understood as (type, (1,)) / '(1,)type'.\n",
      "  _np_qint8 = np.dtype([(\"qint8\", np.int8, 1)])\n",
      "/anaconda3/lib/python3.6/site-packages/tensorboard/compat/tensorflow_stub/dtypes.py:542: FutureWarning: Passing (type, 1) or '1type' as a synonym of type is deprecated; in a future version of numpy, it will be understood as (type, (1,)) / '(1,)type'.\n",
      "  _np_quint8 = np.dtype([(\"quint8\", np.uint8, 1)])\n",
      "/anaconda3/lib/python3.6/site-packages/tensorboard/compat/tensorflow_stub/dtypes.py:543: FutureWarning: Passing (type, 1) or '1type' as a synonym of type is deprecated; in a future version of numpy, it will be understood as (type, (1,)) / '(1,)type'.\n",
      "  _np_qint16 = np.dtype([(\"qint16\", np.int16, 1)])\n",
      "/anaconda3/lib/python3.6/site-packages/tensorboard/compat/tensorflow_stub/dtypes.py:544: FutureWarning: Passing (type, 1) or '1type' as a synonym of type is deprecated; in a future version of numpy, it will be understood as (type, (1,)) / '(1,)type'.\n",
      "  _np_quint16 = np.dtype([(\"quint16\", np.uint16, 1)])\n",
      "/anaconda3/lib/python3.6/site-packages/tensorboard/compat/tensorflow_stub/dtypes.py:545: FutureWarning: Passing (type, 1) or '1type' as a synonym of type is deprecated; in a future version of numpy, it will be understood as (type, (1,)) / '(1,)type'.\n",
      "  _np_qint32 = np.dtype([(\"qint32\", np.int32, 1)])\n",
      "/anaconda3/lib/python3.6/site-packages/tensorboard/compat/tensorflow_stub/dtypes.py:550: FutureWarning: Passing (type, 1) or '1type' as a synonym of type is deprecated; in a future version of numpy, it will be understood as (type, (1,)) / '(1,)type'.\n",
      "  np_resource = np.dtype([(\"resource\", np.ubyte, 1)])\n"
     ]
    }
   ],
   "source": [
    "import numpy as np\n",
    "import matplotlib.pyplot as plt\n",
    "%matplotlib inline\n",
    "\n",
    "from keras.datasets import mnist\n",
    "\n",
    "from sklearn.preprocessing import OneHotEncoder\n",
    "from sklearn.model_selection import train_test_split\n",
    "\n",
    "from sklearn.metrics import accuracy_score\n",
    "from sklearn.metrics import precision_score\n",
    "from sklearn.metrics import recall_score\n",
    "from sklearn.metrics import f1_score\n",
    "from sklearn.metrics import confusion_matrix"
   ]
  },
  {
   "cell_type": "code",
   "execution_count": 2,
   "metadata": {},
   "outputs": [],
   "source": [
    "(X_train, y_train), (X_test, y_test) = mnist.load_data()"
   ]
  },
  {
   "cell_type": "markdown",
   "metadata": {},
   "source": [
    "### データセットの確認"
   ]
  },
  {
   "cell_type": "code",
   "execution_count": 3,
   "metadata": {},
   "outputs": [
    {
     "name": "stdout",
     "output_type": "stream",
     "text": [
      "(60000, 28, 28)\n",
      "(10000, 28, 28)\n",
      "uint8\n"
     ]
    }
   ],
   "source": [
    "print(X_train.shape) # (60000, 28, 28)\n",
    "print(X_test.shape) # (10000, 28, 28)\n",
    "print(X_train[0].dtype) # uint8\n",
    "#print(X_train[0])"
   ]
  },
  {
   "cell_type": "markdown",
   "metadata": {},
   "source": [
    "### 平滑化"
   ]
  },
  {
   "cell_type": "code",
   "execution_count": 4,
   "metadata": {},
   "outputs": [],
   "source": [
    "X_train = X_train.reshape(-1, 784)\n",
    "X_test = X_test.reshape(-1, 784)"
   ]
  },
  {
   "cell_type": "markdown",
   "metadata": {},
   "source": [
    "### 画像データの可視化"
   ]
  },
  {
   "cell_type": "code",
   "execution_count": 5,
   "metadata": {},
   "outputs": [
    {
     "data": {
      "image/png": "[encoded data removed]",
      "text/plain": [
       "<matplotlib.figure.Figure at 0x1a304eb588>"
      ]
     },
     "metadata": {},
     "output_type": "display_data"
    }
   ],
   "source": [
    "index = 0\n",
    "image = X_train[index].reshape(28,28)\n",
    "# X_train[index]: (784,)\n",
    "# image: (28, 28)\n",
    "plt.imshow(image, 'gray')\n",
    "plt.title('label : {}'.format(y_train[index]))\n",
    "plt.show()"
   ]
  },
  {
   "cell_type": "markdown",
   "metadata": {},
   "source": [
    "#### 《発展的話題》"
   ]
  },
  {
   "cell_type": "raw",
   "metadata": {},
   "source": [
    "index = 0\n",
    "image = X_train[index].reshape(28,28)\n",
    "image = image.astype(np.float) # float型に変換\n",
    "image -= 105.35 # 意図的に負の小数値を作り出してみる\n",
    "plt.imshow(image, 'gray', vmin = 0, vmax = 255)\n",
    "plt.title('label : {}'.format(y_train[index]))\n",
    "plt.show()\n",
    "print(image) # 値を確認"
   ]
  },
  {
   "cell_type": "markdown",
   "metadata": {},
   "source": [
    "### 前処理"
   ]
  },
  {
   "cell_type": "code",
   "execution_count": 6,
   "metadata": {},
   "outputs": [
    {
     "name": "stdout",
     "output_type": "stream",
     "text": [
      "1.0\n",
      "0.0\n"
     ]
    }
   ],
   "source": [
    "X_train = X_train.astype(np.float)\n",
    "X_test = X_test.astype(np.float)\n",
    "X_train /= 255\n",
    "X_test /= 255\n",
    "print(X_train.max()) # 1.0\n",
    "print(X_train.min()) # 0.0"
   ]
  },
  {
   "cell_type": "code",
   "execution_count": 7,
   "metadata": {},
   "outputs": [
    {
     "name": "stdout",
     "output_type": "stream",
     "text": [
      "(60000,)\n",
      "(60000, 10)\n",
      "float64\n"
     ]
    }
   ],
   "source": [
    "enc = OneHotEncoder(handle_unknown='ignore', sparse=False)\n",
    "y_train_one_hot = enc.fit_transform(y_train[:, np.newaxis])\n",
    "y_test_one_hot = enc.transform(y_test[:, np.newaxis])\n",
    "print(y_train.shape) # (60000,)\n",
    "print(y_train_one_hot.shape) # (60000, 10)\n",
    "print(y_train_one_hot.dtype) # float64"
   ]
  },
  {
   "cell_type": "code",
   "execution_count": 8,
   "metadata": {},
   "outputs": [
    {
     "name": "stdout",
     "output_type": "stream",
     "text": [
      "X_train.shape = (48000, 784)\n",
      "X_val.shape = (12000, 784)\n",
      "y_train.shape = (48000, 10)\n",
      "y_val.shape = (12000, 10)\n"
     ]
    }
   ],
   "source": [
    "X_train_, X_val, y_train_, y_val = train_test_split(X_train, y_train_one_hot, test_size=0.2)\n",
    "print(\"X_train.shape =\", X_train_.shape) # (48000, 784)\n",
    "print(\"X_val.shape =\", X_val.shape) # (12000, 784)\n",
    "print(\"y_train.shape =\", y_train_.shape) # (48000, 784)\n",
    "print(\"y_val.shape =\", y_val.shape) # (12000, 784)"
   ]
  },
  {
   "cell_type": "markdown",
   "metadata": {},
   "source": [
    "## ニューラルネットワークスクラッチ"
   ]
  },
  {
   "cell_type": "code",
   "execution_count": 73,
   "metadata": {},
   "outputs": [],
   "source": [
    "class ScratchSimpleNeuralNetrowkClassifier():\n",
    "    \"\"\"\n",
    "    シンプルな三層ニューラルネットワーク分類器\n",
    "\n",
    "    Parameters\n",
    "    ----------\n",
    "\n",
    "    Attributes\n",
    "    ----------\n",
    "    \"\"\"\n",
    "\n",
    "    def __init__(self, num_epoch=10, lr=0.01, verbose=True):\n",
    "        self.num_epoch = num_epoch\n",
    "        self.lr = lr\n",
    "        self.verbose = verbose\n",
    "        \n",
    "        self.w1 = None\n",
    "        self.w2 = None\n",
    "        self.w3 = None\n",
    "        self.A1 = None\n",
    "        self.A2 = None\n",
    "        self.A3 = None\n",
    "        self.Z1 = None\n",
    "        self.Z2 = None\n",
    "        self.Z3 = None\n",
    "        self.loss = None\n",
    "        self.val_loss = None\n",
    "        \n",
    "        self.a1 = []\n",
    "        self.a2 = []\n",
    "        self.b = []\n",
    "\n",
    "    def fit(self, X, y, X_val=None, y_val=None):\n",
    "        \"\"\"\n",
    "        ニューラルネットワーク分類器を学習する。\n",
    "\n",
    "        Parameters\n",
    "        ----------\n",
    "        X : 次の形のndarray, shape (n_samples, n_features)\n",
    "            訓練用データの特徴量\n",
    "        y : 次の形のndarray, shape (n_samples, )\n",
    "            訓練用データの正解値\n",
    "        X_val : 次の形のndarray, shape (n_samples, n_features)\n",
    "            検証用データの特徴量\n",
    "        y_val : 次の形のndarray, shape (n_samples, )\n",
    "            検証用データの正解値\n",
    "        \"\"\"\n",
    "        self.val_enable = False\n",
    "        if X_val is not None:\n",
    "            self.val_enable = True\n",
    "        \n",
    "        batch_size = 20 # バッチサイズ\n",
    "        n_features = 784 # 特徴量の数\n",
    "        n_nodes1 = 400 # 1層目のノード数\n",
    "        n_nodes2 = 200 # 2層目のノード数\n",
    "        n_output = 10 # 出力のクラス数（3層目のノード数）\n",
    "        \n",
    "        self.w1 = self.w_init(n_features, n_nodes1)\n",
    "        self.w2 = self.w_init(n_nodes1, n_nodes2)\n",
    "        self.w3 = self.w_init(n_nodes2, n_output)\n",
    "        \n",
    "        self.B1 = self.w_init(1,self.w1.shape[1])\n",
    "        self.B2 = self.w_init(1,self.w2.shape[1])\n",
    "        self.B3 = self.w_init(1,self.w3.shape[1])\n",
    "        \n",
    "        self.loss = []\n",
    "        self.val_loss = []\n",
    "        for _ in range(self.num_epoch):\n",
    "            get_mini_batch = GetMiniBatch(X, y, batch_size=20)\n",
    "            for mini_X, mini_y in get_mini_batch:\n",
    "                self.forward_propagation(mini_X)\n",
    "                self.back_propagation(mini_X, mini_y)\n",
    "            \"\"\"\n",
    "            self.forward_propagation(X)\n",
    "            self.back_propagation(X, y)\n",
    "            \"\"\"\n",
    "            \n",
    "            self.loss.append(np.average(self.loss_func(y, self.forward_propagation(X))))\n",
    "            if self.val_enable:\n",
    "                self.val_loss.append(np.average(self.loss_func(y_val, self.forward_propagation(X_val))))\n",
    "        \n",
    "        print()\n",
    "        if self.verbose:\n",
    "            self.learning_curve()\n",
    "            print()\n",
    "\n",
    "    def predict(self, X):\n",
    "        \"\"\"\n",
    "        ニューラルネットワーク分類器を使い推定する。\n",
    "\n",
    "        Parameters\n",
    "        ----------\n",
    "        X : 次の形のndarray, shape (n_samples, n_features)\n",
    "            サンプル\n",
    "\n",
    "        Returns\n",
    "        -------\n",
    "            次の形のndarray, shape (n_samples, 1)\n",
    "            推定結果\n",
    "        \"\"\"\n",
    "        return np.argmax(self.forward_propagation(X), axis=1)\n",
    "    \n",
    "    def w_init(self, n_features, n_nodes):\n",
    "        sigma = 1e-2 # ガウス分布の標準偏差\n",
    "        w = sigma * np.random.randn(n_features, n_nodes)\n",
    "        return w\n",
    "    \n",
    "    def forward_propagation(self, X):\n",
    "        self.A1 = X@self.w1 + self.B1\n",
    "        self.Z1 = self.tanh(self.A1)\n",
    "        self.A2 = self.Z1@self.w2 + self.B2\n",
    "        self.Z2 = self.tanh(self.A2)\n",
    "        self.A3 = self.Z2@self.w3 + self.B3\n",
    "        self.Z3 = self.softmax(self.A3)\n",
    "        return self.Z3\n",
    "    \n",
    "    def sigmoid(self, X):\n",
    "        return 1 / (1 + np.exp(-X))\n",
    "    \n",
    "    def tanh(self, X):\n",
    "        return np.tanh(X)\n",
    "    \n",
    "    def softmax(self, X):\n",
    "        return np.exp(X) / np.sum(np.exp(X), axis=1).reshape(-1,1)\n",
    "    \n",
    "    def loss_func(self, y_true, z):\n",
    "        \"\"\"\n",
    "        y_true : (n_samples, n_output)\n",
    "        z : (n_samples, n_output)\n",
    "        \"\"\"\n",
    "        return (-1)*np.average(np.sum(y_true*np.log(z), axis=1))\n",
    "    \n",
    "    def back_propagation(self, X, y_true):\n",
    "        \"\"\"\n",
    "        y_true : (n_samples, n_output)\n",
    "        \"\"\"\n",
    "        L_A3 = self.Z3 - y_true #(Z3.shape[1],)\n",
    "        L_B3 = L_A3\n",
    "        L_w3 = self.Z2.T@L_A3\n",
    "        L_Z2 = L_A3@self.w3.T\n",
    "        \n",
    "        L_A2 = L_Z2 * (1 - (self.tanh(np.average(self.A2)))**2)\n",
    "        L_B2 = L_A2\n",
    "        L_w2 = self.Z1.T@L_A2\n",
    "        L_Z1 = L_A2@self.w2.T\n",
    "        \n",
    "        L_A1 = L_Z1 * (1 - (self.tanh(np.average(self.A1)))**2)\n",
    "        L_B1 = L_A1\n",
    "        L_w1 = X.T@L_A1\n",
    "        \n",
    "        self.w1 = self.w1 - self.lr*L_w1\n",
    "        self.w2 = self.w2 - self.lr*L_w2\n",
    "        self.w3 = self.w3 - self.lr*L_w3\n",
    "        \n",
    "        self.B1 = self.B1 - self.lr*np.average(L_B1, axis=0)\n",
    "        self.B2 = self.B2 - self.lr*np.average(L_B2, axis=0)\n",
    "        self.B3 = self.B3 - self.lr*np.average(L_B3, axis=0)\n",
    "        \n",
    "        return\n",
    "    \n",
    "    def learning_curve(self):\n",
    "        plt.title(\"model loss\")\n",
    "        plt.xlabel(\"num_epoch\")\n",
    "        plt.ylabel(\"loss\")\n",
    "        plt.plot(np.arange(self.num_epoch), self.loss, label=\"train_loss\")\n",
    "        if self.val_enable:\n",
    "            plt.plot(np.arange(self.num_epoch), self.val_loss, label=\"val_loss\")\n",
    "        plt.legend()\n",
    "        plt.show()"
   ]
  },
  {
   "cell_type": "markdown",
   "metadata": {},
   "source": [
    "### ミニバッチ処理"
   ]
  },
  {
   "cell_type": "code",
   "execution_count": 12,
   "metadata": {},
   "outputs": [],
   "source": [
    "class GetMiniBatch:\n",
    "    \"\"\"\n",
    "    ミニバッチを取得するイテレータ\n",
    "\n",
    "    Parameters\n",
    "    ----------\n",
    "    X : 次の形のndarray, shape (n_samples, n_features)\n",
    "      訓練用データ\n",
    "    y : 次の形のndarray, shape (n_samples, 1)\n",
    "      正解値\n",
    "    batch_size : int\n",
    "      バッチサイズ\n",
    "    seed : int\n",
    "      NumPyの乱数のシード\n",
    "    \"\"\"\n",
    "    def __init__(self, X, y, batch_size = 20, seed=0):\n",
    "        self.batch_size = batch_size\n",
    "        np.random.seed(seed)\n",
    "        shuffle_index = np.random.permutation(np.arange(X.shape[0]))\n",
    "        self._X = X[shuffle_index]\n",
    "        self._y = y[shuffle_index]\n",
    "        self._stop = np.ceil(X.shape[0]/self.batch_size).astype(np.int)\n",
    "\n",
    "    def __len__(self):\n",
    "        return self._stop\n",
    "\n",
    "    def __getitem__(self,item):\n",
    "        p0 = item*self.batch_size\n",
    "        p1 = item*self.batch_size + self.batch_size\n",
    "        return self._X[p0:p1], self._y[p0:p1]        \n",
    "\n",
    "    def __iter__(self):\n",
    "        self._counter = 0\n",
    "        return self\n",
    "\n",
    "    def __next__(self):\n",
    "        if self._counter >= self._stop:\n",
    "            raise StopIteration()\n",
    "        p0 = self._counter*self.batch_size\n",
    "        p1 = self._counter*self.batch_size + self.batch_size\n",
    "        self._counter += 1\n",
    "        return self._X[p0:p1], self._y[p0:p1]"
   ]
  },
  {
   "cell_type": "code",
   "execution_count": 13,
   "metadata": {},
   "outputs": [],
   "source": [
    "get_mini_batch = GetMiniBatch(X_train_, y_train_, batch_size=20)\n",
    "#print(len(get_mini_batch)) # 2400\n",
    "#print(get_mini_batch[5]) # 5番目のミニバッチが取得できる\n",
    "for mini_X_train, mini_y_train in get_mini_batch:\n",
    "    # このfor文内でミニバッチが使える\n",
    "    pass"
   ]
  },
  {
   "cell_type": "markdown",
   "metadata": {},
   "source": [
    "## 学習"
   ]
  },
  {
   "cell_type": "markdown",
   "metadata": {},
   "source": [
    "## 【問題1】重みの初期値を決めるコードの作成"
   ]
  },
  {
   "cell_type": "markdown",
   "metadata": {},
   "source": [
    "ScratchSimpleNeuralNetrowkClassifier クラスに w_init メソッドを追加  \n",
    "ScratchSimpleNeuralNetrowkClassifier クラスの fit メソッドを変更  "
   ]
  },
  {
   "cell_type": "markdown",
   "metadata": {},
   "source": [
    "## 【問題2】フォワードプロパゲーションの実装"
   ]
  },
  {
   "cell_type": "markdown",
   "metadata": {},
   "source": [
    "ScratchSimpleNeuralNetrowkClassifier クラスに forward_propagation メソッドを追加  \n",
    "ScratchSimpleNeuralNetrowkClassifier クラスの fit メソッドを変更  "
   ]
  },
  {
   "cell_type": "markdown",
   "metadata": {},
   "source": [
    "### 活性化関数（フォワードプロバゲーション）"
   ]
  },
  {
   "cell_type": "markdown",
   "metadata": {},
   "source": [
    "ScratchSimpleNeuralNetrowkClassifier クラスに sigmoid メソッド、 tanh メソッドを追加"
   ]
  },
  {
   "cell_type": "markdown",
   "metadata": {},
   "source": [
    "### ソフトマックス関数"
   ]
  },
  {
   "cell_type": "markdown",
   "metadata": {},
   "source": [
    "ScratchSimpleNeuralNetrowkClassifier クラスに softmax メソッドを追加"
   ]
  },
  {
   "cell_type": "markdown",
   "metadata": {},
   "source": [
    "## 【問題3】交差エントロピー誤差の実装"
   ]
  },
  {
   "cell_type": "markdown",
   "metadata": {},
   "source": [
    "ScratchSimpleNeuralNetrowkClassifier クラスに loss_func メソッドを追加"
   ]
  },
  {
   "cell_type": "markdown",
   "metadata": {},
   "source": [
    "## 【問題4】バックプロパゲーションの実装"
   ]
  },
  {
   "cell_type": "markdown",
   "metadata": {},
   "source": [
    "ScratchSimpleNeuralNetrowkClassifier クラスに back_propagation メソッドを追加  \n",
    "ScratchSimpleNeuralNetrowkClassifier クラスの fit メソッドを変更  "
   ]
  },
  {
   "cell_type": "markdown",
   "metadata": {},
   "source": [
    "## 【問題5】推定"
   ]
  },
  {
   "cell_type": "markdown",
   "metadata": {},
   "source": [
    "ScratchSimpleNeuralNetrowkClassifier クラスの predict メソッドを変更  "
   ]
  },
  {
   "cell_type": "markdown",
   "metadata": {},
   "source": [
    "## 【問題6】学習と推定"
   ]
  },
  {
   "cell_type": "code",
   "execution_count": 14,
   "metadata": {},
   "outputs": [],
   "source": [
    "def evaluate(y_true, y_pred):\n",
    "    print(\"accuracy =\", accuracy_score(y_true, y_pred))\n",
    "    print(\"precision =\", precision_score(y_true, y_pred, average='macro'))\n",
    "    print(\"recall =\", recall_score(y_true, y_pred, average='macro'))\n",
    "    print(\"f1 =\", f1_score(y_true, y_pred, average='macro'))\n",
    "    print(confusion_matrix(y_true, y_pred))"
   ]
  },
  {
   "cell_type": "code",
   "execution_count": 78,
   "metadata": {},
   "outputs": [
    {
     "name": "stdout",
     "output_type": "stream",
     "text": [
      "\n"
     ]
    },
    {
     "data": {
      "image/png": "[encoded data removed]",
      "text/plain": [
       "<matplotlib.figure.Figure at 0x113cf19b0>"
      ]
     },
     "metadata": {},
     "output_type": "display_data"
    },
    {
     "name": "stdout",
     "output_type": "stream",
     "text": [
      "\n"
     ]
    }
   ],
   "source": [
    "scratch_snn = ScratchSimpleNeuralNetrowkClassifier(num_epoch=10, lr=1e-2, verbose=True)\n",
    "scratch_snn.fit(X_train_, y_train_, X_val, y_val)\n",
    "y_pred = scratch_snn.predict(X_test)"
   ]
  },
  {
   "cell_type": "code",
   "execution_count": 81,
   "metadata": {},
   "outputs": [
    {
     "name": "stdout",
     "output_type": "stream",
     "text": [
      "[7 2 1 ... 4 5 6]\n",
      "(10000,)\n"
     ]
    }
   ],
   "source": [
    "print(y_pred)\n",
    "print(y_pred.shape)"
   ]
  },
  {
   "cell_type": "code",
   "execution_count": 82,
   "metadata": {},
   "outputs": [
    {
     "name": "stdout",
     "output_type": "stream",
     "text": [
      "accuracy = 0.9176\n",
      "precision = 0.9186519593746642\n",
      "recall = 0.9166311292199832\n",
      "f1 = 0.9166525775417107\n",
      "[[ 951    0    2    3    2   14    2    3    3    0]\n",
      " [   0 1099    5    3    0    5    0    1   22    0]\n",
      " [   9    2  952    7    9    7    4    7   34    1]\n",
      " [   2    1   24  893    1   46    1    7   33    2]\n",
      " [   1    1    6    1  928    2    9    5   17   12]\n",
      " [   9    1    8   15    4  781    5    3   62    4]\n",
      " [  16    1   13    0    9   39  865    1   14    0]\n",
      " [   1    9   31    6    9    2    0  947    4   19]\n",
      " [   8    4   10   16    7   20    2    6  898    3]\n",
      " [   9    2    4   12   66   13    0   20   21  862]]\n"
     ]
    }
   ],
   "source": [
    "evaluate(y_test, y_pred)"
   ]
  },
  {
   "cell_type": "code",
   "execution_count": 77,
   "metadata": {},
   "outputs": [
    {
     "data": {
      "text/plain": [
       "array([[4.16079840e-04, 4.70426827e-05, 4.36778170e-04, ...,\n",
       "        9.95113452e-01, 6.38934449e-05, 1.03711230e-03],\n",
       "       [1.28657128e-02, 2.57810611e-03, 6.08870978e-01, ...,\n",
       "        1.37600387e-06, 3.79340741e-02, 9.13256296e-05],\n",
       "       [1.68794543e-05, 9.93230624e-01, 4.36761131e-04, ...,\n",
       "        5.00564634e-05, 4.29219578e-03, 9.96217248e-06],\n",
       "       ...,\n",
       "       [7.22205398e-06, 1.37609402e-05, 2.09000001e-04, ...,\n",
       "        1.32900053e-03, 9.06911215e-03, 5.92679933e-04],\n",
       "       [4.02787233e-05, 7.38283689e-05, 1.44346616e-04, ...,\n",
       "        4.63627777e-05, 1.15893962e-01, 1.33617401e-05],\n",
       "       [1.90492243e-03, 2.95164753e-04, 4.05474152e-03, ...,\n",
       "        1.26810719e-05, 2.00682776e-04, 1.71593026e-06]])"
      ]
     },
     "execution_count": 77,
     "metadata": {},
     "output_type": "execute_result"
    }
   ],
   "source": [
    "scratch_snn.forward_propagation(X_test)"
   ]
  },
  {
   "cell_type": "code",
   "execution_count": 57,
   "metadata": {},
   "outputs": [
    {
     "data": {
      "text/plain": [
       "array([[ 1.03429881e-06,  1.27422481e-06,  1.03020028e-06, ...,\n",
       "        -1.77496714e-06, -1.21637329e-06,  1.22396945e-06],\n",
       "       [ 1.02531856e-06,  1.32545996e-06,  1.02039359e-06, ...,\n",
       "        -1.74775350e-06, -1.20191620e-06,  1.18970818e-06],\n",
       "       [ 1.01706940e-06,  1.30744510e-06,  1.02605561e-06, ...,\n",
       "        -1.76504187e-06, -1.19826076e-06,  1.22387343e-06],\n",
       "       ...,\n",
       "       [ 1.04080546e-06,  1.28243488e-06,  1.01956205e-06, ...,\n",
       "        -1.76482168e-06, -1.19590496e-06,  1.22414575e-06],\n",
       "       [ 1.02037686e-06,  1.29744340e-06,  1.01136767e-06, ...,\n",
       "        -1.76827886e-06, -1.24979045e-06,  1.21298621e-06],\n",
       "       [ 1.01543470e-06,  1.29140341e-06,  1.03501698e-06, ...,\n",
       "        -1.79375554e-06, -1.17143640e-06,  1.22231570e-06]])"
      ]
     },
     "execution_count": 57,
     "metadata": {},
     "output_type": "execute_result"
    }
   ],
   "source": [
    "scratch_snn.A2"
   ]
  },
  {
   "cell_type": "code",
   "execution_count": 60,
   "metadata": {},
   "outputs": [
    {
     "name": "stdout",
     "output_type": "stream",
     "text": [
      "0.7615941559557649\n",
      "0.09966799462495582\n",
      "0.00999966667999946\n",
      "0.0009999996666668\n",
      "9.999999966666667e-05\n",
      "9.999999999666668e-06\n",
      "9.999999999996666e-07\n",
      "9.999999999999966e-08\n",
      "1e-08\n",
      "1e-09\n"
     ]
    }
   ],
   "source": [
    "np.tanh(scratch_snn.A2)\n",
    "for i in range(10):\n",
    "    print(np.tanh(10**(-i)))"
   ]
  },
  {
   "cell_type": "code",
   "execution_count": 28,
   "metadata": {},
   "outputs": [
    {
     "name": "stdout",
     "output_type": "stream",
     "text": [
      "[[ 7.92545850e-06 -1.45091585e-06 -1.28713287e-05 ... -2.45453396e-06\n",
      "  -3.46064133e-05  7.58268903e-06]\n",
      " [-1.37276398e-06  2.78289181e-06  9.32825728e-06 ... -1.49558056e-05\n",
      "   9.68798389e-06  1.01331950e-05]\n",
      " [-7.46748302e-06  9.05244991e-06  6.03802443e-07 ...  1.24915526e-05\n",
      "  -5.29285034e-06  7.30488414e-06]\n",
      " ...\n",
      " [-8.11822948e-06  1.00227495e-05 -1.82601833e-06 ...  3.78093044e-06\n",
      "   2.12647825e-05 -1.42446555e-05]\n",
      " [-4.37306214e-06 -9.40798137e-06 -3.87237158e-06 ... -1.87630068e-05\n",
      "   5.12501424e-06 -6.29033879e-07]\n",
      " [ 9.09606425e-06  4.15441632e-06 -5.21813514e-06 ...  1.91872303e-05\n",
      "  -6.67915222e-06  3.16757245e-06]]\n",
      "[[-1.23373141e-05  7.87399728e-06  1.61129686e-06 ... -1.06920180e-05\n",
      "   5.95086000e-06 -2.88162368e-06]\n",
      " [ 4.67382713e-06 -7.99554090e-06  2.32841045e-05 ...  5.91002225e-06\n",
      "  -1.78878562e-05  3.97923004e-06]\n",
      " [-1.16057600e-05 -6.09463798e-07  2.32607231e-06 ...  1.10833918e-05\n",
      "   2.23593982e-06 -2.12190142e-07]\n",
      " ...\n",
      " [-2.43516211e-05 -1.83299051e-05 -5.36118547e-06 ...  9.87624003e-07\n",
      "  -1.34098757e-05  1.11760687e-06]\n",
      " [-9.61273548e-06 -4.98902938e-06  1.32942963e-05 ...  5.92546668e-06\n",
      "  -1.04275864e-05  5.12543405e-06]\n",
      " [ 1.90882097e-05 -1.27177613e-05  1.92587830e-05 ...  1.30347984e-05\n",
      "   1.21562333e-05 -1.30641721e-05]]\n",
      "[[ 5.23308233e-08 -6.77725194e-06  9.42679884e-06 ... -4.08883599e-06\n",
      "  -1.46538872e-05  1.44489893e-05]\n",
      " [-1.13558932e-06  1.76136323e-05  1.39971004e-05 ...  8.52538325e-06\n",
      "  -5.89253469e-06 -8.68396830e-06]\n",
      " [ 1.41607556e-05  1.23983315e-05  2.32892504e-06 ... -1.28894157e-06\n",
      "  -8.55001624e-06  9.43907176e-06]\n",
      " ...\n",
      " [-9.53393846e-06 -4.20070032e-06 -3.91764346e-06 ... -1.64496245e-05\n",
      "   1.08923120e-05  1.49284493e-07]\n",
      " [ 3.08531426e-06 -1.11349227e-05  1.20807471e-05 ... -1.82362580e-06\n",
      "  -1.25800647e-05 -1.14844761e-05]\n",
      " [-1.37991615e-06  4.83470598e-06 -5.38391900e-06 ... -6.59073777e-06\n",
      "  -1.26613150e-05  8.55080131e-06]]\n"
     ]
    }
   ],
   "source": [
    "print(scratch_snn.w1)\n",
    "print(scratch_snn.w2)\n",
    "print(scratch_snn.w3)"
   ]
  },
  {
   "cell_type": "code",
   "execution_count": 23,
   "metadata": {},
   "outputs": [
    {
     "data": {
      "text/plain": [
       "array([[-0.00831709,  0.12157454, -0.00417588, ...,  0.04384136,\n",
       "        -0.03380383,  0.00968825],\n",
       "       [-0.00831709,  0.12157454, -0.00417588, ...,  0.04384136,\n",
       "        -0.03380383,  0.00968825],\n",
       "       [-0.00831709,  0.12157454, -0.00417588, ...,  0.04384136,\n",
       "        -0.03380383,  0.00968825],\n",
       "       ...,\n",
       "       [-0.00831709,  0.12157454, -0.00417588, ...,  0.04384136,\n",
       "        -0.03380383,  0.00968825],\n",
       "       [-0.00831709,  0.12157454, -0.00417588, ...,  0.04384136,\n",
       "        -0.03380383,  0.00968825],\n",
       "       [-0.00831709,  0.12157454, -0.00417588, ...,  0.04384136,\n",
       "        -0.03380383,  0.00968825]])"
      ]
     },
     "execution_count": 23,
     "metadata": {},
     "output_type": "execute_result"
    }
   ],
   "source": [
    "scratch_snn.A3"
   ]
  },
  {
   "cell_type": "code",
   "execution_count": 24,
   "metadata": {},
   "outputs": [
    {
     "data": {
      "text/plain": [
       "{1}"
      ]
     },
     "execution_count": 24,
     "metadata": {},
     "output_type": "execute_result"
    }
   ],
   "source": [
    "set(np.argmax(scratch_snn.A3, axis=1))"
   ]
  },
  {
   "cell_type": "code",
   "execution_count": null,
   "metadata": {},
   "outputs": [],
   "source": []
  },
  {
   "cell_type": "code",
   "execution_count": 25,
   "metadata": {},
   "outputs": [
    {
     "data": {
      "text/plain": [
       "[]"
      ]
     },
     "execution_count": 25,
     "metadata": {},
     "output_type": "execute_result"
    }
   ],
   "source": [
    "scratch_snn.b"
   ]
  },
  {
   "cell_type": "markdown",
   "metadata": {},
   "source": [
    "## 【問題7】学習曲線のプロット"
   ]
  },
  {
   "cell_type": "markdown",
   "metadata": {},
   "source": [
    "ScratchSimpleNeuralNetrowkClassifier クラスに learning_curve メソッドを追加し、 fit メソッドに書き加えた。  "
   ]
  },
  {
   "cell_type": "markdown",
   "metadata": {},
   "source": [
    "## 【問題8】（アドバンス課題）誤分類の確認"
   ]
  },
  {
   "cell_type": "code",
   "execution_count": 83,
   "metadata": {},
   "outputs": [
    {
     "name": "stderr",
     "output_type": "stream",
     "text": [
      "/anaconda3/lib/python3.6/site-packages/ipykernel_launcher.py:13: DeprecationWarning: elementwise comparison failed; this will raise an error in the future.\n",
      "  del sys.path[0]\n"
     ]
    },
    {
     "data": {
      "image/png": "[encoded data removed]",
      "text/plain": [
       "<matplotlib.figure.Figure at 0x1a9e6dc080>"
      ]
     },
     "metadata": {},
     "output_type": "display_data"
    }
   ],
   "source": [
    "\"\"\"\n",
    "語分類結果を並べて表示する。画像の上の表示は「推定結果/正解」である。\n",
    "\n",
    "Parameters:\n",
    "----------\n",
    "y_pred : 推定値のndarray (n_samples,)\n",
    "y_val : 検証用データの正解ラベル(n_samples,)\n",
    "X_val : 検証用データの特徴量（n_samples, n_features)\n",
    "\"\"\"\n",
    "\n",
    "num = 36 # いくつ表示するか\n",
    "\n",
    "true_false = y_pred==y_val\n",
    "false_list = np.where(true_false==False)[0].astype(np.int)\n",
    "\n",
    "if false_list.shape[0] < num:\n",
    "    num = false_list.shape[0]\n",
    "fig = plt.figure(figsize=(6, 6))\n",
    "fig.subplots_adjust(left=0, right=0.8,  bottom=0, top=0.8, hspace=1, wspace=0.5)\n",
    "for i in range(num):\n",
    "    ax = fig.add_subplot(6, 6, i + 1, xticks=[], yticks=[])\n",
    "    ax.set_title(\"{} / {}\".format(y_pred[false_list[i]],y_val[false_list[i]]))\n",
    "    ax.imshow(X_val.reshape(-1,28,28)[false_list[i]], cmap='gray')"
   ]
  },
  {
   "cell_type": "code",
   "execution_count": null,
   "metadata": {},
   "outputs": [],
   "source": []
  },
  {
   "cell_type": "code",
   "execution_count": null,
   "metadata": {},
   "outputs": [],
   "source": []
  },
  {
   "cell_type": "code",
   "execution_count": null,
   "metadata": {},
   "outputs": [],
   "source": []
  },
  {
   "cell_type": "code",
   "execution_count": null,
   "metadata": {},
   "outputs": [],
   "source": []
  },
  {
   "cell_type": "code",
   "execution_count": null,
   "metadata": {},
   "outputs": [],
   "source": []
  }
 ],
 "metadata": {
  "kernelspec": {
   "display_name": "Python 3",
   "language": "python",
   "name": "python3"
  },
  "language_info": {
   "codemirror_mode": {
    "name": "ipython",
    "version": 3
   },
   "file_extension": ".py",
   "mimetype": "text/x-python",
   "name": "python",
   "nbconvert_exporter": "python",
   "pygments_lexer": "ipython3",
   "version": "3.6.4"
  }
 },
 "nbformat": 4,
 "nbformat_minor": 2
}
