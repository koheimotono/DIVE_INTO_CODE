{
 "cells": [
  {
   "cell_type": "markdown",
   "metadata": {},
   "source": [
    "# sprint1 機械学習フロー"
   ]
  },
  {
   "cell_type": "code",
   "execution_count": 44,
   "metadata": {},
   "outputs": [],
   "source": [
    "import pandas as pd\n",
    "import numpy as np\n",
    "import matplotlib.pyplot as plt\n",
    "%matplotlib inline \n",
    "#import seaborn as sns\n",
    "from sklearn import cross_validation"
   ]
  },
  {
   "cell_type": "markdown",
   "metadata": {},
   "source": [
    "## データを読み込み、前処理"
   ]
  },
  {
   "cell_type": "code",
   "execution_count": 216,
   "metadata": {},
   "outputs": [],
   "source": [
    "# データを読み込む\n",
    "app_train = pd.read_csv(\"application_train.csv\")\n",
    "app_test = pd.read_csv(\"application_test.csv\")"
   ]
  },
  {
   "cell_type": "code",
   "execution_count": 3,
   "metadata": {},
   "outputs": [
    {
     "data": {
      "text/html": [
       "<div>\n",
       "<style scoped>\n",
       "    .dataframe tbody tr th:only-of-type {\n",
       "        vertical-align: middle;\n",
       "    }\n",
       "\n",
       "    .dataframe tbody tr th {\n",
       "        vertical-align: top;\n",
       "    }\n",
       "\n",
       "    .dataframe thead th {\n",
       "        text-align: right;\n",
       "    }\n",
       "</style>\n",
       "<table border=\"1\" class=\"dataframe\">\n",
       "  <thead>\n",
       "    <tr style=\"text-align: right;\">\n",
       "      <th></th>\n",
       "      <th>SK_ID_CURR</th>\n",
       "      <th>TARGET</th>\n",
       "      <th>NAME_CONTRACT_TYPE</th>\n",
       "      <th>CODE_GENDER</th>\n",
       "      <th>FLAG_OWN_CAR</th>\n",
       "      <th>FLAG_OWN_REALTY</th>\n",
       "      <th>CNT_CHILDREN</th>\n",
       "      <th>AMT_INCOME_TOTAL</th>\n",
       "      <th>AMT_CREDIT</th>\n",
       "      <th>AMT_ANNUITY</th>\n",
       "      <th>...</th>\n",
       "      <th>FLAG_DOCUMENT_18</th>\n",
       "      <th>FLAG_DOCUMENT_19</th>\n",
       "      <th>FLAG_DOCUMENT_20</th>\n",
       "      <th>FLAG_DOCUMENT_21</th>\n",
       "      <th>AMT_REQ_CREDIT_BUREAU_HOUR</th>\n",
       "      <th>AMT_REQ_CREDIT_BUREAU_DAY</th>\n",
       "      <th>AMT_REQ_CREDIT_BUREAU_WEEK</th>\n",
       "      <th>AMT_REQ_CREDIT_BUREAU_MON</th>\n",
       "      <th>AMT_REQ_CREDIT_BUREAU_QRT</th>\n",
       "      <th>AMT_REQ_CREDIT_BUREAU_YEAR</th>\n",
       "    </tr>\n",
       "  </thead>\n",
       "  <tbody>\n",
       "    <tr>\n",
       "      <th>0</th>\n",
       "      <td>100002</td>\n",
       "      <td>1</td>\n",
       "      <td>Cash loans</td>\n",
       "      <td>M</td>\n",
       "      <td>N</td>\n",
       "      <td>Y</td>\n",
       "      <td>0</td>\n",
       "      <td>202500.0</td>\n",
       "      <td>406597.5</td>\n",
       "      <td>24700.5</td>\n",
       "      <td>...</td>\n",
       "      <td>0</td>\n",
       "      <td>0</td>\n",
       "      <td>0</td>\n",
       "      <td>0</td>\n",
       "      <td>0.0</td>\n",
       "      <td>0.0</td>\n",
       "      <td>0.0</td>\n",
       "      <td>0.0</td>\n",
       "      <td>0.0</td>\n",
       "      <td>1.0</td>\n",
       "    </tr>\n",
       "    <tr>\n",
       "      <th>1</th>\n",
       "      <td>100003</td>\n",
       "      <td>0</td>\n",
       "      <td>Cash loans</td>\n",
       "      <td>F</td>\n",
       "      <td>N</td>\n",
       "      <td>N</td>\n",
       "      <td>0</td>\n",
       "      <td>270000.0</td>\n",
       "      <td>1293502.5</td>\n",
       "      <td>35698.5</td>\n",
       "      <td>...</td>\n",
       "      <td>0</td>\n",
       "      <td>0</td>\n",
       "      <td>0</td>\n",
       "      <td>0</td>\n",
       "      <td>0.0</td>\n",
       "      <td>0.0</td>\n",
       "      <td>0.0</td>\n",
       "      <td>0.0</td>\n",
       "      <td>0.0</td>\n",
       "      <td>0.0</td>\n",
       "    </tr>\n",
       "    <tr>\n",
       "      <th>2</th>\n",
       "      <td>100004</td>\n",
       "      <td>0</td>\n",
       "      <td>Revolving loans</td>\n",
       "      <td>M</td>\n",
       "      <td>Y</td>\n",
       "      <td>Y</td>\n",
       "      <td>0</td>\n",
       "      <td>67500.0</td>\n",
       "      <td>135000.0</td>\n",
       "      <td>6750.0</td>\n",
       "      <td>...</td>\n",
       "      <td>0</td>\n",
       "      <td>0</td>\n",
       "      <td>0</td>\n",
       "      <td>0</td>\n",
       "      <td>0.0</td>\n",
       "      <td>0.0</td>\n",
       "      <td>0.0</td>\n",
       "      <td>0.0</td>\n",
       "      <td>0.0</td>\n",
       "      <td>0.0</td>\n",
       "    </tr>\n",
       "  </tbody>\n",
       "</table>\n",
       "<p>3 rows × 122 columns</p>\n",
       "</div>"
      ],
      "text/plain": [
       "   SK_ID_CURR  TARGET NAME_CONTRACT_TYPE CODE_GENDER FLAG_OWN_CAR  \\\n",
       "0      100002       1         Cash loans           M            N   \n",
       "1      100003       0         Cash loans           F            N   \n",
       "2      100004       0    Revolving loans           M            Y   \n",
       "\n",
       "  FLAG_OWN_REALTY  CNT_CHILDREN  AMT_INCOME_TOTAL  AMT_CREDIT  AMT_ANNUITY  \\\n",
       "0               Y             0          202500.0    406597.5      24700.5   \n",
       "1               N             0          270000.0   1293502.5      35698.5   \n",
       "2               Y             0           67500.0    135000.0       6750.0   \n",
       "\n",
       "              ...              FLAG_DOCUMENT_18 FLAG_DOCUMENT_19  \\\n",
       "0             ...                             0                0   \n",
       "1             ...                             0                0   \n",
       "2             ...                             0                0   \n",
       "\n",
       "  FLAG_DOCUMENT_20 FLAG_DOCUMENT_21 AMT_REQ_CREDIT_BUREAU_HOUR  \\\n",
       "0                0                0                        0.0   \n",
       "1                0                0                        0.0   \n",
       "2                0                0                        0.0   \n",
       "\n",
       "  AMT_REQ_CREDIT_BUREAU_DAY  AMT_REQ_CREDIT_BUREAU_WEEK  \\\n",
       "0                       0.0                         0.0   \n",
       "1                       0.0                         0.0   \n",
       "2                       0.0                         0.0   \n",
       "\n",
       "   AMT_REQ_CREDIT_BUREAU_MON  AMT_REQ_CREDIT_BUREAU_QRT  \\\n",
       "0                        0.0                        0.0   \n",
       "1                        0.0                        0.0   \n",
       "2                        0.0                        0.0   \n",
       "\n",
       "   AMT_REQ_CREDIT_BUREAU_YEAR  \n",
       "0                         1.0  \n",
       "1                         0.0  \n",
       "2                         0.0  \n",
       "\n",
       "[3 rows x 122 columns]"
      ]
     },
     "metadata": {},
     "output_type": "display_data"
    },
    {
     "data": {
      "text/html": [
       "<div>\n",
       "<style scoped>\n",
       "    .dataframe tbody tr th:only-of-type {\n",
       "        vertical-align: middle;\n",
       "    }\n",
       "\n",
       "    .dataframe tbody tr th {\n",
       "        vertical-align: top;\n",
       "    }\n",
       "\n",
       "    .dataframe thead th {\n",
       "        text-align: right;\n",
       "    }\n",
       "</style>\n",
       "<table border=\"1\" class=\"dataframe\">\n",
       "  <thead>\n",
       "    <tr style=\"text-align: right;\">\n",
       "      <th></th>\n",
       "      <th>SK_ID_CURR</th>\n",
       "      <th>NAME_CONTRACT_TYPE</th>\n",
       "      <th>CODE_GENDER</th>\n",
       "      <th>FLAG_OWN_CAR</th>\n",
       "      <th>FLAG_OWN_REALTY</th>\n",
       "      <th>CNT_CHILDREN</th>\n",
       "      <th>AMT_INCOME_TOTAL</th>\n",
       "      <th>AMT_CREDIT</th>\n",
       "      <th>AMT_ANNUITY</th>\n",
       "      <th>AMT_GOODS_PRICE</th>\n",
       "      <th>...</th>\n",
       "      <th>FLAG_DOCUMENT_18</th>\n",
       "      <th>FLAG_DOCUMENT_19</th>\n",
       "      <th>FLAG_DOCUMENT_20</th>\n",
       "      <th>FLAG_DOCUMENT_21</th>\n",
       "      <th>AMT_REQ_CREDIT_BUREAU_HOUR</th>\n",
       "      <th>AMT_REQ_CREDIT_BUREAU_DAY</th>\n",
       "      <th>AMT_REQ_CREDIT_BUREAU_WEEK</th>\n",
       "      <th>AMT_REQ_CREDIT_BUREAU_MON</th>\n",
       "      <th>AMT_REQ_CREDIT_BUREAU_QRT</th>\n",
       "      <th>AMT_REQ_CREDIT_BUREAU_YEAR</th>\n",
       "    </tr>\n",
       "  </thead>\n",
       "  <tbody>\n",
       "    <tr>\n",
       "      <th>0</th>\n",
       "      <td>100001</td>\n",
       "      <td>Cash loans</td>\n",
       "      <td>F</td>\n",
       "      <td>N</td>\n",
       "      <td>Y</td>\n",
       "      <td>0</td>\n",
       "      <td>135000.0</td>\n",
       "      <td>568800.0</td>\n",
       "      <td>20560.5</td>\n",
       "      <td>450000.0</td>\n",
       "      <td>...</td>\n",
       "      <td>0</td>\n",
       "      <td>0</td>\n",
       "      <td>0</td>\n",
       "      <td>0</td>\n",
       "      <td>0.0</td>\n",
       "      <td>0.0</td>\n",
       "      <td>0.0</td>\n",
       "      <td>0.0</td>\n",
       "      <td>0.0</td>\n",
       "      <td>0.0</td>\n",
       "    </tr>\n",
       "    <tr>\n",
       "      <th>1</th>\n",
       "      <td>100005</td>\n",
       "      <td>Cash loans</td>\n",
       "      <td>M</td>\n",
       "      <td>N</td>\n",
       "      <td>Y</td>\n",
       "      <td>0</td>\n",
       "      <td>99000.0</td>\n",
       "      <td>222768.0</td>\n",
       "      <td>17370.0</td>\n",
       "      <td>180000.0</td>\n",
       "      <td>...</td>\n",
       "      <td>0</td>\n",
       "      <td>0</td>\n",
       "      <td>0</td>\n",
       "      <td>0</td>\n",
       "      <td>0.0</td>\n",
       "      <td>0.0</td>\n",
       "      <td>0.0</td>\n",
       "      <td>0.0</td>\n",
       "      <td>0.0</td>\n",
       "      <td>3.0</td>\n",
       "    </tr>\n",
       "    <tr>\n",
       "      <th>2</th>\n",
       "      <td>100013</td>\n",
       "      <td>Cash loans</td>\n",
       "      <td>M</td>\n",
       "      <td>Y</td>\n",
       "      <td>Y</td>\n",
       "      <td>0</td>\n",
       "      <td>202500.0</td>\n",
       "      <td>663264.0</td>\n",
       "      <td>69777.0</td>\n",
       "      <td>630000.0</td>\n",
       "      <td>...</td>\n",
       "      <td>0</td>\n",
       "      <td>0</td>\n",
       "      <td>0</td>\n",
       "      <td>0</td>\n",
       "      <td>0.0</td>\n",
       "      <td>0.0</td>\n",
       "      <td>0.0</td>\n",
       "      <td>0.0</td>\n",
       "      <td>1.0</td>\n",
       "      <td>4.0</td>\n",
       "    </tr>\n",
       "  </tbody>\n",
       "</table>\n",
       "<p>3 rows × 121 columns</p>\n",
       "</div>"
      ],
      "text/plain": [
       "   SK_ID_CURR NAME_CONTRACT_TYPE CODE_GENDER FLAG_OWN_CAR FLAG_OWN_REALTY  \\\n",
       "0      100001         Cash loans           F            N               Y   \n",
       "1      100005         Cash loans           M            N               Y   \n",
       "2      100013         Cash loans           M            Y               Y   \n",
       "\n",
       "   CNT_CHILDREN  AMT_INCOME_TOTAL  AMT_CREDIT  AMT_ANNUITY  AMT_GOODS_PRICE  \\\n",
       "0             0          135000.0    568800.0      20560.5         450000.0   \n",
       "1             0           99000.0    222768.0      17370.0         180000.0   \n",
       "2             0          202500.0    663264.0      69777.0         630000.0   \n",
       "\n",
       "              ...             FLAG_DOCUMENT_18 FLAG_DOCUMENT_19  \\\n",
       "0             ...                            0                0   \n",
       "1             ...                            0                0   \n",
       "2             ...                            0                0   \n",
       "\n",
       "  FLAG_DOCUMENT_20 FLAG_DOCUMENT_21 AMT_REQ_CREDIT_BUREAU_HOUR  \\\n",
       "0                0                0                        0.0   \n",
       "1                0                0                        0.0   \n",
       "2                0                0                        0.0   \n",
       "\n",
       "   AMT_REQ_CREDIT_BUREAU_DAY  AMT_REQ_CREDIT_BUREAU_WEEK  \\\n",
       "0                        0.0                         0.0   \n",
       "1                        0.0                         0.0   \n",
       "2                        0.0                         0.0   \n",
       "\n",
       "   AMT_REQ_CREDIT_BUREAU_MON  AMT_REQ_CREDIT_BUREAU_QRT  \\\n",
       "0                        0.0                        0.0   \n",
       "1                        0.0                        0.0   \n",
       "2                        0.0                        1.0   \n",
       "\n",
       "   AMT_REQ_CREDIT_BUREAU_YEAR  \n",
       "0                         0.0  \n",
       "1                         3.0  \n",
       "2                         4.0  \n",
       "\n",
       "[3 rows x 121 columns]"
      ]
     },
     "metadata": {},
     "output_type": "display_data"
    }
   ],
   "source": [
    "# 読み込んだデータの確認\n",
    "display(app_train.head(3))\n",
    "display(app_test.head(3))"
   ]
  },
  {
   "cell_type": "code",
   "execution_count": 156,
   "metadata": {},
   "outputs": [
    {
     "data": {
      "text/html": [
       "<div>\n",
       "<style scoped>\n",
       "    .dataframe tbody tr th:only-of-type {\n",
       "        vertical-align: middle;\n",
       "    }\n",
       "\n",
       "    .dataframe tbody tr th {\n",
       "        vertical-align: top;\n",
       "    }\n",
       "\n",
       "    .dataframe thead th {\n",
       "        text-align: right;\n",
       "    }\n",
       "</style>\n",
       "<table border=\"1\" class=\"dataframe\">\n",
       "  <thead>\n",
       "    <tr style=\"text-align: right;\">\n",
       "      <th></th>\n",
       "      <th>SK_ID_CURR</th>\n",
       "      <th>NAME_CONTRACT_TYPE</th>\n",
       "      <th>CODE_GENDER</th>\n",
       "      <th>FLAG_OWN_CAR</th>\n",
       "      <th>FLAG_OWN_REALTY</th>\n",
       "      <th>CNT_CHILDREN</th>\n",
       "      <th>AMT_INCOME_TOTAL</th>\n",
       "      <th>AMT_CREDIT</th>\n",
       "      <th>AMT_ANNUITY</th>\n",
       "      <th>AMT_GOODS_PRICE</th>\n",
       "      <th>...</th>\n",
       "      <th>FLAG_DOCUMENT_18</th>\n",
       "      <th>FLAG_DOCUMENT_19</th>\n",
       "      <th>FLAG_DOCUMENT_20</th>\n",
       "      <th>FLAG_DOCUMENT_21</th>\n",
       "      <th>AMT_REQ_CREDIT_BUREAU_HOUR</th>\n",
       "      <th>AMT_REQ_CREDIT_BUREAU_DAY</th>\n",
       "      <th>AMT_REQ_CREDIT_BUREAU_WEEK</th>\n",
       "      <th>AMT_REQ_CREDIT_BUREAU_MON</th>\n",
       "      <th>AMT_REQ_CREDIT_BUREAU_QRT</th>\n",
       "      <th>AMT_REQ_CREDIT_BUREAU_YEAR</th>\n",
       "    </tr>\n",
       "  </thead>\n",
       "  <tbody>\n",
       "    <tr>\n",
       "      <th>0</th>\n",
       "      <td>100002</td>\n",
       "      <td>Cash loans</td>\n",
       "      <td>M</td>\n",
       "      <td>N</td>\n",
       "      <td>Y</td>\n",
       "      <td>0</td>\n",
       "      <td>202500.0</td>\n",
       "      <td>406597.5</td>\n",
       "      <td>24700.5</td>\n",
       "      <td>351000.0</td>\n",
       "      <td>...</td>\n",
       "      <td>0</td>\n",
       "      <td>0</td>\n",
       "      <td>0</td>\n",
       "      <td>0</td>\n",
       "      <td>0.0</td>\n",
       "      <td>0.0</td>\n",
       "      <td>0.0</td>\n",
       "      <td>0.0</td>\n",
       "      <td>0.0</td>\n",
       "      <td>1.0</td>\n",
       "    </tr>\n",
       "    <tr>\n",
       "      <th>1</th>\n",
       "      <td>100003</td>\n",
       "      <td>Cash loans</td>\n",
       "      <td>F</td>\n",
       "      <td>N</td>\n",
       "      <td>N</td>\n",
       "      <td>0</td>\n",
       "      <td>270000.0</td>\n",
       "      <td>1293502.5</td>\n",
       "      <td>35698.5</td>\n",
       "      <td>1129500.0</td>\n",
       "      <td>...</td>\n",
       "      <td>0</td>\n",
       "      <td>0</td>\n",
       "      <td>0</td>\n",
       "      <td>0</td>\n",
       "      <td>0.0</td>\n",
       "      <td>0.0</td>\n",
       "      <td>0.0</td>\n",
       "      <td>0.0</td>\n",
       "      <td>0.0</td>\n",
       "      <td>0.0</td>\n",
       "    </tr>\n",
       "    <tr>\n",
       "      <th>2</th>\n",
       "      <td>100004</td>\n",
       "      <td>Revolving loans</td>\n",
       "      <td>M</td>\n",
       "      <td>Y</td>\n",
       "      <td>Y</td>\n",
       "      <td>0</td>\n",
       "      <td>67500.0</td>\n",
       "      <td>135000.0</td>\n",
       "      <td>6750.0</td>\n",
       "      <td>135000.0</td>\n",
       "      <td>...</td>\n",
       "      <td>0</td>\n",
       "      <td>0</td>\n",
       "      <td>0</td>\n",
       "      <td>0</td>\n",
       "      <td>0.0</td>\n",
       "      <td>0.0</td>\n",
       "      <td>0.0</td>\n",
       "      <td>0.0</td>\n",
       "      <td>0.0</td>\n",
       "      <td>0.0</td>\n",
       "    </tr>\n",
       "  </tbody>\n",
       "</table>\n",
       "<p>3 rows × 121 columns</p>\n",
       "</div>"
      ],
      "text/plain": [
       "   SK_ID_CURR NAME_CONTRACT_TYPE CODE_GENDER FLAG_OWN_CAR FLAG_OWN_REALTY  \\\n",
       "0      100002         Cash loans           M            N               Y   \n",
       "1      100003         Cash loans           F            N               N   \n",
       "2      100004    Revolving loans           M            Y               Y   \n",
       "\n",
       "   CNT_CHILDREN  AMT_INCOME_TOTAL  AMT_CREDIT  AMT_ANNUITY  AMT_GOODS_PRICE  \\\n",
       "0             0          202500.0    406597.5      24700.5         351000.0   \n",
       "1             0          270000.0   1293502.5      35698.5        1129500.0   \n",
       "2             0           67500.0    135000.0       6750.0         135000.0   \n",
       "\n",
       "              ...             FLAG_DOCUMENT_18 FLAG_DOCUMENT_19  \\\n",
       "0             ...                            0                0   \n",
       "1             ...                            0                0   \n",
       "2             ...                            0                0   \n",
       "\n",
       "  FLAG_DOCUMENT_20 FLAG_DOCUMENT_21 AMT_REQ_CREDIT_BUREAU_HOUR  \\\n",
       "0                0                0                        0.0   \n",
       "1                0                0                        0.0   \n",
       "2                0                0                        0.0   \n",
       "\n",
       "   AMT_REQ_CREDIT_BUREAU_DAY  AMT_REQ_CREDIT_BUREAU_WEEK  \\\n",
       "0                        0.0                         0.0   \n",
       "1                        0.0                         0.0   \n",
       "2                        0.0                         0.0   \n",
       "\n",
       "   AMT_REQ_CREDIT_BUREAU_MON  AMT_REQ_CREDIT_BUREAU_QRT  \\\n",
       "0                        0.0                        0.0   \n",
       "1                        0.0                        0.0   \n",
       "2                        0.0                        0.0   \n",
       "\n",
       "   AMT_REQ_CREDIT_BUREAU_YEAR  \n",
       "0                         1.0  \n",
       "1                         0.0  \n",
       "2                         0.0  \n",
       "\n",
       "[3 rows x 121 columns]"
      ]
     },
     "metadata": {},
     "output_type": "display_data"
    },
    {
     "data": {
      "text/plain": [
       "0    1\n",
       "1    0\n",
       "2    0\n",
       "Name: TARGET, dtype: int64"
      ]
     },
     "metadata": {},
     "output_type": "display_data"
    }
   ],
   "source": [
    "# trainデータを説明変数と目的変数にわける\n",
    "X = app_train.loc[:, app_train.columns != \"TARGET\"]\n",
    "y = app_train[\"TARGET\"]\n",
    "# 確認\n",
    "display(X.head(3))\n",
    "display(y.head(3))"
   ]
  },
  {
   "cell_type": "code",
   "execution_count": 5,
   "metadata": {},
   "outputs": [
    {
     "data": {
      "text/plain": [
       "(307511, 4)"
      ]
     },
     "metadata": {},
     "output_type": "display_data"
    }
   ],
   "source": [
    "# 前処理\n",
    "X_selected = X.select_dtypes(include=float).dropna(how=\"any\", axis=1) #サンプル数は変わっていない\n",
    "display(X_selected.shape)"
   ]
  },
  {
   "cell_type": "code",
   "execution_count": 6,
   "metadata": {},
   "outputs": [
    {
     "data": {
      "text/plain": [
       "array([[ 0.14212925, -0.47809496, -0.14945221,  0.37983698],\n",
       "       [ 0.42679193,  1.7254498 , -1.25275029,  1.07869689],\n",
       "       [-0.4271961 , -1.15288792, -0.78345096,  0.20611551],\n",
       "       ...,\n",
       "       [-0.06662338,  0.19537871, -1.14711999, -0.49700228],\n",
       "       [ 0.00928667, -0.56875681, -1.12463468,  0.68810743],\n",
       "       [-0.04764587,  0.18875991,  1.83294163, -0.04027377]])"
      ]
     },
     "metadata": {},
     "output_type": "display_data"
    }
   ],
   "source": [
    "# 標準化\n",
    "from sklearn.preprocessing import StandardScaler\n",
    "scaler = StandardScaler()\n",
    "\n",
    "scaler.fit(X_selected)\n",
    "X_selected_transformed = scaler.transform(X_selected)\n",
    "display(X_selected_transformed)"
   ]
  },
  {
   "cell_type": "markdown",
   "metadata": {},
   "source": [
    "## モデルと評価指標"
   ]
  },
  {
   "cell_type": "code",
   "execution_count": 30,
   "metadata": {},
   "outputs": [],
   "source": [
    "# 2値分類の評価指標を計算\n",
    "from sklearn import metrics\n",
    "from sklearn.metrics import roc_auc_score\n",
    "\n",
    "def evaluate(y_true, y_pred, y_pred_proba):\n",
    "    \"\"\"\n",
    "    2値分類の評価指標を計算する\n",
    "    \"\"\"\n",
    "    acc = metrics.accuracy_score(y_true, y_pred)\n",
    "    precision = metrics.precision_score(y_true, y_pred)\n",
    "    recall = metrics.recall_score(y_true, y_pred)\n",
    "    f1 = metrics.f1_score(y_true, y_pred)\n",
    "    confusion = metrics.confusion_matrix(y_true, y_pred)\n",
    "    auc = roc_auc_score(y_true, y_pred_proba[:, 1])\n",
    "    return acc, precision, recall, f1, confusion, auc"
   ]
  },
  {
   "cell_type": "code",
   "execution_count": 31,
   "metadata": {},
   "outputs": [],
   "source": [
    "# ランダムフォレスト\n",
    "from sklearn.ensemble import RandomForestClassifier\n",
    "\n",
    "def pred_random_forest(X_train, X_test, y_train, y_test):\n",
    "    random_forest = RandomForestClassifier()\n",
    "    model = random_forest\n",
    "    model_name = \"Random Forest\"\n",
    "    print(model_name)\n",
    "    \n",
    "    model.fit(X_train, y_train)\n",
    "    y_pred = model.predict(X_test)\n",
    "    y_pred_proba = model.predict_proba(X_test)\n",
    "    print(\"acc : {}\\nprecision : {}\\nrecall : {}\\nf1 : {}\\nconfusion matrix \\n {}\\nauc \\n {}\".format(*evaluate(y_test, y_pred, y_pred_proba)))"
   ]
  },
  {
   "cell_type": "markdown",
   "metadata": {},
   "source": [
    "## 【問題1】クロスバリデーション"
   ]
  },
  {
   "cell_type": "code",
   "execution_count": 32,
   "metadata": {},
   "outputs": [],
   "source": [
    "# KFoldクラスによるクロスバリデーション\n",
    "from sklearn.model_selection import KFold\n",
    "\n",
    "n_splits = 4\n",
    "\"\"\"\n",
    "n_splits = k の値をどれくらいにするか。\n",
    "k = 1 : データが十分に多い場合は、Hold-Out法を用いる。\n",
    "k = 5,10\n",
    "k = n : データが少ない場合は、kの値はnに固定される。nはデータセットのサイズ。\n",
    "\"\"\"\n",
    "\n",
    "def kfold_cross_validation(X, y, n_splits=n_splits):\n",
    "    \"\"\"\n",
    "    KFoldクラスによるクロスバリデーションを行う関数\n",
    "    \"\"\"\n",
    "    kf = KFold(n_splits=n_splits)\n",
    "    print(kf)\n",
    "    # print(kf.get_n_splits(X))\n",
    "    print()\n",
    "    \n",
    "    # kf.split()はイテレータ\n",
    "    for train_index, test_index in kf.split(X):\n",
    "        print(\"TRAIN:\", train_index, \"TEST:\", test_index)\n",
    "        # print(len(train_index), len(test_index))\n",
    "        X_train, X_test = X[train_index], X[test_index]\n",
    "        y_train, y_test = y[train_index], y[test_index]\n",
    "        pred_random_forest(X_train, X_test, y_train, y_test)\n",
    "        print()"
   ]
  },
  {
   "cell_type": "code",
   "execution_count": 33,
   "metadata": {},
   "outputs": [
    {
     "name": "stdout",
     "output_type": "stream",
     "text": [
      "KFold(n_splits=4, random_state=None, shuffle=False)\n",
      "\n",
      "TRAIN: [ 76878  76879  76880 ... 307508 307509 307510] TEST: [    0     1     2 ... 76875 76876 76877]\n",
      "Random Forest\n",
      "acc : 0.9157496292827597\n",
      "precision : 0.12158808933002481\n",
      "recall : 0.007939079714841219\n",
      "f1 : 0.01490494296577947\n",
      "confusion matrix \n",
      " [[70352   354]\n",
      " [ 6123    49]]\n",
      "auc \n",
      " 0.533949671592018\n",
      "\n",
      "TRAIN: [     0      1      2 ... 307508 307509 307510] TEST: [ 76878  76879  76880 ... 153753 153754 153755]\n",
      "Random Forest\n",
      "acc : 0.9133302115039413\n",
      "precision : 0.1325\n",
      "recall : 0.008321557544355472\n",
      "f1 : 0.015659624759934997\n",
      "confusion matrix \n",
      " [[70162   347]\n",
      " [ 6316    53]]\n",
      "auc \n",
      " 0.5330781320611966\n",
      "\n",
      "TRAIN: [     0      1      2 ... 307508 307509 307510] TEST: [153756 153757 153758 ... 230631 230632 230633]\n",
      "Random Forest\n",
      "acc : 0.9155545149457582\n",
      "precision : 0.11954022988505747\n",
      "recall : 0.008440188281123194\n",
      "f1 : 0.015767131594906003\n",
      "confusion matrix \n",
      " [[70334   383]\n",
      " [ 6109    52]]\n",
      "auc \n",
      " 0.5274923545706919\n",
      "\n",
      "TRAIN: [     0      1      2 ... 230631 230632 230633] TEST: [230634 230635 230636 ... 307508 307509 307510]\n",
      "Random Forest\n",
      "acc : 0.9162428294548435\n",
      "precision : 0.1609442060085837\n",
      "recall : 0.01224889759921607\n",
      "f1 : 0.02276521475185916\n",
      "confusion matrix \n",
      " [[70363   391]\n",
      " [ 6048    75]]\n",
      "auc \n",
      " 0.5339122844360332\n",
      "\n"
     ]
    }
   ],
   "source": [
    "kfold_cross_validation(X_selected_transformed, y)"
   ]
  },
  {
   "cell_type": "markdown",
   "metadata": {},
   "source": [
    "## 【問題2】グリッドサーチ"
   ]
  },
  {
   "cell_type": "code",
   "execution_count": 11,
   "metadata": {},
   "outputs": [
    {
     "data": {
      "text/plain": [
       "GridSearchCV(cv=4, error_score='raise',\n",
       "       estimator=RandomForestClassifier(bootstrap=True, class_weight=None, criterion='gini',\n",
       "            max_depth=None, max_features='auto', max_leaf_nodes=None,\n",
       "            min_impurity_decrease=0.0, min_impurity_split=None,\n",
       "            min_samples_leaf=1, min_samples_split=2,\n",
       "            min_weight_fraction_leaf=0.0, n_estimators=10, n_jobs=1,\n",
       "            oob_score=False, random_state=None, verbose=0,\n",
       "            warm_start=False),\n",
       "       fit_params=None, iid=True, n_jobs=1,\n",
       "       param_grid={'n_estimators': [10, 20, 30], 'max_depth': [5, 10]},\n",
       "       pre_dispatch='2*n_jobs', refit=True, return_train_score='warn',\n",
       "       scoring='roc_auc', verbose=0)"
      ]
     },
     "execution_count": 11,
     "metadata": {},
     "output_type": "execute_result"
    }
   ],
   "source": [
    "# グリッドサーチ\n",
    "from sklearn.model_selection import GridSearchCV\n",
    "# roc_aucで最適化した\n",
    "parameters = {'n_estimators':[10, 20, 30], 'max_depth':[5, 10]}\n",
    "random_forest = RandomForestClassifier()\n",
    "clf_r_f = GridSearchCV(random_forest, parameters, cv=4, scoring=\"roc_auc\")\n",
    "clf_r_f.fit(X_selected_transformed, y)"
   ]
  },
  {
   "cell_type": "code",
   "execution_count": 53,
   "metadata": {},
   "outputs": [
    {
     "name": "stdout",
     "output_type": "stream",
     "text": [
      "{'max_depth': 10, 'n_estimators': 30}\n",
      "best_score = 0.593377425138086\n"
     ]
    }
   ],
   "source": [
    "# 最適化されたモデルを取得\n",
    "random_forest_best = clf_r_f.best_estimator_\n",
    "# そのパラメータを取得\n",
    "random_forest_best_params = clf_r_f.best_params_\n",
    "print(random_forest_best_params)\n",
    "# そのスコアを確認\n",
    "random_forest_best_score = clf_r_f.best_score_\n",
    "print(\"best_score =\", random_forest_best_score)"
   ]
  },
  {
   "cell_type": "markdown",
   "metadata": {},
   "source": [
    "### 最適化したモデルでスコアを出してみる"
   ]
  },
  {
   "cell_type": "code",
   "execution_count": 54,
   "metadata": {},
   "outputs": [
    {
     "name": "stdout",
     "output_type": "stream",
     "text": [
      "[0.00000000e+00 0.00000000e+00 1.41468728e-05 ... 9.99929266e-01\n",
      " 9.99957559e-01 1.00000000e+00]\n",
      "[1.61524794e-04 6.62251656e-03 6.62251656e-03 ... 1.00000000e+00\n",
      " 1.00000000e+00 1.00000000e+00]\n",
      "[0.74005691 0.25336096 0.25076935 ... 0.00369092 0.00342637 0.00263082]\n"
     ]
    },
    {
     "data": {
      "text/plain": [
       "0.6757165902374873"
      ]
     },
     "execution_count": 54,
     "metadata": {},
     "output_type": "execute_result"
    },
    {
     "data": {
      "image/png": "[encoded data removed]",
      "text/plain": [
       "<matplotlib.figure.Figure at 0x1a19096f60>"
      ]
     },
     "metadata": {},
     "output_type": "display_data"
    }
   ],
   "source": [
    "# 一例としてROC曲線を表示\n",
    "from sklearn.model_selection import train_test_split\n",
    "from sklearn.metrics import roc_curve\n",
    "from sklearn.metrics import roc_auc_score\n",
    "\n",
    "X_train, X_test, y_train, y_test = train_test_split(X_selected_transformed, y, test_size=0.25, random_state=42)\n",
    "y_pred = random_forest_best.predict_proba(X_test)\n",
    "roc = roc_curve(y_test, y_pred[:, 1])\n",
    "fpr, tpr, thresholds = roc\n",
    "\n",
    "plt.plot(fpr, tpr, marker='o')\n",
    "plt.xlabel('FPR: False positive rate')\n",
    "plt.ylabel('TPR: True positive rate')\n",
    "plt.grid()\n",
    "print(fpr)\n",
    "print(tpr)\n",
    "print(thresholds)\n",
    "\n",
    "roc_auc_score(y_test, y_pred[:, 1])"
   ]
  },
  {
   "cell_type": "raw",
   "metadata": {},
   "source": [
    "上の場合だとクロスバリデーションの時に学習したデータに対して行なっているので評価値は良くなる。\n",
    "意味ない。"
   ]
  },
  {
   "cell_type": "markdown",
   "metadata": {},
   "source": [
    "### 提出用のデータで予測をする"
   ]
  },
  {
   "cell_type": "code",
   "execution_count": 55,
   "metadata": {},
   "outputs": [
    {
     "data": {
      "text/plain": [
       "array([0.11336917, 0.08476774, 0.10056951, ..., 0.10297819, 0.11138803,\n",
       "       0.11449047])"
      ]
     },
     "execution_count": 55,
     "metadata": {},
     "output_type": "execute_result"
    }
   ],
   "source": [
    "# 提出用\n",
    "app_test_selected = app_test.loc[:, X_selected.columns]\n",
    "app_test_selected_transformed = scaler.transform(app_test_selected)\n",
    "app_test_pred = random_forest_best.predict_proba(app_test_selected_transformed)[:, 1]\n",
    "app_test_pred"
   ]
  },
  {
   "cell_type": "code",
   "execution_count": 56,
   "metadata": {},
   "outputs": [],
   "source": [
    "# テスト値を再読み込みして，RandomForestでクラス分類したカラムを追加\n",
    "df_out = pd.read_csv(\"application_test.csv\")\n",
    "df_out[\"TARGET\"] = app_test_pred\n",
    "\n",
    "# outputディレクトリに出力する\n",
    "df_out[[\"SK_ID_CURR\",\"TARGET\"]].to_csv(\"submission.csv\",index=False)"
   ]
  },
  {
   "cell_type": "raw",
   "metadata": {},
   "source": [
    "提出した結果、スコアは 0.58076 であった。"
   ]
  },
  {
   "cell_type": "markdown",
   "metadata": {},
   "source": [
    "## 【問題3】Kernelからの調査"
   ]
  },
  {
   "cell_type": "markdown",
   "metadata": {},
   "source": [
    "### どんな人、どんなやり方があるか"
   ]
  },
  {
   "cell_type": "raw",
   "metadata": {},
   "source": [
    "・StratifiedKFold()　を使っている人がいた。\n",
    "・Automated Feature Engineering という特徴量エンジニアリングの方法がある。\n",
    "・データを訓練データと検証データに分けてからグリッドサーチしている人がいた。\n",
    "・ダブルクロスバリデーションというものがある。\n",
    "・ランダムフォレストの引数をデフォルトから変えている人がいた。"
   ]
  },
  {
   "cell_type": "markdown",
   "metadata": {},
   "source": [
    "#### ランダムフォレストの引数を変えていた例"
   ]
  },
  {
   "cell_type": "raw",
   "metadata": {},
   "source": [
    "clf = RandomForestClassifier(\n",
    "    n_estimators=50,\n",
    "    criterion='gini',\n",
    "    max_depth=5,\n",
    "    min_samples_split=2,\n",
    "    min_samples_leaf=1,\n",
    "    min_weight_fraction_leaf=0.0,\n",
    "    max_features='auto',\n",
    "    max_leaf_nodes=None,\n",
    "    min_impurity_decrease=0.0,\n",
    "    min_impurity_split=None,\n",
    "    bootstrap=True,\n",
    "    oob_score=False,\n",
    "    n_jobs=-1,\n",
    "    random_state=0,\n",
    "    verbose=0,\n",
    "    warm_start=False,\n",
    "    class_weight='balanced'\n",
    ")\n",
    "\n",
    "引用元 : https://www.kaggle.com/ynouri/random-forest-k-fold-cross-validation"
   ]
  },
  {
   "cell_type": "code",
   "execution_count": null,
   "metadata": {},
   "outputs": [],
   "source": []
  },
  {
   "cell_type": "markdown",
   "metadata": {},
   "source": [
    "## 【問題4】高い汎化性能のモデル作成"
   ]
  },
  {
   "cell_type": "markdown",
   "metadata": {},
   "source": [
    "### StratifiedKFoldクラスによるクロスバリデーション"
   ]
  },
  {
   "cell_type": "code",
   "execution_count": 41,
   "metadata": {},
   "outputs": [],
   "source": [
    "# StratifiedKFoldクラスによるクロスバリデーション\n",
    "from sklearn.model_selection import StratifiedKFold\n",
    "\n",
    "n_splits = 4\n",
    "def stratified_kfold_cross_validation(X, y, n_splits=n_splits):\n",
    "    \"\"\"\n",
    "    StratifiedKFoldクラスによるクロスバリデーションを行う関数\n",
    "    \"\"\"\n",
    "    kf = StratifiedKFold(n_splits=n_splits)\n",
    "    print(kf)\n",
    "    # print(kf.get_n_splits(X))\n",
    "    print()\n",
    "    \n",
    "    # kf.split()はイテレータ\n",
    "    for train_index, test_index in kf.split(X, y):\n",
    "        print(\"TRAIN:\", train_index, \"TEST:\", test_index)\n",
    "        # print(len(train_index), len(test_index))\n",
    "        X_train, X_test = X[train_index], X[test_index]\n",
    "        y_train, y_test = y[train_index], y[test_index]\n",
    "        pred_random_forest(X_train, X_test, y_train, y_test)\n",
    "        print()"
   ]
  },
  {
   "cell_type": "code",
   "execution_count": 42,
   "metadata": {},
   "outputs": [
    {
     "name": "stdout",
     "output_type": "stream",
     "text": [
      "StratifiedKFold(n_splits=4, random_state=None, shuffle=False)\n",
      "\n",
      "TRAIN: [ 76839  76840  76841 ... 307508 307509 307510] TEST: [    0     1     2 ... 77221 77223 77234]\n",
      "Random Forest\n",
      "acc : 0.9146841139973204\n",
      "precision : 0.10714285714285714\n",
      "recall : 0.007733204446592557\n",
      "f1 : 0.014425244177310292\n",
      "confusion matrix \n",
      " [[70272   400]\n",
      " [ 6159    48]]\n",
      "auc \n",
      " 0.5387640181564856\n",
      "\n",
      "TRAIN: [     0      1      2 ... 307508 307509 307510] TEST: [ 76839  76840  76841 ... 153895 153896 153897]\n",
      "Random Forest\n",
      "acc : 0.9148781185774864\n",
      "precision : 0.1141552511415525\n",
      "recall : 0.008056719303899453\n",
      "f1 : 0.015051173991571343\n",
      "confusion matrix \n",
      " [[70284   388]\n",
      " [ 6156    50]]\n",
      "auc \n",
      " 0.5322897981048524\n",
      "\n",
      "TRAIN: [     0      1      2 ... 307508 307509 307510] TEST: [152104 152116 152120 ... 230719 230720 230721]\n",
      "Random Forest\n",
      "acc : 0.914655878871444\n",
      "precision : 0.11159737417943107\n",
      "recall : 0.00821785368997744\n",
      "f1 : 0.015308419630796936\n",
      "confusion matrix \n",
      " [[70265   406]\n",
      " [ 6155    51]]\n",
      "auc \n",
      " 0.5230731018128317\n",
      "\n",
      "TRAIN: [     0      1      2 ... 230719 230720 230721] TEST: [229720 229728 229732 ... 307508 307509 307510]\n",
      "Random Forest\n",
      "acc : 0.9149810736631242\n",
      "precision : 0.11448598130841121\n",
      "recall : 0.007895584917821464\n",
      "f1 : 0.014772384684956286\n",
      "confusion matrix \n",
      " [[70292   379]\n",
      " [ 6157    49]]\n",
      "auc \n",
      " 0.5373977004362214\n",
      "\n"
     ]
    }
   ],
   "source": [
    "stratified_kfold_cross_validation(X_selected_transformed, y)"
   ]
  },
  {
   "cell_type": "raw",
   "metadata": {},
   "source": [
    "StratifiedKFold にしてもあまりaucは変わらなかった。"
   ]
  },
  {
   "cell_type": "markdown",
   "metadata": {},
   "source": [
    "### ランダムフォレストの引数を変えてみる"
   ]
  },
  {
   "cell_type": "code",
   "execution_count": 46,
   "metadata": {},
   "outputs": [],
   "source": [
    "def pred_random_forest_1(X_train, X_test, y_train, y_test):\n",
    "    random_forest = RandomForestClassifier(n_estimators=50, criterion='gini', max_depth=5, min_samples_split=2, min_samples_leaf=1, min_weight_fraction_leaf=0.0, max_features='auto', max_leaf_nodes=None, min_impurity_decrease=0.0, min_impurity_split=None, bootstrap=True, oob_score=False, n_jobs=-1, random_state=0, verbose=0, warm_start=False, class_weight='balanced')\n",
    "    model = random_forest\n",
    "    model_name = \"Random Forest\"\n",
    "    print(model_name)\n",
    "    \n",
    "    model.fit(X_train, y_train)\n",
    "    y_pred = model.predict(X_test)\n",
    "    y_pred_proba = model.predict_proba(X_test)\n",
    "    print(\"acc : {}\\nprecision : {}\\nrecall : {}\\nf1 : {}\\nconfusion matrix \\n {}\\nauc \\n {}\".format(*evaluate(y_test, y_pred, y_pred_proba)))"
   ]
  },
  {
   "cell_type": "code",
   "execution_count": 47,
   "metadata": {},
   "outputs": [],
   "source": [
    "n_splits = 4\n",
    "def stratified_kfold_cross_validation_1(X, y, n_splits=n_splits):\n",
    "    \"\"\"\n",
    "    StratifiedKFoldクラスによるクロスバリデーションを行う関数\n",
    "    \"\"\"\n",
    "    kf = StratifiedKFold(n_splits=n_splits)\n",
    "    print(kf)\n",
    "    # print(kf.get_n_splits(X))\n",
    "    print()\n",
    "    \n",
    "    # kf.split()はイテレータ\n",
    "    for train_index, test_index in kf.split(X, y):\n",
    "        print(\"TRAIN:\", train_index, \"TEST:\", test_index)\n",
    "        # print(len(train_index), len(test_index))\n",
    "        X_train, X_test = X[train_index], X[test_index]\n",
    "        y_train, y_test = y[train_index], y[test_index]\n",
    "        pred_random_forest_1(X_train, X_test, y_train, y_test)\n",
    "        print()"
   ]
  },
  {
   "cell_type": "code",
   "execution_count": 48,
   "metadata": {},
   "outputs": [
    {
     "name": "stdout",
     "output_type": "stream",
     "text": [
      "StratifiedKFold(n_splits=4, random_state=None, shuffle=False)\n",
      "\n",
      "TRAIN: [ 76839  76840  76841 ... 307508 307509 307510] TEST: [    0     1     2 ... 77221 77223 77234]\n",
      "Random Forest\n",
      "acc : 0.5148089855487195\n",
      "precision : 0.09973739766232428\n",
      "recall : 0.6241340422104076\n",
      "f1 : 0.17199049923416723\n",
      "confusion matrix \n",
      " [[35704 34968]\n",
      " [ 2333  3874]]\n",
      "auc \n",
      " 0.5946198434771641\n",
      "\n",
      "TRAIN: [     0      1      2 ... 307508 307509 307510] TEST: [ 76839  76840  76841 ... 153895 153896 153897]\n",
      "Random Forest\n",
      "acc : 0.5162595280834569\n",
      "precision : 0.09940265315093998\n",
      "recall : 0.6194005800837898\n",
      "f1 : 0.17131269915546937\n",
      "confusion matrix \n",
      " [[35845 34827]\n",
      " [ 2362  3844]]\n",
      "auc \n",
      " 0.5899373541281447\n",
      "\n",
      "TRAIN: [     0      1      2 ... 307508 307509 307510] TEST: [152104 152116 152120 ... 230719 230720 230721]\n",
      "Random Forest\n",
      "acc : 0.5035706388126487\n",
      "precision : 0.09837631327602674\n",
      "recall : 0.6306799871092491\n",
      "f1 : 0.1702035136545486\n",
      "confusion matrix \n",
      " [[34799 35872]\n",
      " [ 2292  3914]]\n",
      "auc \n",
      " 0.5900367994538865\n",
      "\n",
      "TRAIN: [     0      1      2 ... 230719 230720 230721] TEST: [229720 229728 229732 ... 307508 307509 307510]\n",
      "Random Forest\n",
      "acc : 0.5259050171052461\n",
      "precision : 0.09991268224274337\n",
      "recall : 0.6084434418304866\n",
      "f1 : 0.17164026455146708\n",
      "confusion matrix \n",
      " [[36654 34017]\n",
      " [ 2430  3776]]\n",
      "auc \n",
      " 0.5886377044485863\n",
      "\n"
     ]
    }
   ],
   "source": [
    "stratified_kfold_cross_validation_1(X_selected_transformed, y)"
   ]
  },
  {
   "cell_type": "markdown",
   "metadata": {},
   "source": [
    "#### さらにグリッドサーチしてみる"
   ]
  },
  {
   "cell_type": "code",
   "execution_count": 50,
   "metadata": {},
   "outputs": [
    {
     "data": {
      "text/plain": [
       "GridSearchCV(cv=4, error_score='raise',\n",
       "       estimator=RandomForestClassifier(bootstrap=True, class_weight='balanced',\n",
       "            criterion='gini', max_depth=5, max_features='auto',\n",
       "            max_leaf_nodes=None, min_impurity_decrease=0.0,\n",
       "            min_impurity_split=None, min_samples_leaf=1,\n",
       "            min_samples_split=2, min_weight_fraction_leaf=0.0,\n",
       "            n_estimators=50, n_jobs=-1, oob_score=False, random_state=0,\n",
       "            verbose=0, warm_start=False),\n",
       "       fit_params=None, iid=True, n_jobs=1,\n",
       "       param_grid={'min_samples_leaf': [1, 2, 5], 'max_features': ['auto', 'log2', 'sqrt']},\n",
       "       pre_dispatch='2*n_jobs', refit=True, return_train_score='warn',\n",
       "       scoring='roc_auc', verbose=0)"
      ]
     },
     "execution_count": 50,
     "metadata": {},
     "output_type": "execute_result"
    }
   ],
   "source": [
    "# roc_aucで最適化した\n",
    "parameters = {'min_samples_leaf':[1, 2, 5], 'max_features':[\"auto\", \"log2\", \"sqrt\"]}\n",
    "random_forest_1 = RandomForestClassifier(n_estimators=50, criterion='gini', max_depth=5, min_samples_split=2, min_samples_leaf=1, min_weight_fraction_leaf=0.0, max_features='auto', max_leaf_nodes=None, min_impurity_decrease=0.0, min_impurity_split=None, bootstrap=True, oob_score=False, n_jobs=-1, random_state=0, verbose=0, warm_start=False, class_weight='balanced')\n",
    "clf_1_r_f = GridSearchCV(random_forest_1, parameters, cv=4, scoring=\"roc_auc\")\n",
    "clf_1_r_f.fit(X_selected_transformed, y)"
   ]
  },
  {
   "cell_type": "code",
   "execution_count": 52,
   "metadata": {},
   "outputs": [
    {
     "name": "stdout",
     "output_type": "stream",
     "text": [
      "{'max_features': 'auto', 'min_samples_leaf': 5}\n",
      "best_score = 0.5908178834733453\n"
     ]
    }
   ],
   "source": [
    "# 最適化されたモデルを取得\n",
    "random_forest_best_1 = clf_1_r_f.best_estimator_\n",
    "# そのパラメータを取得\n",
    "random_forest_best_params_1 = clf_1_r_f.best_params_\n",
    "print(random_forest_best_params_1)\n",
    "# そのスコアを確認\n",
    "random_forest_best_score_1 = clf_1_r_f.best_score_\n",
    "print(\"best_score =\", random_forest_best_score_1)"
   ]
  },
  {
   "cell_type": "markdown",
   "metadata": {},
   "source": [
    "#### 提出してみる。"
   ]
  },
  {
   "cell_type": "code",
   "execution_count": 57,
   "metadata": {},
   "outputs": [
    {
     "data": {
      "text/plain": [
       "array([0.57557973, 0.39124833, 0.56730113, ..., 0.56000945, 0.5725557 ,\n",
       "       0.5792076 ])"
      ]
     },
     "execution_count": 57,
     "metadata": {},
     "output_type": "execute_result"
    }
   ],
   "source": [
    "# 提出用\n",
    "app_test_selected = app_test.loc[:, X_selected.columns]\n",
    "app_test_selected_transformed = scaler.transform(app_test_selected)\n",
    "app_test_pred_1 = random_forest_best_1.predict_proba(app_test_selected_transformed)[:, 1]\n",
    "app_test_pred_1"
   ]
  },
  {
   "cell_type": "code",
   "execution_count": 58,
   "metadata": {},
   "outputs": [],
   "source": [
    "# テスト値を再読み込みして，RandomForestでクラス分類したカラムを追加\n",
    "df_out = pd.read_csv(\"application_test.csv\")\n",
    "df_out[\"TARGET\"] = app_test_pred_1\n",
    "\n",
    "# outputディレクトリに出力する\n",
    "df_out[[\"SK_ID_CURR\",\"TARGET\"]].to_csv(\"submission_1.csv\",index=False)"
   ]
  },
  {
   "cell_type": "raw",
   "metadata": {},
   "source": [
    "結果は\n",
    "Private Score : 0.58027\n",
    "Public Score : 0.57445\n",
    "だった。"
   ]
  },
  {
   "cell_type": "code",
   "execution_count": 69,
   "metadata": {},
   "outputs": [
    {
     "name": "stdout",
     "output_type": "stream",
     "text": [
      "app_test_pred\n"
     ]
    },
    {
     "data": {
      "text/html": [
       "<div>\n",
       "<style scoped>\n",
       "    .dataframe tbody tr th:only-of-type {\n",
       "        vertical-align: middle;\n",
       "    }\n",
       "\n",
       "    .dataframe tbody tr th {\n",
       "        vertical-align: top;\n",
       "    }\n",
       "\n",
       "    .dataframe thead th {\n",
       "        text-align: right;\n",
       "    }\n",
       "</style>\n",
       "<table border=\"1\" class=\"dataframe\">\n",
       "  <thead>\n",
       "    <tr style=\"text-align: right;\">\n",
       "      <th></th>\n",
       "      <th>count</th>\n",
       "      <th>mean</th>\n",
       "      <th>std</th>\n",
       "      <th>min</th>\n",
       "      <th>25%</th>\n",
       "      <th>50%</th>\n",
       "      <th>75%</th>\n",
       "      <th>max</th>\n",
       "    </tr>\n",
       "  </thead>\n",
       "  <tbody>\n",
       "    <tr>\n",
       "      <th>0</th>\n",
       "      <td>48744.0</td>\n",
       "      <td>0.081814</td>\n",
       "      <td>0.02546</td>\n",
       "      <td>0.004549</td>\n",
       "      <td>0.064244</td>\n",
       "      <td>0.081986</td>\n",
       "      <td>0.10088</td>\n",
       "      <td>0.352378</td>\n",
       "    </tr>\n",
       "  </tbody>\n",
       "</table>\n",
       "</div>"
      ],
      "text/plain": [
       "     count      mean      std       min       25%       50%      75%       max\n",
       "0  48744.0  0.081814  0.02546  0.004549  0.064244  0.081986  0.10088  0.352378"
      ]
     },
     "metadata": {},
     "output_type": "display_data"
    },
    {
     "name": "stdout",
     "output_type": "stream",
     "text": [
      "app_test_pred_1\n"
     ]
    },
    {
     "data": {
      "text/html": [
       "<div>\n",
       "<style scoped>\n",
       "    .dataframe tbody tr th:only-of-type {\n",
       "        vertical-align: middle;\n",
       "    }\n",
       "\n",
       "    .dataframe tbody tr th {\n",
       "        vertical-align: top;\n",
       "    }\n",
       "\n",
       "    .dataframe thead th {\n",
       "        text-align: right;\n",
       "    }\n",
       "</style>\n",
       "<table border=\"1\" class=\"dataframe\">\n",
       "  <thead>\n",
       "    <tr style=\"text-align: right;\">\n",
       "      <th></th>\n",
       "      <th>count</th>\n",
       "      <th>mean</th>\n",
       "      <th>std</th>\n",
       "      <th>min</th>\n",
       "      <th>25%</th>\n",
       "      <th>50%</th>\n",
       "      <th>75%</th>\n",
       "      <th>max</th>\n",
       "    </tr>\n",
       "  </thead>\n",
       "  <tbody>\n",
       "    <tr>\n",
       "      <th>0</th>\n",
       "      <td>48744.0</td>\n",
       "      <td>0.493175</td>\n",
       "      <td>0.071961</td>\n",
       "      <td>0.153724</td>\n",
       "      <td>0.452686</td>\n",
       "      <td>0.509296</td>\n",
       "      <td>0.551574</td>\n",
       "      <td>0.606369</td>\n",
       "    </tr>\n",
       "  </tbody>\n",
       "</table>\n",
       "</div>"
      ],
      "text/plain": [
       "     count      mean       std       min       25%       50%       75%  \\\n",
       "0  48744.0  0.493175  0.071961  0.153724  0.452686  0.509296  0.551574   \n",
       "\n",
       "        max  \n",
       "0  0.606369  "
      ]
     },
     "metadata": {},
     "output_type": "display_data"
    }
   ],
   "source": [
    "print(\"app_test_pred\")\n",
    "display(pd.DataFrame(app_test_pred).describe().transpose())\n",
    "print(\"app_test_pred_1\")\n",
    "display(pd.DataFrame(app_test_pred_1).describe().transpose())"
   ]
  },
  {
   "cell_type": "raw",
   "metadata": {},
   "source": [
    "前回提出したものとスコアがほとんど変わらなかったが、予測の中身がかなり変わった。\n",
    "具体的には、前回は0に近い予測が多かったが、今回は0.5に近い予測が多かった。"
   ]
  },
  {
   "cell_type": "markdown",
   "metadata": {},
   "source": [
    "### 特徴量が全てある状態でランダムフォレストで予測"
   ]
  },
  {
   "cell_type": "code",
   "execution_count": 170,
   "metadata": {},
   "outputs": [],
   "source": [
    "n_splits = 4\n",
    "def stratified_kfold_cross_validation_2(X, y, n_splits=n_splits):\n",
    "    \"\"\"\n",
    "    StratifiedKFoldクラスによるクロスバリデーションを行う関数\n",
    "    \"\"\"\n",
    "    kf = StratifiedKFold(n_splits=n_splits)\n",
    "    print(kf)\n",
    "    # print(kf.get_n_splits(X))\n",
    "    print()\n",
    "    \n",
    "    # kf.split()はイテレータ\n",
    "    for train_index, test_index in kf.split(X, y):\n",
    "        print(\"TRAIN:\", train_index, \"TEST:\", test_index)\n",
    "        # print(len(train_index), len(test_index))\n",
    "        X_train, X_test = X.iloc[train_index], X.iloc[test_index]\n",
    "        y_train, y_test = y.iloc[train_index], y.iloc[test_index]\n",
    "        pred_random_forest_1(X_train, X_test, y_train, y_test)\n",
    "        print()"
   ]
  },
  {
   "cell_type": "code",
   "execution_count": 220,
   "metadata": {},
   "outputs": [],
   "source": [
    "X_1 = X.copy()\n",
    "\n",
    "X_1_object_columns = X_1.select_dtypes(include=\"object\").columns\n",
    "X_1[X_1_object_columns] = X_1[X_1_object_columns].fillna(\"NaN\")\n",
    "X_1 = X_1.fillna(X_1.median())"
   ]
  },
  {
   "cell_type": "code",
   "execution_count": 221,
   "metadata": {},
   "outputs": [
    {
     "name": "stdout",
     "output_type": "stream",
     "text": [
      "NAME_CONTRACT_TYPE\n",
      "CODE_GENDER\n",
      "FLAG_OWN_CAR\n",
      "FLAG_OWN_REALTY\n",
      "NAME_TYPE_SUITE\n",
      "NAME_INCOME_TYPE\n",
      "NAME_EDUCATION_TYPE\n",
      "NAME_FAMILY_STATUS\n",
      "NAME_HOUSING_TYPE\n",
      "OCCUPATION_TYPE\n",
      "WEEKDAY_APPR_PROCESS_START\n",
      "ORGANIZATION_TYPE\n",
      "FONDKAPREMONT_MODE\n",
      "HOUSETYPE_MODE\n",
      "WALLSMATERIAL_MODE\n",
      "EMERGENCYSTATE_MODE\n"
     ]
    }
   ],
   "source": [
    "from sklearn.preprocessing import LabelEncoder\n",
    "#LabelEncoderのインスタンスを生成\n",
    "le = LabelEncoder()\n",
    "\n",
    "for column in X_1_object_columns:\n",
    "    print(column)\n",
    "    #ラベルを覚えさせる\n",
    "    le = le.fit(X_1[column])\n",
    "    #ラベルを整数に変換\n",
    "    X_1[column] = le.transform(X_1[column])"
   ]
  },
  {
   "cell_type": "code",
   "execution_count": 222,
   "metadata": {},
   "outputs": [
    {
     "data": {
      "text/plain": [
       "RandomForestClassifier(bootstrap=True, class_weight='balanced',\n",
       "            criterion='gini', max_depth=5, max_features='auto',\n",
       "            max_leaf_nodes=None, min_impurity_decrease=0.0,\n",
       "            min_impurity_split=None, min_samples_leaf=1,\n",
       "            min_samples_split=2, min_weight_fraction_leaf=0.0,\n",
       "            n_estimators=50, n_jobs=-1, oob_score=False, random_state=0,\n",
       "            verbose=0, warm_start=False)"
      ]
     },
     "execution_count": 222,
     "metadata": {},
     "output_type": "execute_result"
    }
   ],
   "source": [
    "random_forest_2 = RandomForestClassifier(n_estimators=50, criterion='gini', max_depth=5, min_samples_split=2, min_samples_leaf=1, min_weight_fraction_leaf=0.0, max_features='auto', max_leaf_nodes=None, min_impurity_decrease=0.0, min_impurity_split=None, bootstrap=True, oob_score=False, n_jobs=-1, random_state=0, verbose=0, warm_start=False, class_weight='balanced')\n",
    "random_forest_2.fit(X_1, y)"
   ]
  },
  {
   "cell_type": "code",
   "execution_count": 223,
   "metadata": {},
   "outputs": [
    {
     "name": "stdout",
     "output_type": "stream",
     "text": [
      "StratifiedKFold(n_splits=4, random_state=None, shuffle=False)\n",
      "\n",
      "TRAIN: [ 76839  76840  76841 ... 307508 307509 307510] TEST: [    0     1     2 ... 77221 77223 77234]\n",
      "Random Forest\n",
      "acc : 0.6661376969003239\n",
      "precision : 0.14934409687184663\n",
      "recall : 0.6676333172224908\n",
      "f1 : 0.24408776321602124\n",
      "confusion matrix \n",
      " [[47068 23604]\n",
      " [ 2063  4144]]\n",
      "auc \n",
      " 0.7235340473679198\n",
      "\n",
      "TRAIN: [     0      1      2 ... 307508 307509 307510] TEST: [ 76839  76840  76841 ... 153895 153896 153897]\n",
      "Random Forest\n",
      "acc : 0.6699966180181587\n",
      "precision : 0.15075083831462313\n",
      "recall : 0.6664518208185627\n",
      "f1 : 0.2458831222876167\n",
      "confusion matrix \n",
      " [[47372 23300]\n",
      " [ 2070  4136]]\n",
      "auc \n",
      " 0.7268865671470005\n",
      "\n",
      "TRAIN: [     0      1      2 ... 307508 307509 307510] TEST: [152104 152116 152120 ... 230719 230720 230721]\n",
      "Random Forest\n",
      "acc : 0.6728670473613695\n",
      "precision : 0.15009789796446119\n",
      "recall : 0.6546890106348695\n",
      "f1 : 0.24420736288504882\n",
      "confusion matrix \n",
      " [[47665 23006]\n",
      " [ 2143  4063]]\n",
      "auc \n",
      " 0.7203933082171542\n",
      "\n",
      "TRAIN: [     0      1      2 ... 230719 230720 230721] TEST: [229720 229728 229732 ... 307508 307509 307510]\n",
      "Random Forest\n",
      "acc : 0.6709939253612914\n",
      "precision : 0.14976696392528166\n",
      "recall : 0.6575894295842732\n",
      "f1 : 0.24396951128381406\n",
      "confusion matrix \n",
      " [[47503 23168]\n",
      " [ 2125  4081]]\n",
      "auc \n",
      " 0.724318896275125\n",
      "\n"
     ]
    }
   ],
   "source": [
    "stratified_kfold_cross_validation_2(X_1, y)"
   ]
  },
  {
   "cell_type": "markdown",
   "metadata": {},
   "source": [
    "### 特徴量が全てある状態でランダムフォレスト（改良版１）"
   ]
  },
  {
   "cell_type": "markdown",
   "metadata": {},
   "source": [
    "#### 前処理"
   ]
  },
  {
   "cell_type": "code",
   "execution_count": 233,
   "metadata": {},
   "outputs": [],
   "source": [
    "X_1 = X.copy()\n",
    "app_test_1 = app_test.copy()\n",
    "Xs = pd.concat([X_1, app_test_1])\n",
    "\n",
    "Xs_object_columns = Xs.select_dtypes(include=\"object\").columns\n",
    "Xs[Xs_object_columns] = Xs[Xs_object_columns].fillna(\"NaN\")\n",
    "Xs = Xs.fillna(Xs.median())"
   ]
  },
  {
   "cell_type": "code",
   "execution_count": 234,
   "metadata": {},
   "outputs": [
    {
     "name": "stdout",
     "output_type": "stream",
     "text": [
      "NAME_CONTRACT_TYPE\n",
      "CODE_GENDER\n",
      "FLAG_OWN_CAR\n",
      "FLAG_OWN_REALTY\n",
      "NAME_TYPE_SUITE\n",
      "NAME_INCOME_TYPE\n",
      "NAME_EDUCATION_TYPE\n",
      "NAME_FAMILY_STATUS\n",
      "NAME_HOUSING_TYPE\n",
      "OCCUPATION_TYPE\n",
      "WEEKDAY_APPR_PROCESS_START\n",
      "ORGANIZATION_TYPE\n",
      "FONDKAPREMONT_MODE\n",
      "HOUSETYPE_MODE\n",
      "WALLSMATERIAL_MODE\n",
      "EMERGENCYSTATE_MODE\n"
     ]
    }
   ],
   "source": [
    "from sklearn.preprocessing import LabelEncoder\n",
    "#LabelEncoderのインスタンスを生成\n",
    "le = LabelEncoder()\n",
    "\n",
    "for column in Xs_object_columns:\n",
    "    print(column)\n",
    "    #ラベルを覚えさせる\n",
    "    le = le.fit(Xs[column])\n",
    "    #ラベルを整数に変換\n",
    "    Xs[column] = le.transform(Xs[column])"
   ]
  },
  {
   "cell_type": "code",
   "execution_count": null,
   "metadata": {},
   "outputs": [],
   "source": [
    "X_1 = Xs[:len(X_1)]\n",
    "app_test_1 = Xs[len(X_1):]"
   ]
  },
  {
   "cell_type": "markdown",
   "metadata": {},
   "source": [
    "#### 学習"
   ]
  },
  {
   "cell_type": "code",
   "execution_count": 235,
   "metadata": {},
   "outputs": [
    {
     "data": {
      "text/plain": [
       "RandomForestClassifier(bootstrap=True, class_weight='balanced',\n",
       "            criterion='gini', max_depth=5, max_features='auto',\n",
       "            max_leaf_nodes=None, min_impurity_decrease=0.0,\n",
       "            min_impurity_split=None, min_samples_leaf=1,\n",
       "            min_samples_split=2, min_weight_fraction_leaf=0.0,\n",
       "            n_estimators=50, n_jobs=-1, oob_score=False, random_state=0,\n",
       "            verbose=0, warm_start=False)"
      ]
     },
     "execution_count": 235,
     "metadata": {},
     "output_type": "execute_result"
    }
   ],
   "source": [
    "random_forest_2 = RandomForestClassifier(n_estimators=50, criterion='gini', max_depth=5, min_samples_split=2, min_samples_leaf=1, min_weight_fraction_leaf=0.0, max_features='auto', max_leaf_nodes=None, min_impurity_decrease=0.0, min_impurity_split=None, bootstrap=True, oob_score=False, n_jobs=-1, random_state=0, verbose=0, warm_start=False, class_weight='balanced')\n",
    "random_forest_2.fit(X_1, y)"
   ]
  },
  {
   "cell_type": "markdown",
   "metadata": {},
   "source": [
    "#### 予測"
   ]
  },
  {
   "cell_type": "code",
   "execution_count": 236,
   "metadata": {},
   "outputs": [
    {
     "name": "stdout",
     "output_type": "stream",
     "text": [
      "StratifiedKFold(n_splits=4, random_state=None, shuffle=False)\n",
      "\n",
      "TRAIN: [ 76839  76840  76841 ... 307508 307509 307510] TEST: [    0     1     2 ... 77221 77223 77234]\n",
      "Random Forest\n",
      "acc : 0.666319801246114\n",
      "precision : 0.14936891453299675\n",
      "recall : 0.6673111003705494\n",
      "f1 : 0.24409936057989803\n",
      "confusion matrix \n",
      " [[47084 23588]\n",
      " [ 2065  4142]]\n",
      "auc \n",
      " 0.7236153812260502\n",
      "\n",
      "TRAIN: [     0      1      2 ... 307508 307509 307510] TEST: [ 76839  76840  76841 ... 153895 153896 153897]\n",
      "Random Forest\n",
      "acc : 0.6707770753661646\n",
      "precision : 0.15100474972597736\n",
      "recall : 0.6659684176603287\n",
      "f1 : 0.24618775315701694\n",
      "confusion matrix \n",
      " [[47435 23237]\n",
      " [ 2073  4133]]\n",
      "auc \n",
      " 0.7269170511681387\n",
      "\n",
      "TRAIN: [     0      1      2 ... 307508 307509 307510] TEST: [152104 152116 152120 ... 230719 230720 230721]\n",
      "Random Forest\n",
      "acc : 0.6714622058613109\n",
      "precision : 0.14963033802920514\n",
      "recall : 0.6554946825652594\n",
      "f1 : 0.2436438774593478\n",
      "confusion matrix \n",
      " [[47552 23119]\n",
      " [ 2138  4068]]\n",
      "auc \n",
      " 0.7201763020086364\n",
      "\n",
      "TRAIN: [     0      1      2 ... 230719 230720 230721] TEST: [229720 229728 229732 ... 307508 307509 307510]\n",
      "Random Forest\n",
      "acc : 0.6669615099444567\n",
      "precision : 0.14905011760448705\n",
      "recall : 0.6637125362552369\n",
      "f1 : 0.2434325226795898\n",
      "confusion matrix \n",
      " [[47155 23516]\n",
      " [ 2087  4119]]\n",
      "auc \n",
      " 0.7246894613578738\n",
      "\n"
     ]
    }
   ],
   "source": [
    "stratified_kfold_cross_validation_2(X_1, y)"
   ]
  },
  {
   "cell_type": "markdown",
   "metadata": {},
   "source": [
    "#### 予測（提出用）"
   ]
  },
  {
   "cell_type": "code",
   "execution_count": 237,
   "metadata": {},
   "outputs": [
    {
     "data": {
      "text/plain": [
       "array([0.45610626, 0.54461963, 0.39185225, ..., 0.39642583, 0.44321371,\n",
       "       0.59522521])"
      ]
     },
     "execution_count": 237,
     "metadata": {},
     "output_type": "execute_result"
    }
   ],
   "source": [
    "app_test_pred_2 = random_forest_2.predict_proba(app_test_1)[:, 1]\n",
    "app_test_pred_2"
   ]
  },
  {
   "cell_type": "code",
   "execution_count": 238,
   "metadata": {},
   "outputs": [],
   "source": [
    "# テスト値を再読み込みして，RandomForestでクラス分類したカラムを追加\n",
    "df_out = pd.read_csv(\"application_test.csv\")\n",
    "df_out[\"TARGET\"] = app_test_pred_2\n",
    "\n",
    "# outputディレクトリに出力する\n",
    "df_out[[\"SK_ID_CURR\",\"TARGET\"]].to_csv(\"submission_2.csv\",index=False)"
   ]
  },
  {
   "cell_type": "raw",
   "metadata": {},
   "source": [
    "結果は\n",
    "Private Score : 0.70969\n",
    "Public Score : 0.71188\n",
    "だった。"
   ]
  },
  {
   "cell_type": "markdown",
   "metadata": {},
   "source": [
    "## 【問題5】最終的なモデルの選定"
   ]
  },
  {
   "cell_type": "raw",
   "metadata": {},
   "source": [
    "最終的に一番結果が良かったモデルは、問題４の「特徴量が全てある状態でランダムフォレスト（改良版１）」のモデルで、スコアは、Private Score : 0.70969、Public Score : 0.71188　であった。\n",
    "\n",
    "RandomForestClassifierのハイパーパラメータは問題３のカーネルを参考にした。\n",
    "欠損値はobject型では特別な処理をせず、int型とfloat型にはmedianを代入した。\n",
    "その後、object型はラベルエンコーディングをした。"
   ]
  },
  {
   "cell_type": "code",
   "execution_count": null,
   "metadata": {},
   "outputs": [],
   "source": []
  },
  {
   "cell_type": "code",
   "execution_count": null,
   "metadata": {},
   "outputs": [],
   "source": []
  },
  {
   "cell_type": "code",
   "execution_count": null,
   "metadata": {},
   "outputs": [],
   "source": []
  }
 ],
 "metadata": {
  "kernelspec": {
   "display_name": "Python 3",
   "language": "python",
   "name": "python3"
  },
  "language_info": {
   "codemirror_mode": {
    "name": "ipython",
    "version": 3
   },
   "file_extension": ".py",
   "mimetype": "text/x-python",
   "name": "python",
   "nbconvert_exporter": "python",
   "pygments_lexer": "ipython3",
   "version": "3.6.4"
  }
 },
 "nbformat": 4,
 "nbformat_minor": 2
}
