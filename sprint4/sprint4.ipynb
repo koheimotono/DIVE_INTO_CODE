{
 "cells": [
  {
   "cell_type": "markdown",
   "metadata": {},
   "source": [
    "# Sprint 機械学習スクラッチ ロジスティック回帰"
   ]
  },
  {
   "cell_type": "markdown",
   "metadata": {},
   "source": [
    "## Sprintの目的  \n",
    "スクラッチを通してロジスティック回帰を理解する  \n",
    "分類問題についての基礎を学ぶ  "
   ]
  },
  {
   "cell_type": "code",
   "execution_count": 1,
   "metadata": {},
   "outputs": [],
   "source": [
    "import numpy as np\n",
    "import matplotlib.pyplot as plt\n",
    "\n",
    "from matplotlib.colors import ListedColormap\n",
    "import matplotlib.patches as mpatches\n",
    "\n",
    "from sklearn.datasets import load_iris\n",
    "\n",
    "from sklearn.metrics import accuracy_score\n",
    "from sklearn.metrics import precision_score\n",
    "from sklearn.metrics import recall_score\n",
    "from sklearn.metrics import f1_score\n",
    "from sklearn.metrics import confusion_matrix\n",
    "\n",
    "from sklearn.linear_model import LogisticRegression\n",
    "\n",
    "from tempfile import TemporaryFile"
   ]
  },
  {
   "cell_type": "code",
   "execution_count": 2,
   "metadata": {},
   "outputs": [],
   "source": [
    "class ScratchLogisticRegression():\n",
    "    \"\"\"\n",
    "    ロジスティック回帰のスクラッチ実装\n",
    "\n",
    "    Parameters\n",
    "    ----------\n",
    "    num_iter : int\n",
    "      イテレーション数\n",
    "    lr : float\n",
    "      学習率\n",
    "    no_bias : bool\n",
    "      バイアス項を入れない場合はTrue\n",
    "    verbose : bool\n",
    "      学習過程を出力する場合はTrue\n",
    "\n",
    "    Attributes\n",
    "    ----------\n",
    "    self.coef_ : 次の形のndarray, shape (n_features,)\n",
    "      パラメータ\n",
    "    self.loss : 次の形のndarray, shape (self.iter,)\n",
    "      学習用データに対する損失の記録\n",
    "    self.val_loss : 次の形のndarray, shape (self.iter,)\n",
    "      検証用データに対する損失の記録\n",
    "\n",
    "    \"\"\"\n",
    "\n",
    "    def __init__(self, num_iter, lr, no_bias, verbose, regularization=0.5):\n",
    "        # ハイパーパラメータを属性として記録\n",
    "        self.iter = num_iter\n",
    "        self.lr = lr\n",
    "        self.no_bias = no_bias\n",
    "        self.verbose = verbose\n",
    "        # 損失を記録する配列を用意\n",
    "        self.loss = np.zeros(self.iter)\n",
    "        self.val_loss = np.zeros(self.iter)\n",
    "        \n",
    "        self.regularization = regularization\n",
    "\n",
    "    def fit(self, X, y, X_val=None, y_val=None):\n",
    "        \"\"\"\n",
    "        ロジスティック回帰を学習する。検証用データが入力された場合はそれに対する損失と精度もイテレーションごとに計算する。\n",
    "\n",
    "        Parameters\n",
    "        ----------\n",
    "        X : 次の形のndarray, shape (n_samples, n_features)\n",
    "            学習用データの特徴量\n",
    "        y : 次の形のndarray, shape (n_samples, )\n",
    "            学習用データの正解値\n",
    "        X_val : 次の形のndarray, shape (n_samples, n_features)\n",
    "            検証用データの特徴量\n",
    "        y_val : 次の形のndarray, shape (n_samples, )\n",
    "            検証用データの正解値\n",
    "        \"\"\"\n",
    "        self.val_enable = False\n",
    "        if X_val is not None:\n",
    "            self.val_enable = True\n",
    "        \n",
    "        if not self.no_bias:\n",
    "            X = np.concatenate([np.ones(X.shape[0]).reshape(-1,1), X], axis=1)\n",
    "            if self.val_enable:\n",
    "                X_val = np.concatenate([np.ones(X_val.shape[0]).reshape(-1,1), X_val], axis=1)\n",
    "        \n",
    "        n_features = X.shape[1]\n",
    "        # パラメータ（重み）\n",
    "        self.coef_ = np.random.rand(n_features)\n",
    "        \n",
    "        for i in range(self.iter):\n",
    "            self._gradient_descent(X, self._logistic_hypothesis(X) - y)\n",
    "            self.loss[i] = self._cost(y, self._logistic_hypothesis(X))\n",
    "            if self.val_enable:\n",
    "                self.val_loss[i] = self._cost(y_val, self._logistic_hypothesis(X_val))\n",
    "        \n",
    "        if self.verbose:\n",
    "            self.learning_curve()\n",
    "            print()\n",
    "        pass\n",
    "\n",
    "\n",
    "    def predict(self, X):\n",
    "        \"\"\"\n",
    "        ロジスティック回帰を使いラベルを推定する。\n",
    "\n",
    "        Parameters\n",
    "        ----------\n",
    "        X : 次の形のndarray, shape (n_samples, n_features)\n",
    "            サンプル\n",
    "\n",
    "        Returns\n",
    "        -------\n",
    "            次の形のndarray, shape (n_samples, 1)\n",
    "            ロジスティック回帰による推定結果\n",
    "        \"\"\"\n",
    "        \n",
    "        threshold = 0.5\n",
    "        return (self.predict_proba(X) > threshold).astype(int)\n",
    "\n",
    "    def predict_proba(self, X):\n",
    "        \"\"\"\n",
    "        ロジスティック回帰を使い確率を推定する。\n",
    "\n",
    "        Parameters\n",
    "        ----------\n",
    "        X : 次の形のndarray, shape (n_samples, n_features)\n",
    "            サンプル\n",
    "\n",
    "        Returns\n",
    "        -------\n",
    "            次の形のndarray, shape (n_samples, 1)\n",
    "            ロジスティック回帰による推定結果\n",
    "        \"\"\"\n",
    "        if not self.no_bias:\n",
    "            X = np.concatenate([np.ones(X.shape[0]).reshape(-1,1), X], axis=1)\n",
    "        \n",
    "        return self._logistic_hypothesis(X)\n",
    "    \n",
    "    def _logistic_hypothesis(self, X):\n",
    "        \"\"\"\n",
    "        ロジスティック回帰の仮定関数を計算する\n",
    "\n",
    "        Parameters\n",
    "        ----------\n",
    "        X : 次の形のndarray, shape (n_samples, n_features)\n",
    "          学習データ\n",
    "\n",
    "        Returns\n",
    "        -------\n",
    "          次の形のndarray, shape (n_samples, 1)\n",
    "          線形の仮定関数による推定結果\n",
    "        \n",
    "        \"\"\"\n",
    "        h = X@self.coef_\n",
    "        g = 1 / (1+np.exp(-h))\n",
    "        return g\n",
    "    \n",
    "    def _gradient_descent(self, X, error):\n",
    "        \"\"\"\n",
    "        最急降下法により学習させる（1回）\n",
    "        \n",
    "        Parameters\n",
    "        ----------\n",
    "        X : 次の形のndarray, shape (n_samples, n_features)\n",
    "          学習データ\n",
    "\n",
    "        Returns\n",
    "        -------\n",
    "        returnはない\n",
    "        \n",
    "        \"\"\"\n",
    "        self.coef_ = self.coef_ - self.lr*(np.average(error*X.T, axis=1) + (self.regularization/X.shape[0])*np.concatenate([np.array([0]), self.coef_[1:]]))\n",
    "        return\n",
    "    \n",
    "    def _cost(self, y_true, y_pred_proba):\n",
    "        j = np.average(-y_true*np.log(y_pred_proba) -(1-y_true)*np.log(1-y_pred_proba)) + (self.regularization/(2*len(y_true)))*np.sum(self.coef_[1:])\n",
    "        return j\n",
    "    \n",
    "    def learning_curve(self):\n",
    "        plt.title(\"model loss\")\n",
    "        plt.xlabel(\"iter\")\n",
    "        plt.ylabel(\"loss\")\n",
    "        plt.plot(np.arange(self.iter), self.loss, label=\"loss\")\n",
    "        if self.val_enable:\n",
    "            plt.plot(np.arange(self.iter), self.val_loss, label=\"val_loss\")\n",
    "        plt.legend()\n",
    "        plt.show()"
   ]
  },
  {
   "cell_type": "markdown",
   "metadata": {},
   "source": [
    "## 【問題1】仮定関数"
   ]
  },
  {
   "cell_type": "markdown",
   "metadata": {},
   "source": [
    "ScratchLogisticRegression クラスに logistic_hypothesis メソッドを追加"
   ]
  },
  {
   "cell_type": "markdown",
   "metadata": {},
   "source": [
    "## 【問題2】最急降下法"
   ]
  },
  {
   "cell_type": "markdown",
   "metadata": {},
   "source": [
    "ScratchLogisticRegression クラスに _gradient_descent メソッドを追加"
   ]
  },
  {
   "cell_type": "markdown",
   "metadata": {},
   "source": [
    "## 【問題3】推定"
   ]
  },
  {
   "cell_type": "markdown",
   "metadata": {},
   "source": [
    "ScratchLogisticRegression クラスの雛形に含まれる predict メソッドと predict_proba メソッドに書き加えた。  "
   ]
  },
  {
   "cell_type": "markdown",
   "metadata": {},
   "source": [
    "## 【問題4】目的関数"
   ]
  },
  {
   "cell_type": "markdown",
   "metadata": {},
   "source": [
    "ロジスティック回帰の目的関数（損失関数）を実装した。そして、これをself.loss, self.val_lossに記録した。"
   ]
  },
  {
   "cell_type": "markdown",
   "metadata": {},
   "source": [
    "## 【問題6】学習と推定"
   ]
  },
  {
   "cell_type": "code",
   "execution_count": 3,
   "metadata": {},
   "outputs": [],
   "source": [
    "def scratch_train_test_split(X, y, train_size=0.8,):\n",
    "    \"\"\"\n",
    "    検証用データを分割する。\n",
    "\n",
    "    Parameters\n",
    "    ----------\n",
    "    X : 次の形のndarray, shape (n_samples, n_features)\n",
    "      学習データ\n",
    "    y : 次の形のndarray, shape (n_samples, )\n",
    "      正解値\n",
    "    train_size : float (0<train_size<1)\n",
    "      何割をtrainとするか指定\n",
    "\n",
    "    Returns\n",
    "    ----------\n",
    "    X_train : 次の形のndarray, shape (n_samples, n_features)\n",
    "      学習データ\n",
    "    X_test : 次の形のndarray, shape (n_samples, n_features)\n",
    "      検証データ\n",
    "    y_train : 次の形のndarray, shape (n_samples, )\n",
    "      学習データの正解値\n",
    "    y_test : 次の形のndarray, shape (n_samples, )\n",
    "      検証データの正解値\n",
    "    \"\"\"\n",
    "    n_samples = len(X)\n",
    "    idx = np.zeros(n_samples)\n",
    "    train_size =  int(n_samples*train_size)\n",
    "    train_idx = np.random.choice(np.arange(n_samples), train_size, replace=False)\n",
    "    idx[train_idx] = 1\n",
    "    \n",
    "    X_train ,X_test = X[idx==1], X[idx==0]\n",
    "    y_train ,y_test = y[idx==1], y[idx==0]\n",
    "    \n",
    "    return X_train, X_test, y_train, y_test"
   ]
  },
  {
   "cell_type": "code",
   "execution_count": 4,
   "metadata": {},
   "outputs": [],
   "source": [
    "def evalate(y_true, y_pred):\n",
    "    print(\"accuracy =\", accuracy_score(y_true, y_pred))\n",
    "    print(\"precision =\", precision_score(y_true, y_pred, average='macro'))\n",
    "    print(\"recall =\", recall_score(y_true, y_pred, average='macro'))\n",
    "    print(\"f1 =\", f1_score(y_true, y_pred, average='macro'))\n",
    "    print(confusion_matrix(y_true, y_pred))"
   ]
  },
  {
   "cell_type": "code",
   "execution_count": 5,
   "metadata": {},
   "outputs": [
    {
     "data": {
      "text/plain": [
       "(array([[4.7, 1.4],\n",
       "        [4.5, 1.5],\n",
       "        [4.9, 1.5],\n",
       "        [4. , 1.3],\n",
       "        [4.6, 1.5]]),\n",
       " array([0, 0, 0, 0, 0]),\n",
       " array(['versicolor', 'virginica'], dtype='<U10'),\n",
       " ('petal length (cm)', 'petal width (cm)'))"
      ]
     },
     "execution_count": 5,
     "metadata": {},
     "output_type": "execute_result"
    }
   ],
   "source": [
    "iris_data = load_iris()\n",
    "x1, x2 = 2,3\n",
    "iris_X = iris_data.data[iris_data.target!=0][:,[x1,x2]]\n",
    "iris_y = iris_data.target[iris_data.target!=0] - 1\n",
    "iris_target_names = iris_data.target_names[1:]\n",
    "iris_feature_names = iris_data.feature_names[x1],iris_data.feature_names[x2]\n",
    "iris_X[:5], iris_y[:5], iris_target_names, iris_feature_names"
   ]
  },
  {
   "cell_type": "code",
   "execution_count": 6,
   "metadata": {},
   "outputs": [
    {
     "data": {
      "image/png": "[encoded data removed]",
      "text/plain": [
       "<matplotlib.figure.Figure at 0x1a0ec04cf8>"
      ]
     },
     "metadata": {},
     "output_type": "display_data"
    },
    {
     "name": "stdout",
     "output_type": "stream",
     "text": [
      "\n",
      "accuracy = 0.9\n",
      "precision = 0.8958333333333333\n",
      "recall = 0.8958333333333333\n",
      "f1 = 0.8958333333333333\n",
      "[[11  1]\n",
      " [ 1  7]]\n"
     ]
    }
   ],
   "source": [
    "scratch_logistic = ScratchLogisticRegression(num_iter=10000, lr=0.05, no_bias=False, verbose=True, regularization=0.1)\n",
    "iris_X_train, iris_X_test, iris_y_train, iris_y_test = scratch_train_test_split(iris_X, iris_y)\n",
    "scratch_logistic.fit(iris_X_train, iris_y_train, iris_X_test, iris_y_test)\n",
    "y_pred = scratch_logistic.predict(iris_X_test)\n",
    "evalate(iris_y_test, y_pred)"
   ]
  },
  {
   "cell_type": "markdown",
   "metadata": {},
   "source": [
    "### scikit-learnによる実装との比較 "
   ]
  },
  {
   "cell_type": "code",
   "execution_count": 7,
   "metadata": {},
   "outputs": [
    {
     "name": "stdout",
     "output_type": "stream",
     "text": [
      "accuracy = 0.85\n",
      "precision = 0.8434343434343434\n",
      "recall = 0.8541666666666667\n",
      "f1 = 0.8465473145780051\n",
      "[[10  2]\n",
      " [ 1  7]]\n"
     ]
    }
   ],
   "source": [
    "logistic = LogisticRegression()\n",
    "logistic.fit(iris_X_train, iris_y_train)\n",
    "y_pred = logistic.predict(iris_X_test)\n",
    "evalate(iris_y_test, y_pred)"
   ]
  },
  {
   "cell_type": "markdown",
   "metadata": {},
   "source": [
    "## 【問題7】学習曲線のプロット"
   ]
  },
  {
   "cell_type": "markdown",
   "metadata": {},
   "source": [
    "ScratchLogisticRegression クラスに learning_curve メソッドを追加し、 ScratchLogisticRegression クラスの fit メソッドに書き加えた。\n",
    "実行は問題6で行った。グラフを見て損失が適切に下がっていることが確認できた。"
   ]
  },
  {
   "cell_type": "markdown",
   "metadata": {},
   "source": [
    "## 【問題8】決定領域の可視化"
   ]
  },
  {
   "cell_type": "code",
   "execution_count": 8,
   "metadata": {},
   "outputs": [],
   "source": [
    "def decision_region(X, y, model, step=0.01, title='decision region', xlabel='xlabel', ylabel='ylabel', target_names=['versicolor', 'virginica']):\n",
    "    \"\"\"\n",
    "    2値分類を2次元の特徴量で学習したモデルの決定領域を描く。\n",
    "    背景の色が学習したモデルによる推定値から描画される。\n",
    "    散布図の点は訓練データまたは検証データである。\n",
    "\n",
    "    Parameters\n",
    "    ----------------\n",
    "    X : ndarray, shape(n_samples, 2)\n",
    "        特徴量\n",
    "    y : ndarray, shape(n_samples,)\n",
    "        ラベル\n",
    "    model : object\n",
    "        学習したモデルのインスンタスを入れる\n",
    "    step : float, (default : 0.1)\n",
    "        推定値を計算する間隔を設定する\n",
    "    title : str\n",
    "        グラフのタイトルの文章を与える\n",
    "    xlabel, ylabel : str\n",
    "        軸ラベルの文章を与える\n",
    "    target_names= : list of str\n",
    "        凡例の一覧を与える\n",
    "    \"\"\"\n",
    "    # setting\n",
    "    scatter_color = ['red', 'blue']\n",
    "    contourf_color = ['pink', 'skyblue']\n",
    "    n_class = 2\n",
    "\n",
    "    # pred\n",
    "    mesh_f0, mesh_f1  = np.meshgrid(np.arange(np.min(X[:,0])-0.5, np.max(X[:,0])+0.5, step), np.arange(np.min(X[:,1])-0.5, np.max(X[:,1])+0.5, step))\n",
    "    mesh = np.c_[np.ravel(mesh_f0),np.ravel(mesh_f1)]\n",
    "    y_pred = model.predict(mesh).reshape(mesh_f0.shape)\n",
    "\n",
    "    # plot\n",
    "    plt.title(title)\n",
    "    plt.xlabel(xlabel)\n",
    "    plt.ylabel(ylabel)\n",
    "    plt.contourf(mesh_f0, mesh_f1, y_pred, n_class-1, cmap=ListedColormap(contourf_color))\n",
    "    plt.contour(mesh_f0, mesh_f1, y_pred, n_class-1, colors='y', linewidths=3, alpha=0.5)\n",
    "    for i, target in enumerate(set(y)):\n",
    "        plt.scatter(X[y==target][:, 0], X[y==target][:, 1], s=80, color=scatter_color[i], label=target_names[i], marker='o')\n",
    "    patches = [mpatches.Patch(color=scatter_color[i], label=target_names[i]) for i in range(n_class)]\n",
    "    plt.legend(handles=patches)\n",
    "    plt.legend()\n",
    "    plt.show()"
   ]
  },
  {
   "cell_type": "code",
   "execution_count": 9,
   "metadata": {},
   "outputs": [
    {
     "data": {
      "image/png": "[encoded data removed]",
      "text/plain": [
       "<matplotlib.figure.Figure at 0x1a0ed2e470>"
      ]
     },
     "metadata": {},
     "output_type": "display_data"
    },
    {
     "data": {
      "image/png": "[encoded data removed]",
      "text/plain": [
       "<matplotlib.figure.Figure at 0x1a0ec041d0>"
      ]
     },
     "metadata": {},
     "output_type": "display_data"
    }
   ],
   "source": [
    "xlabel, ylabel = iris_feature_names\n",
    "\n",
    "decision_region(iris_X_train, iris_y_train, scratch_logistic, title='scratch_logistic_train', xlabel=xlabel, ylabel=ylabel)\n",
    "decision_region(iris_X_test, iris_y_test, scratch_logistic, title='scratch_logistic_test', xlabel=xlabel, ylabel=ylabel)"
   ]
  },
  {
   "cell_type": "markdown",
   "metadata": {},
   "source": [
    "### scikit-learnによる実装との比較 "
   ]
  },
  {
   "cell_type": "code",
   "execution_count": 10,
   "metadata": {},
   "outputs": [
    {
     "data": {
      "image/png": "[encoded data removed]",
      "text/plain": [
       "<matplotlib.figure.Figure at 0x1a0ec78128>"
      ]
     },
     "metadata": {},
     "output_type": "display_data"
    },
    {
     "data": {
      "image/png": "[encoded data removed]",
      "text/plain": [
       "<matplotlib.figure.Figure at 0x1a159ec5f8>"
      ]
     },
     "metadata": {},
     "output_type": "display_data"
    }
   ],
   "source": [
    "decision_region(iris_X_train, iris_y_train, logistic, title='logistic_train', xlabel=xlabel, ylabel=ylabel)\n",
    "decision_region(iris_X_test, iris_y_test, logistic, title='logistic_test', xlabel=xlabel, ylabel=ylabel)"
   ]
  },
  {
   "cell_type": "markdown",
   "metadata": {},
   "source": [
    "## 【問題9】（アドバンス課題）重みの保存"
   ]
  },
  {
   "cell_type": "code",
   "execution_count": 11,
   "metadata": {},
   "outputs": [],
   "source": [
    "outfile = TemporaryFile()\n",
    "np.savez(outfile, coef = scratch_logistic.coef_)"
   ]
  },
  {
   "cell_type": "code",
   "execution_count": 12,
   "metadata": {},
   "outputs": [
    {
     "name": "stdout",
     "output_type": "stream",
     "text": [
      "['coef']\n"
     ]
    }
   ],
   "source": [
    "_ = outfile.seek(0)\n",
    "npzfile = np.load(outfile)\n",
    "print(npzfile.files)"
   ]
  },
  {
   "cell_type": "code",
   "execution_count": 13,
   "metadata": {},
   "outputs": [
    {
     "data": {
      "text/plain": [
       "array([-11.43093321,   0.78714752,   4.70014853])"
      ]
     },
     "execution_count": 13,
     "metadata": {},
     "output_type": "execute_result"
    }
   ],
   "source": [
    "npzfile[\"coef\"]"
   ]
  },
  {
   "cell_type": "markdown",
   "metadata": {},
   "source": [
    "### TemporaryFile じゃない方法"
   ]
  },
  {
   "cell_type": "code",
   "execution_count": 14,
   "metadata": {},
   "outputs": [],
   "source": [
    "np.savez(\"np_savez\", coef = scratch_logistic.coef_)"
   ]
  },
  {
   "cell_type": "code",
   "execution_count": 15,
   "metadata": {},
   "outputs": [
    {
     "name": "stdout",
     "output_type": "stream",
     "text": [
      "['coef']\n"
     ]
    }
   ],
   "source": [
    "npzfile = np.load(\"np_savez.npz\")\n",
    "print(npzfile.files)"
   ]
  },
  {
   "cell_type": "code",
   "execution_count": 16,
   "metadata": {},
   "outputs": [
    {
     "data": {
      "text/plain": [
       "array([-11.43093321,   0.78714752,   4.70014853])"
      ]
     },
     "execution_count": 16,
     "metadata": {},
     "output_type": "execute_result"
    }
   ],
   "source": [
    "npzfile[\"coef\"]"
   ]
  },
  {
   "cell_type": "markdown",
   "metadata": {},
   "source": [
    "## 【その他】ロジスティック回帰の損失関数の微分"
   ]
  },
  {
   "cell_type": "markdown",
   "metadata": {},
   "source": [
    "$$\n",
    "J(\\theta)=  \\frac{1}{m}  \\sum_{i=1}^{m}[−y^{(i)} log(h_\\theta(x^{(i)})) − (1−y^{(i)}) log(1−h_\\theta(x^{(i)}))] +\n",
    "\\frac{\\lambda}{2m}\\sum_{j=1}^n\n",
    "\\theta^2_j\\\\\n",
    "$$\n",
    "とする。  \n",
    "$$\n",
    "\\frac{\\partial J(\\theta)}{\\partial \\theta_j} = \n",
    "\\left\\{\n",
    "\\begin{array}{ll}\n",
    "\\frac{1}{m}  \\sum_{i=1}^{m}(h_\\theta(x^{(i)}) − y^{(i)})x_j^{(i)}&(j=0)\\\\  \n",
    "\\frac{1}{m}  \\sum_{i=1}^{m}(h_\\theta(x^{(i)}) − y^{(i)})x_j^{(i)} + \\frac{\\lambda}{m}\\theta_j&(j>1) \\\\\n",
    "\\end{array}\n",
    "\\right.\n",
    "$$\n",
    "を示す。\n",
    "$$\n",
    "\\left\\{\n",
    "\\begin{array}{ll}\n",
    "\\begin{align}\n",
    "J(\\theta) &=  J_1(\\theta) + J_2(\\theta)\\\\\n",
    "J_1(\\theta) &= \\frac{1}{m}  \\sum_{i=1}^{m}[−y^{(i)} log(h_\\theta(x^{(i)})) − (1−y^{(i)}) log(1−h_\\theta(x^{(i)}))] \\\\\n",
    "J_2(\\theta) &=\\frac{\\lambda}{2m}\\sum_{j=1}^n\n",
    "\\theta^2_j\\\\\n",
    "\\end{align}\n",
    "\\end{array}\n",
    "\\right.\n",
    "$$\n",
    "とおくと、\n",
    "$$\n",
    "\\begin{align}\n",
    "\\frac{\\partial J_2(\\theta)}{\\partial \\theta_j}\n",
    "&=\\frac{\\partial}{\\partial \\theta_j}\\biggl(\\frac{\\lambda}{2m}\\sum_{j=1}^n\\theta^2_j\\biggr) \\\\\n",
    "&=\\frac{\\lambda}{2m}\\frac{\\partial}{\\partial \\theta_j}\\biggl(\\theta^2_1+\\theta^2_2+\\theta^2_3+…+\\theta^2_n\\biggr) \\\\\n",
    "&=\n",
    "\\left\\{\n",
    "\\begin{array}{ll}\n",
    "\\frac{\\lambda}{2m} \\cdot 0&(j=0)\\\\  \n",
    "\\frac{\\lambda}{2m} \\cdot 2\\theta_j&(j>1) \\\\\n",
    "\\end{array}\n",
    "\\right. \\\\\n",
    "&=\n",
    "\\left\\{\n",
    "\\begin{array}{ll}\n",
    "0&(j=0)\\\\  \n",
    "\\frac{\\lambda}{m}\\theta_j&(j>1) \\\\\n",
    "\\end{array}\n",
    "\\right. \\\\\n",
    "\\end{align}\n",
    "$$\n",
    "なので、\n",
    "$$\n",
    "\\frac{\\partial J_1(\\theta)}{\\partial \\theta_j} = \\frac{1}{m}  \\sum_{i=1}^{m}(h_\\theta(x^{(i)}) − y^{(i)})x_j^{(i)}\n",
    "$$\n",
    "を示せば良い。  \n",
    "ここで、\n",
    "$$\n",
    "h_\\theta(x) = \\frac{1}{1+e^{−\\theta^T \\cdot x}}\n",
    "$$\n",
    "より、\n",
    "$$\n",
    "\\begin{align}\n",
    "\\frac{\\partial}{\\partial \\theta_j}h_\\theta(x)\n",
    "&= \\frac{\\partial}{\\partial \\theta_j}\\frac{1}{1+e^{−\\theta^T \\cdot x}}\\\\\n",
    "&= -\\frac{1}{(1+e^{−\\theta^T \\cdot x})^2}\\frac{\\partial}{\\partial \\theta_j}(1+e^{−\\theta^T \\cdot x})\\\\\n",
    "&= -\\frac{1}{(1+e^{−\\theta^T \\cdot x})^2}e^{−\\theta^T \\cdot x}\\frac{\\partial}{\\partial \\theta_j}(−\\theta^T \\cdot x)\\\\\n",
    "&= \\frac{1}{1+e^{−\\theta^T \\cdot x}}\\frac{e^{−\\theta^T \\cdot x}}{1+e^{−\\theta^T \\cdot x}}\\frac{\\partial}{\\partial \\theta_j}(\\theta_0 x_0 + \\theta_1 x_1 + \\theta_2 x_2 + … + \\theta_n x_n)\\\\\n",
    "&= \\frac{1}{1+e^{−\\theta^T \\cdot x}}\\biggl(1-\\frac{1}{1+e^{−\\theta^T \\cdot x}}\\biggr)x_j\\\\\n",
    "&= h_\\theta(x)(1-h_\\theta(x))x_j\\\\\n",
    "\\end{align}\n",
    "$$\n",
    "であるので、\n",
    "$$\n",
    "\\begin{align}\n",
    "\\frac{\\partial J_1(\\theta)}{\\partial \\theta_j}\n",
    "&= \\frac{\\partial}{\\partial \\theta_j} \\biggl( \\frac{1}{m} \\sum_{i=1}^{m}[−y^{(i)} log(h_\\theta(x^{(i)})) − (1−y^{(i)}) log(1−h_\\theta(x^{(i)}))] \\biggr) \\\\\n",
    "&= \\frac{1}{m} \\biggl( \\sum_{i=1}^{m}\\biggl[−y^{(i)} \\frac{\\partial}{\\partial\\theta_j} log(h_\\theta(x^{(i)})) − (1−y^{(i)}) \\frac{\\partial}{\\partial\\theta_j} log(1−h_\\theta(x^{(i)}))\\biggr] \\biggr) \\\\\n",
    "&= \\frac{1}{m} \\biggl( \\sum_{i=1}^{m}\\biggl[\\frac{−y^{(i)}}{h_\\theta(x^{(i)})} \\frac{\\partial}{\\partial\\theta_j} h_\\theta(x^{(i)}) − \\frac{(1−y^{(i)})}{1−h_\\theta(x^{(i)})} \\frac{\\partial}{\\partial\\theta_j} (1−h_\\theta(x^{(i)}))\\biggr] \\biggr) \\\\\n",
    "&= \\frac{1}{m} \\biggl( \\sum_{i=1}^{m}\\biggl[\\frac{−y^{(i)}}{h_\\theta(x^{(i)})} \\frac{\\partial}{\\partial\\theta_j} h_\\theta(x^{(i)}) + \\frac{(1−y^{(i)})}{1−h_\\theta(x^{(i)})} \\frac{\\partial}{\\partial\\theta_j} h_\\theta(x^{(i)}) \\biggr] \\biggr) \\\\\n",
    "&= \\frac{1}{m} \\biggl( \\sum_{i=1}^{m}\\biggl( \\frac{−y^{(i)}}{h_\\theta(x^{(i)})} + \\frac{(1−y^{(i)})}{1−h_\\theta(x^{(i)})} \\biggr) \\frac{\\partial}{\\partial\\theta_j} h_\\theta(x^{(i)}) \\biggr) \\\\\n",
    "&= \\frac{1}{m} \\biggl( \\sum_{i=1}^{m}\\biggl( \\frac{−y^{(i)}}{h_\\theta(x^{(i)})} + \\frac{(1−y^{(i)})}{1−h_\\theta(x^{(i)})} \\biggr) h_\\theta(x)(1-h_\\theta(x))x_j \\biggr) \\\\\n",
    "&= \\frac{1}{m} \\biggl( \\sum_{i=1}^{m}\\biggl( −y^{(i)}(1-h_\\theta(x)) + (1−y^{(i)})h_\\theta(x^{(i)}) \\biggr) x_j \\biggr) \\\\\n",
    "&= \\frac{1}{m}  \\sum_{i=1}^{m}(h_\\theta(x^{(i)}) − y^{(i)})x_j^{(i)}\n",
    "\\end{align}\n",
    "$$"
   ]
  },
  {
   "cell_type": "code",
   "execution_count": null,
   "metadata": {},
   "outputs": [],
   "source": []
  }
 ],
 "metadata": {
  "kernelspec": {
   "display_name": "Python 3",
   "language": "python",
   "name": "python3"
  },
  "language_info": {
   "codemirror_mode": {
    "name": "ipython",
    "version": 3
   },
   "file_extension": ".py",
   "mimetype": "text/x-python",
   "name": "python",
   "nbconvert_exporter": "python",
   "pygments_lexer": "ipython3",
   "version": "3.6.4"
  }
 },
 "nbformat": 4,
 "nbformat_minor": 2
}
