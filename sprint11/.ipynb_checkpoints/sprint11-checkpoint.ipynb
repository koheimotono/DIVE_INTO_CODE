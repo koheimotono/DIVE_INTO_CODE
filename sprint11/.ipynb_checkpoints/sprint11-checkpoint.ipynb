{
 "cells": [
  {
   "cell_type": "markdown",
   "metadata": {},
   "source": [
    "# Sprint 深層学習スクラッチ 畳み込みニューラルネットワーク1"
   ]
  },
  {
   "cell_type": "markdown",
   "metadata": {},
   "source": [
    "## Sprintの目的\n",
    "スクラッチを通してCNNの基礎を理解する"
   ]
  },
  {
   "cell_type": "code",
   "execution_count": 2,
   "metadata": {},
   "outputs": [],
   "source": [
    "import numpy as np\n",
    "import math\n",
    "import matplotlib.pyplot as plt\n",
    "%matplotlib inline\n",
    "\n",
    "from keras.datasets import mnist\n",
    "\n",
    "from sklearn.preprocessing import OneHotEncoder\n",
    "from sklearn.model_selection import train_test_split\n",
    "\n",
    "from sklearn.metrics import accuracy_score\n",
    "from sklearn.metrics import precision_score\n",
    "from sklearn.metrics import recall_score\n",
    "from sklearn.metrics import f1_score\n",
    "from sklearn.metrics import confusion_matrix"
   ]
  },
  {
   "cell_type": "code",
   "execution_count": 3,
   "metadata": {},
   "outputs": [],
   "source": [
    "class SimpleInitializer:\n",
    "    \"\"\"\n",
    "    ガウス分布によるシンプルな初期化\n",
    "    Parameters\n",
    "    ----------\n",
    "    sigma : float\n",
    "      ガウス分布の標準偏差\n",
    "    \"\"\"\n",
    "    def __init__(self, sigma):\n",
    "        self.sigma = sigma\n",
    "    def W(self, *shape):\n",
    "        \"\"\"\n",
    "        重みの初期化\n",
    "        Parameters\n",
    "        ----------\n",
    "\n",
    "        Returns\n",
    "        ----------\n",
    "        W : (n_nodes1, n_nodes2,)\n",
    "        W : (n_in_channels, n_out_channels, filter_size,)\n",
    "        \"\"\"\n",
    "        W = self.sigma * np.random.randn(*shape)\n",
    "        return W\n",
    "    def B(self, *shape):\n",
    "        \"\"\"\n",
    "        バイアスの初期化\n",
    "        Parameters\n",
    "        ----------\n",
    "\n",
    "        Returns\n",
    "        ----------\n",
    "        B : (n_out_channels,)\n",
    "        B : (n_nodes2,)\n",
    "        \"\"\"\n",
    "        B = self.sigma * np.random.randn(*shape)\n",
    "        return B"
   ]
  },
  {
   "cell_type": "code",
   "execution_count": 4,
   "metadata": {},
   "outputs": [],
   "source": [
    "class SGD:\n",
    "    \"\"\"\n",
    "    確率的勾配降下法\n",
    "    Parameters\n",
    "    ----------\n",
    "    lr : 学習率\n",
    "    \"\"\"\n",
    "    def __init__(self, lr):\n",
    "        self.lr = lr\n",
    "    \n",
    "    def update(self, layer):\n",
    "        \"\"\"\n",
    "        ある層の重みやバイアスの更新\n",
    "        Parameters\n",
    "        ----------\n",
    "        layer : 更新前の層のインスタンス\n",
    "\n",
    "        Returns\n",
    "        ----------\n",
    "        layer : 更新後の層のインスタンス\n",
    "        \"\"\"\n",
    "        layer.W -= self.lr * layer.dW\n",
    "        layer.B -= self.lr * layer.dB\n",
    "        return\n",
    "\n",
    "class AdaGrad:\n",
    "    \n",
    "    def __init__(self, lr):\n",
    "        self.lr = lr\n",
    "        self.HW = 1\n",
    "        self.HB = 1\n",
    "    \n",
    "    def update(self, layer):\n",
    "        self.HW += layer.dW**2\n",
    "        self.HB += layer.dB**2\n",
    "        layer.W -= self.lr * np.sqrt(1/self.HW) * layer.dW\n",
    "        layer.B -= self.lr * np.sqrt(1/self.HB) * layer.dB"
   ]
  },
  {
   "cell_type": "markdown",
   "metadata": {},
   "source": [
    "## 【問題1】チャンネル数を1に限定した1次元畳み込み層クラスの作成"
   ]
  },
  {
   "cell_type": "code",
   "execution_count": 12,
   "metadata": {},
   "outputs": [],
   "source": [
    "class SimpleConv1d:\n",
    "    \n",
    "    def __init__(self, filter_size, initializer, optimizer, pa=0):\n",
    "        self.filter_size = filter_size\n",
    "        self.optimizer = optimizer\n",
    "        self.pa = pa\n",
    "        self.W = initializer.W(filter_size)\n",
    "        self.B = initializer.B(1)[0]\n",
    "        self.n_out = None\n",
    "        \n",
    "    def forward(self, X):\n",
    "        \"\"\"\n",
    "        フォワード\n",
    "        Parameters\n",
    "        ----------\n",
    "        X : 次の形のndarray, shape (n_in)\n",
    "            入力\n",
    "        Returns\n",
    "        ----------\n",
    "        A : 次の形のndarray, shape (n_out)\n",
    "            出力\n",
    "        \"\"\"\n",
    "        self.n_in = X.shape[-1]\n",
    "        self.n_out = out_size(self.n_in, self.filter_size, self.pa)\n",
    "        \"\"\"\n",
    "        self.X = np.pad(X, self.pa)\n",
    "        A = np.zeros(self.n_out)\n",
    "        for i in range(self.n_out):\n",
    "            for s in range(self.filter_size):\n",
    "                A[i] += self.X[i+s]*self.W[s]\n",
    "            A[i] += self.B\n",
    "        #\"\"\"\n",
    "        #\"\"\n",
    "        self.X = np.pad(X, ((self.filter_size-1), 0))\n",
    "        self.X1 = np.zeros((self.filter_size, self.n_in+(self.filter_size-1)))\n",
    "        for i in range(self.filter_size):\n",
    "            self.X1[i] = np.roll(self.X, -i)\n",
    "        A = self.W@self.X1[:, self.filter_size-1-self.pa:self.n_in+self.pa] + self.B\n",
    "        #\"\"\"\n",
    "        return A\n",
    "    \n",
    "    def backward(self, dA):\n",
    "        \"\"\"\n",
    "        バックワード\n",
    "        Parameters\n",
    "        ----------\n",
    "        dA : 次の形のndarray, shape (n_out)\n",
    "            後ろから流れてきた勾配\n",
    "        Returns\n",
    "        ----------\n",
    "        dX : 次の形のndarray, shape (n_in)\n",
    "            前に流す勾配\n",
    "        \"\"\"\n",
    "        \"\"\"\n",
    "        self.dW = np.zeros(self.W.shape)\n",
    "        self.dB = 0\n",
    "        for s in range(self.filter_size):\n",
    "            for i in range(self.n_out):\n",
    "                self.dW[s] += dA[i]*self.X[i+s]\n",
    "        for i in range(self.n_out):\n",
    "            self.dB += dA[i]\n",
    "        dX = np.zeros(self.X.shape)\n",
    "        for j in range(self.n_in):\n",
    "            for s in range(self.filter_size):\n",
    "                if 0 <= j-s <= self.n_out-1:\n",
    "                    dX[j] += dA[j-s]*self.W[s]\n",
    "        \"\"\"\n",
    "        #\"\"\"\n",
    "        self.dW = self.X1[:, self.filter_size-1-self.pa:self.n_in+self.pa]@dA\n",
    "        self.dB = np.sum(dA)\n",
    "        self.dA = np.pad(dA, (0, (self.filter_size-1)))\n",
    "        self.dA1 = np.zeros((self.filter_size, self.dA.shape[-1]))\n",
    "        for i in range(self.filter_size):\n",
    "            self.dA1[i] = np.roll(self.dA, i)\n",
    "        dX = self.W@self.dA1\n",
    "        #\"\"\"\n",
    "        \n",
    "        self.optimizer.update(self)\n",
    "        return dX"
   ]
  },
  {
   "cell_type": "markdown",
   "metadata": {},
   "source": [
    "## 【問題2】1次元畳み込み後の出力サイズの計算"
   ]
  },
  {
   "cell_type": "code",
   "execution_count": 13,
   "metadata": {},
   "outputs": [],
   "source": [
    "def out_size(in_size, f, p=0, s=1):\n",
    "    return int((in_size+2*p-f) // s) + 1"
   ]
  },
  {
   "cell_type": "markdown",
   "metadata": {},
   "source": [
    "## 【問題3】小さな配列での1次元畳み込み層の実験"
   ]
  },
  {
   "cell_type": "code",
   "execution_count": 14,
   "metadata": {},
   "outputs": [],
   "source": [
    "simple_conv1d = SimpleConv1d(filter_size=3, initializer=SimpleInitializer(0.01), optimizer=SGD(0.01), pa=0)"
   ]
  },
  {
   "cell_type": "code",
   "execution_count": 15,
   "metadata": {},
   "outputs": [],
   "source": [
    "x = np.array([1,2,3,4])\n",
    "simple_conv1d.W = np.array([3, 5, 7], dtype=float)\n",
    "simple_conv1d.B = np.array([1], dtype=float)"
   ]
  },
  {
   "cell_type": "code",
   "execution_count": 16,
   "metadata": {},
   "outputs": [
    {
     "data": {
      "text/plain": [
       "array([35., 50.])"
      ]
     },
     "execution_count": 16,
     "metadata": {},
     "output_type": "execute_result"
    }
   ],
   "source": [
    "a = simple_conv1d.forward(x)\n",
    "a"
   ]
  },
  {
   "cell_type": "code",
   "execution_count": 17,
   "metadata": {},
   "outputs": [
    {
     "data": {
      "text/plain": [
       "array([ 30., 110., 170., 140.])"
      ]
     },
     "execution_count": 17,
     "metadata": {},
     "output_type": "execute_result"
    }
   ],
   "source": [
    "delta_a = np.array([10, 20])\n",
    "delta_x = simple_conv1d.backward(delta_a)\n",
    "delta_x"
   ]
  },
  {
   "cell_type": "code",
   "execution_count": 18,
   "metadata": {},
   "outputs": [
    {
     "data": {
      "text/plain": [
       "(array([ 50.,  80., 110.]), 30)"
      ]
     },
     "execution_count": 18,
     "metadata": {},
     "output_type": "execute_result"
    }
   ],
   "source": [
    "delta_w = simple_conv1d.dW\n",
    "delta_b = simple_conv1d.dB\n",
    "delta_w, delta_b"
   ]
  },
  {
   "cell_type": "markdown",
   "metadata": {},
   "source": [
    "## 【問題4】チャンネル数を限定しない1次元畳み込み層クラスの作成"
   ]
  },
  {
   "cell_type": "code",
   "execution_count": 20,
   "metadata": {},
   "outputs": [],
   "source": [
    "class Conv1d:\n",
    "    \n",
    "    def __init__(self, filter_size, initializer, optimizer, n_in_channels=1, n_out_channels=1, pa=0):\n",
    "        self.filter_size = filter_size\n",
    "        self.optimizer = optimizer\n",
    "        self.pa = pa\n",
    "        self.W = initializer.W(n_out_channels, n_in_channels, filter_size)\n",
    "        self.B = initializer.B(n_out_channels)\n",
    "        self.n_in_channels = n_in_channels\n",
    "        self.n_out_channels = n_out_channels\n",
    "        self.n_out = None\n",
    "        \n",
    "    def forward(self, X):\n",
    "        \"\"\"\n",
    "        フォワード\n",
    "        Parameters\n",
    "        ----------\n",
    "        X : 次の形のndarray, shape (n_in_channels, n_in)\n",
    "            入力\n",
    "        Returns\n",
    "        ----------\n",
    "        A : 次の形のndarray, shape (n_out_channels, n_out)\n",
    "            出力\n",
    "        \"\"\"\n",
    "        self.n_in = X.shape[-1]\n",
    "        self.n_out = out_size(self.n_in, self.filter_size, self.pa)\n",
    "        X = X.reshape(self.n_in_channels, self.n_in)\n",
    "        \"\"\"\n",
    "        self.X = np.pad(X, ((0,0),(self.pa,self.pa)))\n",
    "        A = np.zeros((self.n_out_channels, self.n_out))\n",
    "        for k in range(self.n_out_channels):\n",
    "            for i in range(self.n_out):\n",
    "                for m in range(self.n_in_channels):\n",
    "                    for s in range(self.filter_size):\n",
    "                        A[k, i] += self.X[m, i+s]*self.W[k, m, s]\n",
    "                A[k, i] += self.B[k]\n",
    "        #\"\"\"\n",
    "        #\"\"\n",
    "        self.X = np.pad(X, ((0,0), ((self.filter_size-1), 0)))\n",
    "        self.X1 = np.zeros((self.n_in_channels, self.filter_size, self.n_in+(self.filter_size-1)))\n",
    "        for i in range(self.filter_size):\n",
    "            self.X1[:, i] = np.roll(self.X, -i, axis=-1)\n",
    "        A = np.sum(self.X1[:, :, self.filter_size-1-self.pa:self.n_in+self.pa]*self.W[:, :, :, np.newaxis], axis=(1, 2)) + self.B.reshape(-1,1)\n",
    "        #\"\"\"\n",
    "        return A\n",
    "    \n",
    "    def backward(self, dA):\n",
    "        \"\"\"\n",
    "        バックワード\n",
    "        Parameters\n",
    "        ----------\n",
    "        dA : 次の形のndarray, shape (n_out_channels, n_out)\n",
    "            後ろから流れてきた勾配\n",
    "        Returns\n",
    "        ----------\n",
    "        dX : 次の形のndarray, shape (n_in_channels, n_in)\n",
    "            前に流す勾配\n",
    "        \"\"\"\n",
    "        \"\"\"\n",
    "        self.dW = np.zeros(self.W.shape)\n",
    "        self.dB = np.zeros(self.B.shape)\n",
    "        for k in range(self.n_out_channels):\n",
    "            for i in range(self.n_out):\n",
    "                for m in range(self.n_in_channels):\n",
    "                    for s in range(self.filter_size):\n",
    "                        self.dW[k, m, s] += dA[k, i]*self.X[m, i+s]\n",
    "                self.dB[k] += dA[k, i]\n",
    "        dX = np.zeros((self.n_in_channels, self.n_in))\n",
    "        for m in range(self.n_in_channels):\n",
    "            for j in range(self.n_in):\n",
    "                for k in range(self.n_out_channels):\n",
    "                    for s in range(self.filter_size):\n",
    "                        if 0 <= j-s <= self.n_out-1:\n",
    "                            dX[m, j] += dA[k, j-s]*self.W[k, m, s]\n",
    "        #\"\"\"\n",
    "        #\"\"\"\n",
    "        self.dW = np.sum(np.dot(dA, self.X1[:, :, self.filter_size-1-self.pa:self.n_in+self.pa, np.newaxis]), axis=-1)\n",
    "        self.dB = np.sum(dA, axis=1)\n",
    "        self.dA = np.pad(dA, ((0,0), (0, (self.filter_size-1))))\n",
    "        self.dA1 = np.zeros((self.n_out_channels, self.filter_size, self.dA.shape[-1]))\n",
    "        for i in range(self.filter_size):\n",
    "            self.dA1[:, i] = np.roll(self.dA, i, axis=-1)\n",
    "        dX = np.sum(self.W@self.dA1, axis=0)\n",
    "        #\"\"\"\n",
    "        self.optimizer.update(self)\n",
    "        return dX"
   ]
  },
  {
   "cell_type": "code",
   "execution_count": 21,
   "metadata": {},
   "outputs": [],
   "source": [
    "conv1d = Conv1d(filter_size=3, initializer=SimpleInitializer(0.01), optimizer=SGD(0.01), n_in_channels=2, n_out_channels=3, pa=0)"
   ]
  },
  {
   "cell_type": "code",
   "execution_count": 22,
   "metadata": {},
   "outputs": [
    {
     "data": {
      "text/plain": [
       "array([[[1., 1., 2.],\n",
       "        [2., 1., 1.]],\n",
       "\n",
       "       [[2., 1., 1.],\n",
       "        [1., 1., 1.]],\n",
       "\n",
       "       [[1., 1., 1.],\n",
       "        [1., 1., 1.]]])"
      ]
     },
     "execution_count": 22,
     "metadata": {},
     "output_type": "execute_result"
    }
   ],
   "source": [
    "x = np.array([[1, 2, 3, 4], [2, 3, 4, 5]]) # shape(2, 4)で、（入力チャンネル数、特徴量数）である。\n",
    "conv1d.W = np.ones((3, 2, 3), dtype=float) # 例の簡略化のため全て1とする。(出力チャンネル数、入力チャンネル数、フィルタサイズ)である。\n",
    "#\"\"\"\n",
    "conv1d.W[0,0,2] = 2\n",
    "conv1d.W[0,1,0] = 2\n",
    "conv1d.W[1,0,0] = 2\n",
    "#\"\"\"\n",
    "conv1d.B = np.array([1, 2, 3], dtype=float) # （出力チャンネル数）\n",
    "conv1d.W"
   ]
  },
  {
   "cell_type": "code",
   "execution_count": 23,
   "metadata": {},
   "outputs": [
    {
     "data": {
      "text/plain": [
       "array([[21., 29.],\n",
       "       [18., 25.],\n",
       "       [18., 24.]])"
      ]
     },
     "execution_count": 23,
     "metadata": {},
     "output_type": "execute_result"
    }
   ],
   "source": [
    "a = conv1d.forward(x)\n",
    "a"
   ]
  },
  {
   "cell_type": "code",
   "execution_count": 24,
   "metadata": {},
   "outputs": [
    {
     "data": {
      "text/plain": [
       "array([[125., 230., 204., 113.],\n",
       "       [102., 206., 195., 102.]])"
      ]
     },
     "execution_count": 24,
     "metadata": {},
     "output_type": "execute_result"
    }
   ],
   "source": [
    "delta_a = np.array([[9, 11], [32, 35], [52, 56]])\n",
    "delta_x = conv1d.backward(delta_a)\n",
    "delta_x"
   ]
  },
  {
   "cell_type": "code",
   "execution_count": 25,
   "metadata": {},
   "outputs": [
    {
     "data": {
      "text/plain": [
       "(array([[[ 31.,  51.,  71.],\n",
       "         [ 51.,  71.,  91.]],\n",
       " \n",
       "        [[102., 169., 236.],\n",
       "         [169., 236., 303.]],\n",
       " \n",
       "        [[164., 272., 380.],\n",
       "         [272., 380., 488.]]]), array([ 20,  67, 108]))"
      ]
     },
     "execution_count": 25,
     "metadata": {},
     "output_type": "execute_result"
    }
   ],
   "source": [
    "delta_w = conv1d.dW\n",
    "delta_b = conv1d.dB\n",
    "delta_w, delta_b"
   ]
  },
  {
   "cell_type": "markdown",
   "metadata": {},
   "source": [
    "## 【問題5】（アドバンス課題）パディングの実装"
   ]
  },
  {
   "cell_type": "markdown",
   "metadata": {},
   "source": [
    "SimpleConv1d クラスと Conv1d クラスを変更"
   ]
  },
  {
   "cell_type": "markdown",
   "metadata": {},
   "source": [
    "## 【問題6】（アドバンス課題）ミニバッチへの対応"
   ]
  },
  {
   "cell_type": "code",
   "execution_count": 27,
   "metadata": {},
   "outputs": [],
   "source": [
    "class Conv1d_2:\n",
    "    \n",
    "    def __init__(self, filter_size, initializer, optimizer, n_in_channels=1, n_out_channels=1, pa=0):\n",
    "        self.filter_size = filter_size\n",
    "        self.optimizer = optimizer\n",
    "        self.pa = pa\n",
    "        self.W = initializer.W(n_out_channels, n_in_channels, filter_size)\n",
    "        self.B = initializer.B(n_out_channels)\n",
    "        self.n_in_channels = n_in_channels\n",
    "        self.n_out_channels = n_out_channels\n",
    "        self.n_out = None\n",
    "        \n",
    "    def forward(self, X):\n",
    "        \"\"\"\n",
    "        フォワード\n",
    "        Parameters\n",
    "        ----------\n",
    "        X : 次の形のndarray, shape (n_samples, n_in_channels, n_in)\n",
    "            入力\n",
    "        Returns\n",
    "        ----------\n",
    "        A : 次の形のndarray, shape (n_samples, n_out_channels, n_out)\n",
    "            出力\n",
    "        \"\"\"\n",
    "        self.n_samples = X.shape[0]\n",
    "        self.n_in = X.shape[-1]\n",
    "        self.n_out = out_size(self.n_in, self.filter_size, self.pa)\n",
    "        X = X.reshape(self.n_samples, self.n_in_channels, self.n_in)\n",
    "        \"\"\"\n",
    "        self.X = np.pad(X, ((0,0),(0,0),(self.pa,self.pa)))\n",
    "        A = np.zeros((self.n_samples, self.n_out_channels, self.n_out))\n",
    "        for t in range(self.n_samples):\n",
    "            for k in range(self.n_out_channels):\n",
    "                for i in range(self.n_out):\n",
    "                    for m in range(self.n_in_channels):\n",
    "                        for s in range(self.filter_size):\n",
    "                            A[t, k, i] += self.X[t, m, i+s]*self.W[k, m, s]\n",
    "                    A[t, k, i] += self.B[k]\n",
    "        #\"\"\"\n",
    "        #\"\"\"\n",
    "        self.X = np.pad(X, ((0,0), (0,0), ((self.filter_size-1), 0)))\n",
    "        self.X1 = np.zeros((self.n_samples, self.n_in_channels, self.filter_size, self.n_in+(self.filter_size-1)))\n",
    "        for i in range(self.filter_size):\n",
    "            self.X1[:, :, i] = np.roll(self.X, -i, axis=-1)\n",
    "        A = np.sum(self.X1[:, np.newaxis, :, :, self.filter_size-1-self.pa:self.n_in+self.pa]*self.W[:, :, :, np.newaxis], axis=(2, 3)) + self.B.reshape(-1,1)\n",
    "        #\"\"\"\n",
    "        return A\n",
    "    \n",
    "    def backward(self, dA):\n",
    "        \"\"\"\n",
    "        バックワード\n",
    "        Parameters\n",
    "        ----------\n",
    "        dA : 次の形のndarray, shape (n_samples, n_out_channels, n_out)\n",
    "            後ろから流れてきた勾配\n",
    "        Returns\n",
    "        ----------\n",
    "        dX : 次の形のndarray, shape (n_samples, n_in_channels, n_in)\n",
    "            前に流す勾配\n",
    "        \"\"\"\n",
    "        \"\"\"\n",
    "        self.dW = np.zeros(self.W.shape)\n",
    "        self.dB = np.zeros(self.B.shape)\n",
    "        for t in range(self.n_samples):\n",
    "            for k in range(self.n_out_channels):\n",
    "                for i in range(self.n_out):\n",
    "                    for m in range(self.n_in_channels):\n",
    "                        for s in range(self.filter_size):\n",
    "                            self.dW[k, m, s] += dA[t, k, i]*self.X[t, m, i+s]\n",
    "                    self.dB[k] += dA[t, k, i]\n",
    "        dX = np.zeros((self.n_samples, self.n_in_channels, self.n_in))\n",
    "        for t in range(self.n_samples):\n",
    "            for m in range(self.n_in_channels):\n",
    "                for j in range(self.n_in):\n",
    "                    for k in range(self.n_out_channels):\n",
    "                        for s in range(self.filter_size):\n",
    "                            if 0 <= j-s <= self.n_out-1:\n",
    "                                dX[t, m, j] += dA[t, k, j-s]*self.W[k, m, s]\n",
    "        #\"\"\"\n",
    "        #\"\"\"\n",
    "        self.dW = np.sum(dA[:, :, np.newaxis, np.newaxis]*self.X1[:, np.newaxis, :, :, self.filter_size-1-self.pa:self.n_in+self.pa], axis=(0, -1))\n",
    "        self.dB = np.sum(dA, axis=(0, -1))\n",
    "        self.dA = np.pad(dA, ((0,0), (0,0), (0, (self.filter_size-1))))\n",
    "        self.dA1 = np.zeros((self.n_samples, self.n_out_channels, self.filter_size, self.dA.shape[-1]))\n",
    "        for i in range(self.filter_size):\n",
    "            self.dA1[:, :, i] = np.roll(self.dA, i, axis=-1)\n",
    "        dX = np.sum(self.W[:, :, :, np.newaxis]*self.dA1[:, :, np.newaxis], axis=(1,3))\n",
    "        #\"\"\"\n",
    "        self.optimizer.update(self)\n",
    "        return dX"
   ]
  },
  {
   "cell_type": "code",
   "execution_count": 28,
   "metadata": {},
   "outputs": [],
   "source": [
    "conv1d_2 = Conv1d_2(filter_size=3, initializer=SimpleInitializer(0.01), optimizer=SGD(0.01), n_in_channels=1, n_out_channels=1, pa=1)"
   ]
  },
  {
   "cell_type": "code",
   "execution_count": 29,
   "metadata": {},
   "outputs": [],
   "source": [
    "x = np.array([[[1,5,0,2,8,1]], [[1,5,0,2,8,1]]])\n",
    "conv1d_2.W = np.array([[[-1, 2, -1]]], dtype=float)\n",
    "conv1d_2.B = np.array([0], dtype=float)"
   ]
  },
  {
   "cell_type": "code",
   "execution_count": 30,
   "metadata": {},
   "outputs": [
    {
     "data": {
      "text/plain": [
       "array([[[-3.,  9., -7., -4., 13., -6.]],\n",
       "\n",
       "       [[-3.,  9., -7., -4., 13., -6.]]])"
      ]
     },
     "execution_count": 30,
     "metadata": {},
     "output_type": "execute_result"
    }
   ],
   "source": [
    "a = conv1d_2.forward(x)\n",
    "a"
   ]
  },
  {
   "cell_type": "code",
   "execution_count": 31,
   "metadata": {},
   "outputs": [
    {
     "data": {
      "text/plain": [
       "array([[[-1.,  0.,  0.,  0.,  0.,  0.,  7., -6.]],\n",
       "\n",
       "       [[-1.,  0.,  0.,  0.,  0.,  0.,  7., -6.]]])"
      ]
     },
     "execution_count": 31,
     "metadata": {},
     "output_type": "execute_result"
    }
   ],
   "source": [
    "delta_a = np.array([[[1,2,3,4,5,6]], [[1,2,3,4,5,6]]])\n",
    "delta_x = conv1d_2.backward(delta_a)\n",
    "delta_x"
   ]
  },
  {
   "cell_type": "code",
   "execution_count": 32,
   "metadata": {},
   "outputs": [
    {
     "data": {
      "text/plain": [
       "(array([[[150., 130.,  96.]]]), array([42]))"
      ]
     },
     "execution_count": 32,
     "metadata": {},
     "output_type": "execute_result"
    }
   ],
   "source": [
    "delta_w = conv1d_2.dW\n",
    "delta_b = conv1d_2.dB\n",
    "delta_w, delta_b"
   ]
  },
  {
   "cell_type": "code",
   "execution_count": 33,
   "metadata": {},
   "outputs": [],
   "source": [
    "conv1d_2 = Conv1d_2(filter_size=3, initializer=SimpleInitializer(0.01), optimizer=SGD(0.01), n_in_channels=2, n_out_channels=3, pa=0)"
   ]
  },
  {
   "cell_type": "code",
   "execution_count": 34,
   "metadata": {},
   "outputs": [
    {
     "data": {
      "text/plain": [
       "array([[[1., 1., 2.],\n",
       "        [2., 1., 1.]],\n",
       "\n",
       "       [[2., 1., 1.],\n",
       "        [1., 1., 1.]],\n",
       "\n",
       "       [[1., 1., 1.],\n",
       "        [1., 1., 1.]]])"
      ]
     },
     "execution_count": 34,
     "metadata": {},
     "output_type": "execute_result"
    }
   ],
   "source": [
    "x = np.array([[[1, 2, 3, 4], [2, 3, 4, 5]]]) # shape(2, 4)で、（入力チャンネル数、特徴量数）である。\n",
    "conv1d_2.W = np.ones((3, 2, 3), dtype=float) # 例の簡略化のため全て1とする。(出力チャンネル数、入力チャンネル数、フィルタサイズ)である。\n",
    "#\"\"\"\n",
    "conv1d_2.W[0,0,2] = 2\n",
    "conv1d_2.W[0,1,0] = 2\n",
    "conv1d_2.W[1,0,0] = 2\n",
    "#\"\"\"\n",
    "conv1d_2.B = np.array([1, 2, 3], dtype=float) # （出力チャンネル数）\n",
    "conv1d_2.W"
   ]
  },
  {
   "cell_type": "code",
   "execution_count": 35,
   "metadata": {},
   "outputs": [
    {
     "data": {
      "text/plain": [
       "array([[[21., 29.],\n",
       "        [18., 25.],\n",
       "        [18., 24.]]])"
      ]
     },
     "execution_count": 35,
     "metadata": {},
     "output_type": "execute_result"
    }
   ],
   "source": [
    "a = conv1d_2.forward(x)\n",
    "a"
   ]
  },
  {
   "cell_type": "code",
   "execution_count": 36,
   "metadata": {},
   "outputs": [
    {
     "data": {
      "text/plain": [
       "array([[[125., 230., 204., 113.],\n",
       "        [102., 206., 195., 102.]]])"
      ]
     },
     "execution_count": 36,
     "metadata": {},
     "output_type": "execute_result"
    }
   ],
   "source": [
    "delta_a = np.array([[[9, 11], [32, 35], [52, 56]]])\n",
    "delta_x = conv1d_2.backward(delta_a)\n",
    "delta_x"
   ]
  },
  {
   "cell_type": "code",
   "execution_count": 37,
   "metadata": {},
   "outputs": [
    {
     "data": {
      "text/plain": [
       "(array([[[ 31.,  51.,  71.],\n",
       "         [ 51.,  71.,  91.]],\n",
       " \n",
       "        [[102., 169., 236.],\n",
       "         [169., 236., 303.]],\n",
       " \n",
       "        [[164., 272., 380.],\n",
       "         [272., 380., 488.]]]), array([ 20,  67, 108]))"
      ]
     },
     "execution_count": 37,
     "metadata": {},
     "output_type": "execute_result"
    }
   ],
   "source": [
    "delta_w = conv1d_2.dW\n",
    "delta_b = conv1d_2.dB\n",
    "delta_w, delta_b"
   ]
  },
  {
   "cell_type": "markdown",
   "metadata": {},
   "source": [
    "## 【問題7】（アドバンス課題）任意のストライド数"
   ]
  },
  {
   "cell_type": "code",
   "execution_count": 39,
   "metadata": {},
   "outputs": [],
   "source": [
    "class Conv1d_3:\n",
    "    \n",
    "    def __init__(self, filter_size, initializer, optimizer, n_in_channels=1, n_out_channels=1, pa=0, st=1):\n",
    "        self.filter_size = filter_size\n",
    "        self.optimizer = optimizer\n",
    "        self.pa = pa\n",
    "        self.st = st\n",
    "        self.W = initializer.W(n_out_channels, n_in_channels, filter_size)\n",
    "        self.B = initializer.B(n_out_channels)\n",
    "        self.n_in_channels = n_in_channels\n",
    "        self.n_out_channels = n_out_channels\n",
    "        self.n_out = None\n",
    "        \n",
    "    def forward(self, X):\n",
    "        \"\"\"\n",
    "        フォワード\n",
    "        Parameters\n",
    "        ----------\n",
    "        X : 次の形のndarray, shape (n_samples, n_in_channels, n_in)\n",
    "            入力\n",
    "        Returns\n",
    "        ----------\n",
    "        A : 次の形のndarray, shape (n_samples, n_out_channels, n_out)\n",
    "            出力\n",
    "        \"\"\"\n",
    "        self.n_samples = X.shape[0]\n",
    "        self.n_in = X.shape[-1]\n",
    "        self.n_out = out_size(self.n_in, self.filter_size, self.pa, self.st)\n",
    "        X = X.reshape(self.n_samples, self.n_in_channels, self.n_in)\n",
    "        \"\"\"\n",
    "        self.X = np.pad(X, ((0,0),(0,0),(self.pa,self.pa)))\n",
    "        A = np.zeros((self.n_samples, self.n_out_channels, self.n_out))\n",
    "        for t in range(self.n_samples):\n",
    "            for k in range(self.n_out_channels):\n",
    "                for i in range(self.n_out):\n",
    "                    for m in range(self.n_in_channels):\n",
    "                        for s in range(self.filter_size):\n",
    "                            A[t, k, i] += self.X[t, m, i*self.st+s]*self.W[k, m, s]\n",
    "                    A[t, k, i] += self.B[k]\n",
    "        #\"\"\"\n",
    "        #\"\"\"\n",
    "        self.X = np.pad(X, ((0,0), (0,0), ((self.filter_size-1), 0)))\n",
    "        self.X1 = np.zeros((self.n_samples, self.n_in_channels, self.filter_size, self.n_in+(self.filter_size-1)))\n",
    "        for i in range(self.filter_size):\n",
    "            self.X1[:, :, i] = np.roll(self.X, -i, axis=-1)\n",
    "        A = np.sum(self.X1[:, np.newaxis, :, :, self.filter_size-1-self.pa:self.n_in+self.pa:self.st]*self.W[:, :, :, np.newaxis], axis=(2, 3)) + self.B.reshape(-1,1)\n",
    "        #\"\"\"\n",
    "        return A\n",
    "    \n",
    "    def backward(self, dA):\n",
    "        \"\"\"\n",
    "        バックワード\n",
    "        Parameters\n",
    "        ----------\n",
    "        dA : 次の形のndarray, shape (n_samples, n_out_channels, n_out)\n",
    "            後ろから流れてきた勾配\n",
    "        Returns\n",
    "        ----------\n",
    "        dX : 次の形のndarray, shape (n_samples, n_in_channels, n_in)\n",
    "            前に流す勾配\n",
    "        \"\"\"\n",
    "        \"\"\"\n",
    "        self.dW = np.zeros(self.W.shape)\n",
    "        self.dB = np.zeros(self.B.shape)\n",
    "        for t in range(self.n_samples):\n",
    "            for k in range(self.n_out_channels):\n",
    "                for i in range(self.n_out):\n",
    "                    for m in range(self.n_in_channels):\n",
    "                        for s in range(self.filter_size):\n",
    "                            self.dW[k, m, s] += dA[t, k, i]*self.X[t, m, i*self.st+s]\n",
    "                    self.dB[k] += dA[t, k, i]\n",
    "        dX = np.zeros((self.n_samples, self.n_in_channels, self.n_in))\n",
    "        for t in range(self.n_samples):\n",
    "            for m in range(self.n_in_channels):\n",
    "                for j in range(self.n_in):\n",
    "                    for k in range(self.n_out_channels):\n",
    "                        for s in range(self.filter_size):\n",
    "                            if 0 <= j-s <= self.n_out-1:\n",
    "                                dX[t, m, j] += dA[t, k, j-s]*self.W[k, m, s]\n",
    "        #\"\"\"\n",
    "        #\"\"\"\n",
    "        self.dW = np.sum(dA[:, :, np.newaxis, np.newaxis]*self.X1[:, np.newaxis, :, :, self.filter_size-1-self.pa:self.n_in+self.pa:self.st], axis=(0, -1))\n",
    "        self.dB = np.sum(dA, axis=(0, -1))\n",
    "        self.dA = np.pad(dA, ((0,0), (0,0), (0, (self.filter_size-1))))\n",
    "        self.dA1 = np.zeros((self.n_samples, self.n_out_channels, self.filter_size, self.dA.shape[-1]))\n",
    "        for i in range(self.filter_size):\n",
    "            self.dA1[:, :, i] = np.roll(self.dA, i, axis=-1)\n",
    "        dX = np.sum(self.W[:, :, :, np.newaxis]*self.dA1[:, :, np.newaxis], axis=(1,3))\n",
    "        #\"\"\"\n",
    "        self.optimizer.update(self)\n",
    "        return dX"
   ]
  },
  {
   "cell_type": "code",
   "execution_count": 40,
   "metadata": {},
   "outputs": [],
   "source": [
    "conv1d_3 = Conv1d_3(filter_size=3, initializer=SimpleInitializer(0.01), optimizer=SGD(0.01), n_in_channels=1, n_out_channels=1, pa=1, st=2)"
   ]
  },
  {
   "cell_type": "code",
   "execution_count": 41,
   "metadata": {},
   "outputs": [],
   "source": [
    "x = np.array([[[1,5,0,2,8,1]]])\n",
    "conv1d_3.W = np.array([[[-1, 2, -1]]], dtype=float)\n",
    "conv1d_3.B = np.array([0], dtype=float)"
   ]
  },
  {
   "cell_type": "code",
   "execution_count": 42,
   "metadata": {},
   "outputs": [
    {
     "data": {
      "text/plain": [
       "array([[[-3., -7., 13.]]])"
      ]
     },
     "execution_count": 42,
     "metadata": {},
     "output_type": "execute_result"
    }
   ],
   "source": [
    "a = conv1d_3.forward(x)\n",
    "a"
   ]
  },
  {
   "cell_type": "code",
   "execution_count": 43,
   "metadata": {},
   "outputs": [
    {
     "data": {
      "text/plain": [
       "array([[[-1.,  0.,  0.,  4., -3.]]])"
      ]
     },
     "execution_count": 43,
     "metadata": {},
     "output_type": "execute_result"
    }
   ],
   "source": [
    "delta_a = np.array([[[1,2,3]]])\n",
    "delta_x = conv1d_3.backward(delta_a)\n",
    "delta_x"
   ]
  },
  {
   "cell_type": "code",
   "execution_count": 44,
   "metadata": {},
   "outputs": [
    {
     "data": {
      "text/plain": [
       "(array([[[16., 25., 12.]]]), array([6]))"
      ]
     },
     "execution_count": 44,
     "metadata": {},
     "output_type": "execute_result"
    }
   ],
   "source": [
    "delta_w = conv1d_3.dW\n",
    "delta_b = conv1d_3.dB\n",
    "delta_w, delta_b"
   ]
  },
  {
   "cell_type": "markdown",
   "metadata": {},
   "source": [
    "## 【問題8】学習と推定"
   ]
  },
  {
   "cell_type": "code",
   "execution_count": 45,
   "metadata": {},
   "outputs": [],
   "source": [
    "class ActSigmoid:\n",
    "    \n",
    "    def forward(self, A):\n",
    "        self.A = A\n",
    "        return self.sigmoid(A)\n",
    "    \n",
    "    def backward(self, dZ):\n",
    "        _sig = self.sigmoid(self.A)\n",
    "        return dZ * (1 - _sig)*_sig\n",
    "    \n",
    "    def sigmoid(self, X):\n",
    "        return 1 / (1 + np.exp(-X))\n",
    "\n",
    "class ActTanh:\n",
    "    \n",
    "    def forward(self, A):\n",
    "        self.A = A\n",
    "        return np.tanh(A)\n",
    "    \n",
    "    def backward(self, dZ):\n",
    "        return dZ * (1 - (np.tanh(self.A))**2)\n",
    "\n",
    "class ActSoftmax:\n",
    "    \n",
    "    def forward(self, X):\n",
    "        self.Z = np.exp(X) / np.sum(np.exp(X), axis=1).reshape(-1,1)\n",
    "        return self.Z\n",
    "    \n",
    "    def backward(self, Y):\n",
    "        self.loss = self.loss_func(Y)\n",
    "        return self.Z - Y\n",
    "    \n",
    "    def loss_func(self, Y, Z=None):\n",
    "        \"\"\"\n",
    "        y_true : (n_samples, n_output)\n",
    "        z : (n_samples, n_output)\n",
    "        \"\"\"\n",
    "        if Z is None:\n",
    "            Z = self.Z\n",
    "        return (-1)*np.average(np.sum(Y*np.log(Z), axis=1))\n",
    "\n",
    "class ActReLU:\n",
    "    def forward(self, A):\n",
    "        self.A = A\n",
    "        return np.clip(A, 0, None)\n",
    "    \n",
    "    def backward(self, dZ):\n",
    "        return dZ * np.clip(np.sign(self.A), 0, None)\n",
    "\n",
    "class ScratchConvNeuralNetrowkClassifier:\n",
    "    \n",
    "    def __init__(self, num_epoch=10, lr=0.01, batch_size=20, \n",
    "                 n_features=784, n_nodes1=400, n_nodes2=200, n_output=10, \n",
    "                 verbose=True, Activater=ActTanh, Optimizer=AdaGrad):\n",
    "        self.num_epoch = num_epoch\n",
    "        self.lr = lr\n",
    "        self.verbose = verbose\n",
    "        \n",
    "        self.batch_size = batch_size # バッチサイズ\n",
    "        self.n_features = n_features # 特徴量の数\n",
    "        # self.n_nodes1 = n_nodes1 # 1層目のノード数 # self.conv1d_3.n_out になる\n",
    "        self.n_nodes2 = n_nodes2 # 2層目のノード数\n",
    "        self.n_output = n_output # 出力のクラス数（3層目のノード数）\n",
    "        \n",
    "        self.Activater = Activater\n",
    "        if Activater == ActSigmoid or Activater == ActTanh:\n",
    "            self.Initializer = XavierInitializer\n",
    "        elif Activater == ActReLU:\n",
    "            self.Initializer = HeInitializer\n",
    "        else:\n",
    "            print(\"活性化関数が不適切\")\n",
    "        self.Optimizer = Optimizer\n",
    "    \n",
    "    def fit(self, X, y, X_val=None, y_val=None):\n",
    "        \n",
    "        self.val_enable = False\n",
    "        if X_val is not None:\n",
    "            self.val_enable = True\n",
    "        \n",
    "        #optimizer = self.Optimizer(self.lr)\n",
    "        self.conv1d_3 = Conv1d_3(filter_size=7, initializer=SimpleInitializer(0.01), optimizer=self.Optimizer(self.lr), n_in_channels=1, n_out_channels=1, pa=3, st=2)\n",
    "        self.conv1d_3.n_out = out_size(X.shape[-1], self.conv1d_3.filter_size, self.conv1d_3.pa, self.conv1d_3.st)\n",
    "        self.activation1 = self.Activater()\n",
    "        self.FC2 = FC(1*self.conv1d_3.n_out, self.n_nodes2, self.Initializer(), self.Optimizer(self.lr))\n",
    "        self.activation2 = self.Activater()\n",
    "        self.FC3 = FC(self.n_nodes2, self.n_output, self.Initializer(), self.Optimizer(self.lr))\n",
    "        self.activation3 = ActSoftmax()\n",
    "        \n",
    "        self.loss = []\n",
    "        self.loss_epoch = [self.activation3.loss_func(y, self.forward_propagation(X))]\n",
    "        for _ in range(self.num_epoch):\n",
    "            get_mini_batch = GetMiniBatch(X, y, batch_size=self.batch_size)\n",
    "            self.iter = len(get_mini_batch)\n",
    "            for mini_X, mini_y in get_mini_batch:\n",
    "                self.forward_propagation(mini_X)\n",
    "                self.back_propagation(mini_X, mini_y)\n",
    "                self.loss.append(self.activation3.loss)\n",
    "            self.loss_epoch.append(self.activation3.loss_func(y, self.forward_propagation(X)))\n",
    "        \n",
    "        if self.verbose:\n",
    "            self.learning_curve()\n",
    "            print()\n",
    "        \n",
    "    def predict(self, X):\n",
    "        return np.argmax(self.forward_propagation(X), axis=1)\n",
    "    \n",
    "    def forward_propagation(self, X):\n",
    "        A1 = self.conv1d_3.forward(X)\n",
    "        A1 = A1.reshape(A1.shape[0], A1.shape[-1])\n",
    "        Z1 = self.activation1.forward(A1)\n",
    "        A2 = self.FC2.forward(Z1)\n",
    "        Z2 = self.activation2.forward(A2)\n",
    "        A3 = self.FC3.forward(Z2)\n",
    "        Z3 = self.activation3.forward(A3)\n",
    "        return Z3\n",
    "        \n",
    "    def back_propagation(self, X, y_true):\n",
    "        dA3 = self.activation3.backward(y_true) # 交差エントロピー誤差とソフトマックスを合わせている\n",
    "        dZ2 = self.FC3.backward(dA3)\n",
    "        dA2 = self.activation2.backward(dZ2)\n",
    "        dZ1 = self.FC2.backward(dA2)\n",
    "        dA1 = self.activation1.backward(dZ1)\n",
    "        dA1 = dA1[:, np.newaxis]\n",
    "        dZ0 = self.conv1d_3.backward(dA1) # dZ0は使用しない\n",
    "    \n",
    "    def learning_curve(self):\n",
    "        plt.title(\"model loss\")\n",
    "        plt.xlabel(\"num_epoch\")\n",
    "        plt.ylabel(\"loss\")\n",
    "        plt.plot(np.arange(1, self.num_epoch*self.iter + 1), self.loss, label=\"train_loss\")\n",
    "        plt.plot(np.arange(0, self.num_epoch + 1)*self.iter, self.loss_epoch, label=\"epoch_loss\")\n",
    "        if self.val_enable:\n",
    "            plt.plot(np.arange(1, self.num_epoch + 1), self.val_loss, label=\"val_loss\")\n",
    "        plt.legend()\n",
    "        plt.show()\n",
    "        return\n",
    "\n",
    "class FC:\n",
    "    \"\"\"\n",
    "    ノード数n_nodes1からn_nodes2への全結合層\n",
    "    Parameters\n",
    "    ----------\n",
    "    n_nodes1 : int\n",
    "      前の層のノード数\n",
    "    n_nodes2 : int\n",
    "      後の層のノード数\n",
    "    initializer : 初期化方法のインスタンス\n",
    "    optimizer : 最適化手法のインスタンス\n",
    "    \"\"\"\n",
    "    def __init__(self, n_nodes1, n_nodes2, initializer, optimizer):\n",
    "        self.optimizer = optimizer\n",
    "        # 初期化\n",
    "        # initializerのメソッドを使い、self.Wとself.Bを初期化する\n",
    "        self.W = initializer.W(n_nodes1, n_nodes2)\n",
    "        self.B = initializer.B(n_nodes2)\n",
    "        \n",
    "    def forward(self, X):\n",
    "        \"\"\"\n",
    "        フォワード\n",
    "        Parameters\n",
    "        ----------\n",
    "        X : 次の形のndarray, shape (batch_size, n_nodes1)\n",
    "            入力\n",
    "        Returns\n",
    "        ----------\n",
    "        A : 次の形のndarray, shape (batch_size, n_nodes2)\n",
    "            出力\n",
    "        \"\"\"\n",
    "        self.X = X\n",
    "        A = X@self.W + self.B\n",
    "        return A\n",
    "    \n",
    "    def backward(self, dA):\n",
    "        \"\"\"\n",
    "        バックワード\n",
    "        Parameters\n",
    "        ----------\n",
    "        dA : 次の形のndarray, shape (batch_size, n_nodes2)\n",
    "            後ろから流れてきた勾配\n",
    "        Returns\n",
    "        ----------\n",
    "        dZ : 次の形のndarray, shape (batch_size, n_nodes1)\n",
    "            前に流す勾配\n",
    "        \"\"\"\n",
    "        dZ = dA@self.W.T\n",
    "        self.dB = np.sum(dA, axis=0)\n",
    "        self.dW = self.X.T@dA\n",
    "        self.optimizer.update(self)\n",
    "        return dZ\n",
    "\n",
    "class XavierInitializer:\n",
    "    def W(self, n_nodes1, n_nodes2):\n",
    "        self.sigma = math.sqrt(1 / n_nodes1)\n",
    "        W = self.sigma * np.random.randn(n_nodes1, n_nodes2)\n",
    "        return W\n",
    "    def B(self, n_nodes2):\n",
    "        B = self.sigma * np.random.randn(n_nodes2)\n",
    "        return B\n",
    "    \n",
    "class HeInitializer():\n",
    "    def W(self, n_nodes1, n_nodes2):\n",
    "        self.sigma = math.sqrt(2 / n_nodes1)\n",
    "        W = self.sigma * np.random.randn(n_nodes1, n_nodes2)\n",
    "        return W\n",
    "    def B(self, n_nodes2):\n",
    "        B = self.sigma * np.random.randn(n_nodes2)\n",
    "        return B\n",
    "\n",
    "class GetMiniBatch:\n",
    "    \"\"\"\n",
    "    ミニバッチを取得するイテレータ\n",
    "\n",
    "    Parameters\n",
    "    ----------\n",
    "    X : 次の形のndarray, shape (n_samples, n_features)\n",
    "      訓練用データ\n",
    "    y : 次の形のndarray, shape (n_samples, 1)\n",
    "      正解値\n",
    "    batch_size : int\n",
    "      バッチサイズ\n",
    "    seed : int\n",
    "      NumPyの乱数のシード\n",
    "    \"\"\"\n",
    "    def __init__(self, X, y, batch_size = 20, seed=0):\n",
    "        self.batch_size = batch_size\n",
    "        np.random.seed(seed)\n",
    "        shuffle_index = np.random.permutation(np.arange(X.shape[0]))\n",
    "        self._X = X[shuffle_index]\n",
    "        self._y = y[shuffle_index]\n",
    "        self._stop = np.ceil(X.shape[0]/self.batch_size).astype(np.int)\n",
    "\n",
    "    def __len__(self):\n",
    "        return self._stop\n",
    "\n",
    "    def __getitem__(self,item):\n",
    "        p0 = item*self.batch_size\n",
    "        p1 = item*self.batch_size + self.batch_size\n",
    "        return self._X[p0:p1], self._y[p0:p1]        \n",
    "\n",
    "    def __iter__(self):\n",
    "        self._counter = 0\n",
    "        return self\n",
    "\n",
    "    def __next__(self):\n",
    "        if self._counter >= self._stop:\n",
    "            raise StopIteration()\n",
    "        p0 = self._counter*self.batch_size\n",
    "        p1 = self._counter*self.batch_size + self.batch_size\n",
    "        self._counter += 1\n",
    "        return self._X[p0:p1], self._y[p0:p1]"
   ]
  },
  {
   "cell_type": "code",
   "execution_count": 46,
   "metadata": {},
   "outputs": [],
   "source": [
    "def evaluate(y_true, y_pred):\n",
    "    print(\"accuracy =\", accuracy_score(y_true, y_pred))\n",
    "    print(\"precision =\", precision_score(y_true, y_pred, average='macro'))\n",
    "    print(\"recall =\", recall_score(y_true, y_pred, average='macro'))\n",
    "    print(\"f1 =\", f1_score(y_true, y_pred, average='macro'))\n",
    "    print(confusion_matrix(y_true, y_pred))"
   ]
  },
  {
   "cell_type": "markdown",
   "metadata": {},
   "source": [
    "## データ"
   ]
  },
  {
   "cell_type": "code",
   "execution_count": 47,
   "metadata": {},
   "outputs": [],
   "source": [
    "(X_train, y_train), (X_test, y_test) = mnist.load_data()"
   ]
  },
  {
   "cell_type": "markdown",
   "metadata": {},
   "source": [
    "### データセットの確認"
   ]
  },
  {
   "cell_type": "code",
   "execution_count": 48,
   "metadata": {},
   "outputs": [
    {
     "name": "stdout",
     "output_type": "stream",
     "text": [
      "(60000, 28, 28)\n",
      "(10000, 28, 28)\n",
      "uint8\n"
     ]
    }
   ],
   "source": [
    "print(X_train.shape) # (60000, 28, 28)\n",
    "print(X_test.shape) # (10000, 28, 28)\n",
    "print(X_train[0].dtype) # uint8\n",
    "#print(X_train[0])"
   ]
  },
  {
   "cell_type": "markdown",
   "metadata": {},
   "source": [
    "### 平滑化"
   ]
  },
  {
   "cell_type": "code",
   "execution_count": 49,
   "metadata": {},
   "outputs": [],
   "source": [
    "X_train = X_train.reshape(-1, 784)\n",
    "X_test = X_test.reshape(-1, 784)"
   ]
  },
  {
   "cell_type": "markdown",
   "metadata": {},
   "source": [
    "### 画像データの可視化"
   ]
  },
  {
   "cell_type": "code",
   "execution_count": 50,
   "metadata": {},
   "outputs": [
    {
     "data": {
      "image/png": "[encoded data removed]",
      "text/plain": [
       "<matplotlib.figure.Figure at 0x1a2f79fb00>"
      ]
     },
     "metadata": {
      "needs_background": "light"
     },
     "output_type": "display_data"
    }
   ],
   "source": [
    "index = 0\n",
    "image = X_train[index].reshape(28,28)\n",
    "# X_train[index]: (784,)\n",
    "# image: (28, 28)\n",
    "plt.imshow(image, 'gray')\n",
    "plt.title('label : {}'.format(y_train[index]))\n",
    "plt.show()"
   ]
  },
  {
   "cell_type": "markdown",
   "metadata": {},
   "source": [
    "### 前処理"
   ]
  },
  {
   "cell_type": "code",
   "execution_count": 51,
   "metadata": {},
   "outputs": [
    {
     "name": "stdout",
     "output_type": "stream",
     "text": [
      "1.0\n",
      "0.0\n"
     ]
    }
   ],
   "source": [
    "X_train = X_train.astype(np.float)\n",
    "X_test = X_test.astype(np.float)\n",
    "X_train /= 255\n",
    "X_test /= 255\n",
    "print(X_train.max()) # 1.0\n",
    "print(X_train.min()) # 0.0"
   ]
  },
  {
   "cell_type": "code",
   "execution_count": 52,
   "metadata": {},
   "outputs": [
    {
     "name": "stdout",
     "output_type": "stream",
     "text": [
      "(60000,)\n",
      "(60000, 10)\n",
      "float64\n"
     ]
    }
   ],
   "source": [
    "enc = OneHotEncoder(handle_unknown='ignore', sparse=False)\n",
    "y_train_one_hot = enc.fit_transform(y_train[:, np.newaxis])\n",
    "y_test_one_hot = enc.transform(y_test[:, np.newaxis])\n",
    "print(y_train.shape) # (60000,)\n",
    "print(y_train_one_hot.shape) # (60000, 10)\n",
    "print(y_train_one_hot.dtype) # float64"
   ]
  },
  {
   "cell_type": "code",
   "execution_count": 53,
   "metadata": {},
   "outputs": [
    {
     "name": "stdout",
     "output_type": "stream",
     "text": [
      "X_train.shape = (48000, 784)\n",
      "X_val.shape = (12000, 784)\n",
      "y_train.shape = (48000, 10)\n",
      "y_val.shape = (12000, 10)\n"
     ]
    }
   ],
   "source": [
    "X_train_, X_val, y_train_, y_val = train_test_split(X_train, y_train_one_hot, test_size=0.2)\n",
    "print(\"X_train.shape =\", X_train_.shape) # (48000, 784)\n",
    "print(\"X_val.shape =\", X_val.shape) # (12000, 784)\n",
    "print(\"y_train.shape =\", y_train_.shape) # (48000, 784)\n",
    "print(\"y_val.shape =\", y_val.shape) # (12000, 784)"
   ]
  },
  {
   "cell_type": "code",
   "execution_count": 54,
   "metadata": {},
   "outputs": [
    {
     "data": {
      "image/png": "[encoded data removed]",
      "text/plain": [
       "<matplotlib.figure.Figure at 0x1a31888828>"
      ]
     },
     "metadata": {
      "needs_background": "light"
     },
     "output_type": "display_data"
    },
    {
     "name": "stdout",
     "output_type": "stream",
     "text": [
      "\n"
     ]
    }
   ],
   "source": [
    "scratch_cnn1 = ScratchConvNeuralNetrowkClassifier(num_epoch=10, lr=0.01, batch_size=20, \n",
    "                                                  n_features=784, n_nodes1=400, n_nodes2=200, n_output=10, \n",
    "                                                  verbose=True, Activater=ActTanh, Optimizer=SGD)\n",
    "scratch_cnn1.fit(X_train_, y_train_)"
   ]
  },
  {
   "cell_type": "code",
   "execution_count": 55,
   "metadata": {},
   "outputs": [],
   "source": [
    "y_pred1 = scratch_cnn1.predict(X_test)"
   ]
  },
  {
   "cell_type": "code",
   "execution_count": 56,
   "metadata": {},
   "outputs": [
    {
     "name": "stdout",
     "output_type": "stream",
     "text": [
      "accuracy = 0.9747\n",
      "precision = 0.974718099185355\n",
      "recall = 0.9745732753488368\n",
      "f1 = 0.9745810852271621\n",
      "[[ 973    0    0    1    0    1    4    1    0    0]\n",
      " [   0 1120    3    2    0    1    4    2    3    0]\n",
      " [   8    2 1000    8    1    0    4    6    2    1]\n",
      " [   0    0    2  993    0    5    0    4    3    3]\n",
      " [   1    0    1    0  951    0    4    1    0   24]\n",
      " [   2    0    0    9    0  870    4    1    4    2]\n",
      " [   5    3    0    0    4    4  942    0    0    0]\n",
      " [   2    4    9    4    1    0    0 1001    2    5]\n",
      " [   5    1    4   14    4    5    7    2  928    4]\n",
      " [   2    5    0    8    9    3    1   11    1  969]]\n"
     ]
    }
   ],
   "source": [
    "evaluate(y_test, y_pred1)"
   ]
  }
 ],
 "metadata": {
  "kernelspec": {
   "display_name": "Python 3",
   "language": "python",
   "name": "python3"
  },
  "language_info": {
   "codemirror_mode": {
    "name": "ipython",
    "version": 3
   },
   "file_extension": ".py",
   "mimetype": "text/x-python",
   "name": "python",
   "nbconvert_exporter": "python",
   "pygments_lexer": "ipython3",
   "version": "3.6.6"
  }
 },
 "nbformat": 4,
 "nbformat_minor": 4
}
