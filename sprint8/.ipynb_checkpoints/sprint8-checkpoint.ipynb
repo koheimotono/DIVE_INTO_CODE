{
 "cells": [
  {
   "cell_type": "markdown",
   "metadata": {},
   "source": [
    "# Sprint アンサンブル学習"
   ]
  },
  {
   "cell_type": "markdown",
   "metadata": {},
   "source": [
    "## Sprintの目的\n",
    "アンサンブル学習について理解する"
   ]
  },
  {
   "cell_type": "code",
   "execution_count": 1,
   "metadata": {},
   "outputs": [],
   "source": [
    "import numpy as np\n",
    "import pandas as pd\n",
    "import matplotlib.pyplot as plt\n",
    "\n",
    "from sklearn.linear_model import LinearRegression\n",
    "from sklearn.svm import SVR\n",
    "from sklearn.tree import DecisionTreeRegressor\n",
    "\n",
    "from sklearn.model_selection import train_test_split"
   ]
  },
  {
   "cell_type": "code",
   "execution_count": 2,
   "metadata": {},
   "outputs": [],
   "source": [
    "def scratch_train_test_split(X, y, train_size=0.8,):\n",
    "    \"\"\"\n",
    "    検証用データを分割する。\n",
    "\n",
    "    Parameters\n",
    "    ----------\n",
    "    X : 次の形のndarray, shape (n_samples, n_features)\n",
    "      学習データ\n",
    "    y : 次の形のndarray, shape (n_samples, )\n",
    "      正解値\n",
    "    train_size : float (0<train_size<1)\n",
    "      何割をtrainとするか指定\n",
    "\n",
    "    Returns\n",
    "    ----------\n",
    "    X_train : 次の形のndarray, shape (n_samples, n_features)\n",
    "      学習データ\n",
    "    X_test : 次の形のndarray, shape (n_samples, n_features)\n",
    "      検証データ\n",
    "    y_train : 次の形のndarray, shape (n_samples, )\n",
    "      学習データの正解値\n",
    "    y_test : 次の形のndarray, shape (n_samples, )\n",
    "      検証データの正解値\n",
    "    \"\"\"\n",
    "    n_samples = len(X)\n",
    "    idx = np.zeros(n_samples)\n",
    "    train_size =  int(n_samples*train_size)\n",
    "    train_idx = np.random.choice(np.arange(n_samples), train_size, replace=False)\n",
    "    idx[train_idx] = 1\n",
    "    \n",
    "    X_train ,X_test = X[idx==1], X[idx==0]\n",
    "    y_train ,y_test = y[idx==1], y[idx==0]\n",
    "    \n",
    "    return X_train, X_test, y_train, y_test"
   ]
  },
  {
   "cell_type": "code",
   "execution_count": 3,
   "metadata": {},
   "outputs": [],
   "source": [
    "data0 = pd.read_csv(\"../housing_train.csv\")"
   ]
  },
  {
   "cell_type": "code",
   "execution_count": 4,
   "metadata": {},
   "outputs": [
    {
     "data": {
      "text/html": [
       "<div>\n",
       "<style scoped>\n",
       "    .dataframe tbody tr th:only-of-type {\n",
       "        vertical-align: middle;\n",
       "    }\n",
       "\n",
       "    .dataframe tbody tr th {\n",
       "        vertical-align: top;\n",
       "    }\n",
       "\n",
       "    .dataframe thead th {\n",
       "        text-align: right;\n",
       "    }\n",
       "</style>\n",
       "<table border=\"1\" class=\"dataframe\">\n",
       "  <thead>\n",
       "    <tr style=\"text-align: right;\">\n",
       "      <th></th>\n",
       "      <th>GrLivArea</th>\n",
       "      <th>YearBuilt</th>\n",
       "    </tr>\n",
       "  </thead>\n",
       "  <tbody>\n",
       "    <tr>\n",
       "      <th>0</th>\n",
       "      <td>1710</td>\n",
       "      <td>2003</td>\n",
       "    </tr>\n",
       "    <tr>\n",
       "      <th>1</th>\n",
       "      <td>1262</td>\n",
       "      <td>1976</td>\n",
       "    </tr>\n",
       "    <tr>\n",
       "      <th>2</th>\n",
       "      <td>1786</td>\n",
       "      <td>2001</td>\n",
       "    </tr>\n",
       "  </tbody>\n",
       "</table>\n",
       "</div>"
      ],
      "text/plain": [
       "   GrLivArea  YearBuilt\n",
       "0       1710       2003\n",
       "1       1262       1976\n",
       "2       1786       2001"
      ]
     },
     "metadata": {},
     "output_type": "display_data"
    },
    {
     "data": {
      "text/plain": [
       "0    208500\n",
       "1    181500\n",
       "2    223500\n",
       "Name: SalePrice, dtype: int64"
      ]
     },
     "metadata": {},
     "output_type": "display_data"
    }
   ],
   "source": [
    "data_X = data0[[\"GrLivArea\", \"YearBuilt\"]]\n",
    "data_y = data0[\"SalePrice\"]\n",
    "display(data_X.head(3))\n",
    "display(data_y.head(3))"
   ]
  },
  {
   "cell_type": "code",
   "execution_count": 5,
   "metadata": {},
   "outputs": [
    {
     "data": {
      "text/plain": [
       "((1168, 2), (292, 2), (1168,), (292,))"
      ]
     },
     "execution_count": 5,
     "metadata": {},
     "output_type": "execute_result"
    }
   ],
   "source": [
    "X_train, X_test, y_train, y_test = scratch_train_test_split(data_X, data_y, train_size=0.8)\n",
    "X_train.shape, X_test.shape, y_train.shape, y_test.shape"
   ]
  },
  {
   "cell_type": "code",
   "execution_count": 6,
   "metadata": {},
   "outputs": [
    {
     "name": "stdout",
     "output_type": "stream",
     "text": [
      "score = 0.7079614828360515\n"
     ]
    }
   ],
   "source": [
    "reg_linear_regression = LinearRegression().fit(X_train, y_train)\n",
    "y_pred_linear_regression = reg_linear_regression.predict(X_test)\n",
    "print(\"score =\", reg_linear_regression.score(X_test, y_test))"
   ]
  },
  {
   "cell_type": "code",
   "execution_count": 7,
   "metadata": {},
   "outputs": [
    {
     "name": "stdout",
     "output_type": "stream",
     "text": [
      "score = 0.6780426521255516\n"
     ]
    }
   ],
   "source": [
    "reg_svr_linear = SVR(kernel=\"linear\").fit(X_train, y_train)\n",
    "y_pred_svr_linear = reg_svr_linear.predict(X_test)\n",
    "print(\"score =\", reg_svr_linear.score(X_test, y_test))"
   ]
  },
  {
   "cell_type": "code",
   "execution_count": 8,
   "metadata": {},
   "outputs": [
    {
     "name": "stdout",
     "output_type": "stream",
     "text": [
      "score = 0.6250773082211439\n"
     ]
    }
   ],
   "source": [
    "reg_decision_tree = DecisionTreeRegressor(random_state=0).fit(X_train, y_train)\n",
    "y_pred_decision_tree = reg_decision_tree.predict(X_test)\n",
    "print(\"score =\", reg_decision_tree.score(X_test, y_test))"
   ]
  },
  {
   "cell_type": "markdown",
   "metadata": {},
   "source": [
    "## 【問題1】ブレンディングのスクラッチ実装"
   ]
  },
  {
   "cell_type": "code",
   "execution_count": 9,
   "metadata": {},
   "outputs": [],
   "source": [
    "def mse(y_pred, y_true):\n",
    "    return np.average((y_pred - y_true)**2)"
   ]
  },
  {
   "cell_type": "code",
   "execution_count": 10,
   "metadata": {},
   "outputs": [],
   "source": [
    "def scratch_blending(*y_preds, ratio=None, y_true, print_mse=[]):\n",
    "    if ratio is None:\n",
    "        return np.average(y_preds, axis=0)\n",
    "    y_pred_blending = ratio@y_preds / np.sum(ratio)\n",
    "    \n",
    "    if print_mse:\n",
    "        for i in range(len(y_preds)):\n",
    "            print(\"MSE(\", print_mse[i], \") = \", mse(y_preds[i], y_true), sep=\"\")\n",
    "        print(\"MSE(blend) = \", mse(y_pred_blending, y_true), sep=\"\")\n",
    "        \n",
    "    return y_pred_blending"
   ]
  },
  {
   "cell_type": "code",
   "execution_count": 11,
   "metadata": {},
   "outputs": [
    {
     "name": "stdout",
     "output_type": "stream",
     "text": [
      "MSE(lr) = 2164300655.425956\n",
      "MSE(svr) = 2386029438.1397824\n",
      "MSE(tree) = 2778556183.037671\n",
      "MSE(blend) = 2001433593.193562\n"
     ]
    }
   ],
   "source": [
    "ratio = np.array([3, 3, 1])\n",
    "y_pred_blending = scratch_blending(y_pred_linear_regression, y_pred_svr_linear, y_pred_decision_tree, ratio=ratio, y_true=y_test, print_mse=[\"lr\", \"svr\", \"tree\"])"
   ]
  },
  {
   "cell_type": "code",
   "execution_count": 12,
   "metadata": {},
   "outputs": [
    {
     "name": "stdout",
     "output_type": "stream",
     "text": [
      "MSE(lr) = 2164300655.425956\n",
      "MSE(svr) = 2386029438.1397824\n",
      "MSE(blend) = 2252280283.767199\n"
     ]
    }
   ],
   "source": [
    "ratio = np.array([1, 1])\n",
    "y_pred_blending = scratch_blending(y_pred_linear_regression, y_pred_svr_linear, ratio=ratio, y_true=y_test, print_mse=[\"lr\", \"svr\"])"
   ]
  },
  {
   "cell_type": "code",
   "execution_count": 13,
   "metadata": {},
   "outputs": [
    {
     "name": "stdout",
     "output_type": "stream",
     "text": [
      "MSE(lr) = 2164300655.425956\n",
      "MSE(tree) = 2778556183.037671\n",
      "MSE(blend) = 1910560472.4760082\n"
     ]
    }
   ],
   "source": [
    "ratio = np.array([5, 1])\n",
    "y_pred_blending = scratch_blending(y_pred_linear_regression, y_pred_decision_tree, ratio=ratio, y_true=y_test, print_mse=[\"lr\", \"tree\"])"
   ]
  },
  {
   "cell_type": "code",
   "execution_count": 14,
   "metadata": {},
   "outputs": [
    {
     "name": "stdout",
     "output_type": "stream",
     "text": [
      "MSE(svr) = 2386029438.1397824\n",
      "MSE(tree) = 2778556183.037671\n",
      "MSE(blend) = 1957872383.1158473\n"
     ]
    }
   ],
   "source": [
    "ratio = np.array([3, 1])\n",
    "y_pred_blending = scratch_blending(y_pred_svr_linear, y_pred_decision_tree, ratio=ratio, y_true=y_test, print_mse=[\"svr\", \"tree\"])"
   ]
  },
  {
   "cell_type": "markdown",
   "metadata": {},
   "source": [
    "## 【問題2】バギングのスクラッチ実装"
   ]
  },
  {
   "cell_type": "code",
   "execution_count": 15,
   "metadata": {},
   "outputs": [],
   "source": [
    "def scratch_bagging(X_train, X_test, y_train, y_test, model, n):\n",
    "    y_pred_ndarray = np.empty((n, y_test.shape[0]))\n",
    "    for i in range(n):\n",
    "        X_train_brs, _, y_train_brs, _ = train_test_split(X_train, y_train, test_size=1-2/(n+2), shuffle=True)\n",
    "        _reg = model().fit(X_train_brs, y_train_brs)\n",
    "        y_pred_ndarray[i] = _reg.predict(X_test)\n",
    "    y_pred_bagging = np.average(y_pred_ndarray, axis=0)\n",
    "    \n",
    "    return y_pred_bagging"
   ]
  },
  {
   "cell_type": "code",
   "execution_count": 19,
   "metadata": {},
   "outputs": [
    {
     "name": "stdout",
     "output_type": "stream",
     "text": [
      "MSE(lr) = 2164300655.425956\n",
      "MSE(bag) = 1976536974.4743152\n"
     ]
    }
   ],
   "source": [
    "y_pred_bagging = scratch_bagging(X_train, X_test, y_train, y_test, DecisionTreeRegressor, n=4)\n",
    "\n",
    "print(\"MSE(lr) = \", mse(y_pred_linear_regression, y_test), sep=\"\")\n",
    "print(\"MSE(bag) = \", mse(y_pred_bagging, y_test), sep=\"\")"
   ]
  },
  {
   "cell_type": "markdown",
   "metadata": {},
   "source": [
    "## 【問題3】スタッキングのスクラッチ実装"
   ]
  },
  {
   "cell_type": "code",
   "execution_count": 17,
   "metadata": {},
   "outputs": [],
   "source": [
    "class ScratchStacking():\n",
    "    \"\"\"\n",
    "    ステージ0とステージ1のみのスタッキング\n",
    "    \"\"\"\n",
    "    def __init__(self):\n",
    "        self.k0 = 0\n",
    "        self.m0 = 0\n",
    "        self.list_models = None\n",
    "    \n",
    "    def fit(self, X, y, k0, m0, *models, model_z):\n",
    "        self.k0 = k0\n",
    "        self.m0 = m0\n",
    "        n_split_samples = int(len(X)/k0)+1\n",
    "        idx = np.arange(X.shape[0])\n",
    "        idx_split = [idx[i*n_split_samples:(i+1)*n_split_samples] for i in range(k0)]\n",
    "\n",
    "        y_pred_ndarray0 = np.empty((X.shape[0], m0))\n",
    "        list_models = []\n",
    "        for i in range(m0):\n",
    "            model = models[i]\n",
    "            y_pred_ndarray = np.empty(X.shape[0])\n",
    "            _list_model = []\n",
    "            for j in range(k0):\n",
    "                idx_bl_j = np.full(idx.shape, False)\n",
    "                idx_bl_j[idx_split[j]] = True\n",
    "                idx_bl_j_c = idx_bl_j==np.full(idx.shape, False)  # idx_bl_j_c = ~idx_bl_j\n",
    "                _reg = model().fit(X[idx_bl_j_c], y[idx_bl_j_c])\n",
    "                y_pred_ndarray[idx_split[j]] = _reg.predict(X[idx_bl_j])\n",
    "                _list_model.append(_reg)\n",
    "            y_pred_ndarray0[:, i] = y_pred_ndarray\n",
    "            list_models.append(_list_model)\n",
    "        self.list_models = [list_models]\n",
    "        model0 = model_z().fit(y_pred_ndarray0, y)\n",
    "        self.list_models.append(model0)\n",
    "    \n",
    "    def predict(self, X):\n",
    "        y_pred_ndarray0 = np.empty((X.shape[0], self.m0, self.k0))\n",
    "        \n",
    "        for i in range(self.m0):\n",
    "            for j in range(self.k0):\n",
    "                y_pred_ndarray0[:, i, j] = self.list_models[0][i][j].predict(X)\n",
    "        y_pred_ndarray1 = np.average(y_pred_ndarray0, axis=2)\n",
    "        \n",
    "        y_pred = self.list_models[1].predict(y_pred_ndarray1)\n",
    "        \n",
    "        return y_pred"
   ]
  },
  {
   "cell_type": "code",
   "execution_count": 29,
   "metadata": {},
   "outputs": [
    {
     "name": "stdout",
     "output_type": "stream",
     "text": [
      "MSE(stack) = 1798258830.3234181\n"
     ]
    }
   ],
   "source": [
    "scratch_stacking = ScratchStacking()\n",
    "scratch_stacking.fit(X_train, y_train, 3, 2, LinearRegression, DecisionTreeRegressor, model_z=LinearRegression)\n",
    "y_pred_stacking = scratch_stacking.predict(X_test)\n",
    "print(\"MSE(stack) = \", mse(y_pred_stacking, y_test), sep=\"\")"
   ]
  },
  {
   "cell_type": "markdown",
   "metadata": {},
   "source": [
    "### 分割数（k0）を変えてみる"
   ]
  },
  {
   "cell_type": "code",
   "execution_count": 23,
   "metadata": {},
   "outputs": [
    {
     "data": {
      "image/png": "[encoded data removed]",
      "text/plain": [
       "<matplotlib.figure.Figure at 0x1a1e45eb38>"
      ]
     },
     "metadata": {},
     "output_type": "display_data"
    }
   ],
   "source": [
    "list_mse = []\n",
    "list_x = list(range(2, 40))\n",
    "for i in list_x:\n",
    "    scratch_stacking.fit(X_train, y_train, i, 2, LinearRegression, DecisionTreeRegressor, model_z=LinearRegression)\n",
    "    _y_pred_stacking = scratch_stacking.predict(X_test)\n",
    "    list_mse.append(mse(_y_pred_stacking, y_test))\n",
    "    #print(\"MSE(\", \"\", \") = \", mse(y_pred, y_test), sep=\"\")\n",
    "\n",
    "plt.plot(list_x, list_mse)\n",
    "plt.ylabel(\"MSE\")\n",
    "plt.xlabel(\"k0\")\n",
    "plt.show()"
   ]
  },
  {
   "cell_type": "code",
   "execution_count": null,
   "metadata": {},
   "outputs": [],
   "source": []
  }
 ],
 "metadata": {
  "kernelspec": {
   "display_name": "Python 3",
   "language": "python",
   "name": "python3"
  },
  "language_info": {
   "codemirror_mode": {
    "name": "ipython",
    "version": 3
   },
   "file_extension": ".py",
   "mimetype": "text/x-python",
   "name": "python",
   "nbconvert_exporter": "python",
   "pygments_lexer": "ipython3",
   "version": "3.6.4"
  }
 },
 "nbformat": 4,
 "nbformat_minor": 2
}
