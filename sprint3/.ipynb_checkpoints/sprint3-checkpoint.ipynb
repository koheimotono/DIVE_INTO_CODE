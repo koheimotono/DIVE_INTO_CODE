{
 "cells": [
  {
   "cell_type": "markdown",
   "metadata": {},
   "source": [
    "# Sprint 機械学習スクラッチ 線形回帰"
   ]
  },
  {
   "cell_type": "markdown",
   "metadata": {},
   "source": [
    "## Sprintの目的  \n",
    "スクラッチを通して線形回帰を理解する  \n",
    "オブジェクト指向を意識した実装に慣れる  \n",
    "数式をコードに落とし込めるようにする  "
   ]
  },
  {
   "cell_type": "code",
   "execution_count": 1,
   "metadata": {},
   "outputs": [],
   "source": [
    "import numpy as np\n",
    "import matplotlib.pyplot as plt\n",
    "import pandas as pd\n",
    "\n",
    "from sklearn.preprocessing import StandardScaler"
   ]
  },
  {
   "cell_type": "code",
   "execution_count": 2,
   "metadata": {},
   "outputs": [],
   "source": [
    "class ScratchLinearRegression():\n",
    "    \"\"\"\n",
    "    線形回帰のスクラッチ実装\n",
    "\n",
    "    Parameters\n",
    "    ----------\n",
    "    num_iter : int\n",
    "      イテレーション数\n",
    "    lr : float\n",
    "      学習率\n",
    "    no_bias : bool\n",
    "      バイアス項を入れない場合はTrue\n",
    "    verbose : bool\n",
    "      学習過程を出力する場合はTrue\n",
    "\n",
    "    Attributes\n",
    "    ----------\n",
    "    self.coef_ : 次の形のndarray, shape (n_features,)\n",
    "      パラメータ\n",
    "    self.loss : 次の形のndarray, shape (self.iter,)\n",
    "      学習用データに対する損失の記録\n",
    "    self.val_loss : 次の形のndarray, shape (self.iter,)\n",
    "      検証用データに対する損失の記録\n",
    "\n",
    "    \"\"\"\n",
    "\n",
    "    def __init__(self, num_iter, lr, no_bias, verbose):\n",
    "        # ハイパーパラメータを属性として記録\n",
    "        self.iter = num_iter\n",
    "        self.lr = lr\n",
    "        self.no_bias = no_bias\n",
    "        self.verbose = verbose\n",
    "        # 損失を記録する配列を用意\n",
    "        self.loss = np.zeros(self.iter)\n",
    "        self.val_loss = np.zeros(self.iter)\n",
    "\n",
    "    def fit(self, X, y, X_val=None, y_val=None):\n",
    "        \"\"\"\n",
    "        線形回帰を学習する。検証用データが入力された場合はそれに対する損失と精度もイテレーションごとに計算する。\n",
    "\n",
    "        Parameters\n",
    "        ----------\n",
    "        X : 次の形のndarray, shape (n_samples, n_features)\n",
    "            学習用データの特徴量\n",
    "        y : 次の形のndarray, shape (n_samples, )\n",
    "            学習用データの正解値\n",
    "        X_val : 次の形のndarray, shape (n_samples, n_features)\n",
    "            検証用データの特徴量\n",
    "        y_val : 次の形のndarray, shape (n_samples, )\n",
    "            検証用データの正解値\n",
    "        \"\"\"\n",
    "        self.val_enable = False\n",
    "        if X_val is not None:\n",
    "            self.val_enable = True\n",
    "        \n",
    "        # バイアス項を用いるか\n",
    "        n_samples = X.shape[0]\n",
    "        if not self.no_bias:\n",
    "            X = np.concatenate([np.ones(n_samples).reshape(-1,1), X], axis=1)\n",
    "            if self.val_enable:\n",
    "                X_val = np.concatenate([np.ones(X_val.shape[0]).reshape(-1,1), X_val], axis=1)\n",
    "        \n",
    "        n_features = X.shape[1]\n",
    "        # パラメータ（重み）\n",
    "        self.coef_ = np.random.rand(n_features)\n",
    "        \n",
    "        # \n",
    "        for i in range(self.iter):\n",
    "            self._gradient_descent(X,  self._linear_hypothesis(X) - y)\n",
    "            self.loss[i] = MSE(self._linear_hypothesis(X), y) / 2\n",
    "            if self.val_enable:\n",
    "                self.val_loss[i] = MSE(self._linear_hypothesis(X_val), y_val) / 2\n",
    "        \n",
    "        if self.verbose:\n",
    "            self.learning_curve()\n",
    "            print()\n",
    "        return\n",
    "\n",
    "\n",
    "    def predict(self, X):\n",
    "        \"\"\"\n",
    "        線形回帰を使い推定する。\n",
    "\n",
    "        Parameters\n",
    "        ----------\n",
    "        X : 次の形のndarray, shape (n_samples, n_features)\n",
    "            サンプル\n",
    "\n",
    "        Returns\n",
    "        -------\n",
    "            次の形のndarray, shape (n_samples, 1)\n",
    "            線形回帰による推定結果\n",
    "        \"\"\"\n",
    "        n_samples = X.shape[0]\n",
    "        if not self.no_bias:\n",
    "            X = np.concatenate([np.ones(n_samples).reshape(-1,1), X], axis=1)\n",
    "        \n",
    "        return self._linear_hypothesis(X)\n",
    "    \n",
    "    def _linear_hypothesis(self, X):\n",
    "        \"\"\"\n",
    "        線形の仮定関数を計算する\n",
    "\n",
    "        Parameters\n",
    "        ----------\n",
    "        X : 次の形のndarray, shape (n_samples, n_features)\n",
    "          学習データ\n",
    "\n",
    "        Returns\n",
    "        -------\n",
    "          次の形のndarray, shape (n_samples, 1)\n",
    "          線形の仮定関数による推定結果\n",
    "        \n",
    "        \"\"\"\n",
    "        h = X@self.coef_\n",
    "        return h\n",
    "    \n",
    "    def _gradient_descent(self, X, error):\n",
    "        \"\"\"\n",
    "        最急降下法により学習させる（1回）\n",
    "        \n",
    "        Parameters\n",
    "        ----------\n",
    "        X : 次の形のndarray, shape (n_samples, n_features)\n",
    "          学習データ\n",
    "\n",
    "        Returns\n",
    "        -------\n",
    "        returnはない\n",
    "        \n",
    "        \"\"\"\n",
    "        self.coef_ = self.coef_ - self.lr*np.average(error*X.T, axis=1)\n",
    "        return\n",
    "    \n",
    "    def learning_curve(self):\n",
    "        plt.title(\"model loss\")\n",
    "        plt.xlabel(\"iter\")\n",
    "        plt.ylabel(\"loss\")\n",
    "        plt.plot(np.arange(self.iter), self.loss, label=\"train_loss\")\n",
    "        if self.val_enable:\n",
    "            plt.plot(np.arange(self.iter), self.val_loss, label=\"val_loss\")\n",
    "        plt.legend()\n",
    "        plt.show()"
   ]
  },
  {
   "cell_type": "markdown",
   "metadata": {},
   "source": [
    "## 【問題1】仮定関数"
   ]
  },
  {
   "cell_type": "markdown",
   "metadata": {},
   "source": [
    "ScratchLinearRegression クラスに _linear_hypothesis メソッドを追加"
   ]
  },
  {
   "cell_type": "markdown",
   "metadata": {},
   "source": [
    "## 【問題2】最急降下法"
   ]
  },
  {
   "cell_type": "markdown",
   "metadata": {},
   "source": [
    "ScratchLinearRegression クラスに _gradient_descent メソッドを追加"
   ]
  },
  {
   "cell_type": "markdown",
   "metadata": {},
   "source": [
    "## 【問題3】推定"
   ]
  },
  {
   "cell_type": "markdown",
   "metadata": {},
   "source": [
    "ScratchLinearRegression クラスの雛形に含まれる predict メソッドに書き加えた。"
   ]
  },
  {
   "cell_type": "markdown",
   "metadata": {},
   "source": [
    "## 【問題4】平均二乗誤差"
   ]
  },
  {
   "cell_type": "code",
   "execution_count": 3,
   "metadata": {},
   "outputs": [],
   "source": [
    "def MSE(y_pred, y):\n",
    "    \"\"\"\n",
    "    平均二乗誤差の計算\n",
    "\n",
    "    Parameters\n",
    "    ----------\n",
    "    y_pred : 次の形のndarray, shape (n_samples,)\n",
    "      推定した値\n",
    "    y : 次の形のndarray, shape (n_samples,)\n",
    "      正解値\n",
    "\n",
    "    Returns\n",
    "    ----------\n",
    "    mse : numpy.float\n",
    "      平均二乗誤差\n",
    "    \"\"\"\n",
    "    mse = np.average((y_pred - y)**2)\n",
    "    return mse"
   ]
  },
  {
   "cell_type": "markdown",
   "metadata": {},
   "source": [
    "## 【問題5】目的関数"
   ]
  },
  {
   "cell_type": "markdown",
   "metadata": {},
   "source": [
    "線形回帰の目的関数（損失関数）を実装した。そして、これをself.loss, self.val_lossに記録する"
   ]
  },
  {
   "cell_type": "markdown",
   "metadata": {},
   "source": [
    "## 【問題6】学習と推定"
   ]
  },
  {
   "cell_type": "code",
   "execution_count": 4,
   "metadata": {},
   "outputs": [],
   "source": [
    "def scratch_train_test_split(X, y, train_size=0.8,):\n",
    "    \"\"\"\n",
    "    検証用データを分割する。\n",
    "\n",
    "    Parameters\n",
    "    ----------\n",
    "    X : 次の形のndarray, shape (n_samples, n_features)\n",
    "      学習データ\n",
    "    y : 次の形のndarray, shape (n_samples, )\n",
    "      正解値\n",
    "    train_size : float (0<train_size<1)\n",
    "      何割をtrainとするか指定\n",
    "\n",
    "    Returns\n",
    "    ----------\n",
    "    X_train : 次の形のndarray, shape (n_samples, n_features)\n",
    "      学習データ\n",
    "    X_test : 次の形のndarray, shape (n_samples, n_features)\n",
    "      検証データ\n",
    "    y_train : 次の形のndarray, shape (n_samples, )\n",
    "      学習データの正解値\n",
    "    y_test : 次の形のndarray, shape (n_samples, )\n",
    "      検証データの正解値\n",
    "    \n",
    "    \"\"\"\n",
    "    X_train_size, y_train_size = int(len(X)*train_size), int(len(y)*train_size)\n",
    "    X_train ,X_test = X[:X_train_size], X[X_train_size:]\n",
    "    y_train ,y_test = y[:y_train_size], y[y_train_size:]\n",
    "    \n",
    "    return X_train, X_test, y_train, y_test"
   ]
  },
  {
   "cell_type": "code",
   "execution_count": 31,
   "metadata": {},
   "outputs": [],
   "source": [
    "def xy_transform(X=None, y=None):\n",
    "    X_transformed = y_transformed = None\n",
    "    \n",
    "    if X is not None:\n",
    "        scaler_X = StandardScaler()\n",
    "        scaler_X.fit(X)\n",
    "        X_transformed = scaler_X.transform(X)\n",
    "\n",
    "    if y is not None:\n",
    "        scaler_y = StandardScaler()\n",
    "        scaler_y.fit(y.reshape(-1,1))\n",
    "        y_transformed = scaler_y.transform(y.reshape(-1,1)).reshape(-1)\n",
    "    \n",
    "    return X_transformed, y_transformed"
   ]
  },
  {
   "cell_type": "code",
   "execution_count": 6,
   "metadata": {},
   "outputs": [
    {
     "data": {
      "text/plain": [
       "array([[1710, 2003],\n",
       "       [1262, 1976],\n",
       "       [1786, 2001],\n",
       "       ...,\n",
       "       [2340, 1941],\n",
       "       [1078, 1950],\n",
       "       [1256, 1965]])"
      ]
     },
     "execution_count": 6,
     "metadata": {},
     "output_type": "execute_result"
    }
   ],
   "source": [
    "housing_data = pd.read_csv(\"../housing_train.csv\")\n",
    "X_housing = np.array(housing_data[[\"GrLivArea\", \"YearBuilt\"]])\n",
    "y_housing = np.array(housing_data[\"SalePrice\"])\n",
    "X_housing"
   ]
  },
  {
   "cell_type": "code",
   "execution_count": 7,
   "metadata": {},
   "outputs": [
    {
     "name": "stderr",
     "output_type": "stream",
     "text": [
      "/anaconda3/lib/python3.6/site-packages/sklearn/utils/validation.py:475: DataConversionWarning: Data with input dtype int64 was converted to float64 by StandardScaler.\n",
      "  warnings.warn(msg, DataConversionWarning)\n"
     ]
    }
   ],
   "source": [
    "X_housing_transformed, y_housing_transformed = xy_transform(X_housing, y_housing)"
   ]
  },
  {
   "cell_type": "code",
   "execution_count": 15,
   "metadata": {},
   "outputs": [
    {
     "data": {
      "image/png": "[encoded data removed]",
      "text/plain": [
       "<matplotlib.figure.Figure at 0x116622a90>"
      ]
     },
     "metadata": {},
     "output_type": "display_data"
    },
    {
     "name": "stdout",
     "output_type": "stream",
     "text": [
      "\n",
      "loss = 0.15817020582424035\n",
      "val_loss 0.23525975115728504\n"
     ]
    }
   ],
   "source": [
    "scratch_linear = ScratchLinearRegression(num_iter=1000, lr=0.01, no_bias=False, verbose=True)\n",
    "X_train, X_test, y_train, y_test = scratch_train_test_split(X_housing_transformed, y_housing_transformed, train_size=0.8)\n",
    "scratch_linear.fit(X_train, y_train, X_val=X_test, y_val=y_test)\n",
    "y_pred = scratch_linear.predict(X_test)\n",
    "print(\"loss =\", scratch_linear.loss[-1])\n",
    "print(\"val_loss\", scratch_linear.val_loss[-1])"
   ]
  },
  {
   "cell_type": "markdown",
   "metadata": {},
   "source": [
    "### 正の相関が強いデータに対して用いてみる"
   ]
  },
  {
   "cell_type": "code",
   "execution_count": 16,
   "metadata": {},
   "outputs": [
    {
     "name": "stderr",
     "output_type": "stream",
     "text": [
      "/anaconda3/lib/python3.6/site-packages/sklearn/utils/validation.py:475: DataConversionWarning: Data with input dtype int64 was converted to float64 by StandardScaler.\n",
      "  warnings.warn(msg, DataConversionWarning)\n"
     ]
    },
    {
     "data": {
      "image/png": "[encoded data removed]",
      "text/plain": [
       "<matplotlib.figure.Figure at 0x116622f98>"
      ]
     },
     "metadata": {},
     "output_type": "display_data"
    },
    {
     "name": "stdout",
     "output_type": "stream",
     "text": [
      "\n",
      "loss = 2.7157191892042685e-06\n",
      "val_loss 1.5592437807898878e-05\n"
     ]
    }
   ],
   "source": [
    "X1 = np.arange(1,101,2).reshape(-1,1)\n",
    "y1 = np.arange(1,151,3)\n",
    "\n",
    "X1_transformed, y1_transformed = xy_transform(X1, y1)\n",
    "\n",
    "scratch_linear = ScratchLinearRegression(num_iter=1000, lr=0.01, no_bias=False, verbose=True)\n",
    "X_train, X_test, y_train, y_test = scratch_train_test_split(X1_transformed, y1_transformed, train_size=0.8)\n",
    "scratch_linear.fit(X_train, y_train, X_val=X_test, y_val=y_test)\n",
    "print(\"loss =\", scratch_linear.loss[-1])\n",
    "print(\"val_loss\", scratch_linear.val_loss[-1])"
   ]
  },
  {
   "cell_type": "markdown",
   "metadata": {},
   "source": [
    "## 【問題7】学習曲線のプロット"
   ]
  },
  {
   "cell_type": "markdown",
   "metadata": {},
   "source": [
    "ScratchLinearRegression クラスに learning_curve メソッドを追加し、 ScratchLinearRegression クラスの fit メソッドに書き加えた。\n",
    "実行は問題6で行った。グラフを見て損失が適切に下がっていることが確認できた。"
   ]
  },
  {
   "cell_type": "markdown",
   "metadata": {},
   "source": [
    "## 【問題8】（アドバンス課題）バイアス項の除去"
   ]
  },
  {
   "cell_type": "markdown",
   "metadata": {},
   "source": [
    "バイアス項を抜くと学習がどう変化するか検証する。また、線形回帰モデルにおけるバイアス項の役割の考察・調査を行う。\n",
    "\n",
    "仮説：バイアス項がない場合、y切片が0に固定されてしまい、幅広く対応できなくなるため、精度が下がる。\n",
    "\n",
    "結果：精度はほとんど変わらなかった。\n",
    "\n",
    "考察：標準化をしているため、y切片が0だと仮定できるため、同じような結果になった。"
   ]
  },
  {
   "cell_type": "code",
   "execution_count": 14,
   "metadata": {},
   "outputs": [
    {
     "data": {
      "image/png": "[encoded data removed]",
      "text/plain": [
       "<matplotlib.figure.Figure at 0x1163db358>"
      ]
     },
     "metadata": {},
     "output_type": "display_data"
    },
    {
     "name": "stdout",
     "output_type": "stream",
     "text": [
      "\n",
      "loss = 0.15822378079017715\n",
      "val_loss 0.23471723340383846\n"
     ]
    }
   ],
   "source": [
    "scratch_linear = ScratchLinearRegression(num_iter=1000, lr=0.01, no_bias=True, verbose=True)\n",
    "X_train, X_test, y_train, y_test = scratch_train_test_split(X_housing_transformed, y_housing_transformed, train_size=0.8)\n",
    "scratch_linear.fit(X_train, y_train, X_val=X_test, y_val=y_test)\n",
    "y_pred = scratch_linear.predict(X_test)\n",
    "print(\"loss =\", scratch_linear.loss[-1])\n",
    "print(\"val_loss\", scratch_linear.val_loss[-1])"
   ]
  },
  {
   "cell_type": "markdown",
   "metadata": {},
   "source": [
    "## 【問題9】（アドバンス課題）特徴量の多次元化"
   ]
  },
  {
   "cell_type": "markdown",
   "metadata": {},
   "source": [
    "特徴量の二乗や三乗を入力に利用すると学習結果がどう変化するか検証する。"
   ]
  },
  {
   "cell_type": "code",
   "execution_count": 33,
   "metadata": {},
   "outputs": [
    {
     "name": "stderr",
     "output_type": "stream",
     "text": [
      "/anaconda3/lib/python3.6/site-packages/sklearn/utils/validation.py:475: DataConversionWarning: Data with input dtype int64 was converted to float64 by StandardScaler.\n",
      "  warnings.warn(msg, DataConversionWarning)\n"
     ]
    },
    {
     "data": {
      "image/png": "[encoded data removed]",
      "text/plain": [
       "<matplotlib.figure.Figure at 0x115be9828>"
      ]
     },
     "metadata": {},
     "output_type": "display_data"
    },
    {
     "name": "stdout",
     "output_type": "stream",
     "text": [
      "\n",
      "loss = 0.1595950089996874\n",
      "val_loss 0.30494102600866546\n"
     ]
    }
   ],
   "source": [
    "X_housing_added = np.concatenate([X_housing, X_housing**2, X_housing**3], axis=1)\n",
    "X_housing_added_transformed = xy_transform(X=X_housing_added)[0]\n",
    "\n",
    "scratch_linear = ScratchLinearRegression(num_iter=1000, lr=0.01, no_bias=False, verbose=True)\n",
    "X_train, X_test, y_train, y_test = scratch_train_test_split(X_housing_added_transformed, y_housing_transformed, train_size=0.8)\n",
    "scratch_linear.fit(X_train, y_train, X_val=X_test, y_val=y_test)\n",
    "y_pred = scratch_linear.predict(X_test)\n",
    "print(\"loss =\", scratch_linear.loss[-1])\n",
    "print(\"val_loss\", scratch_linear.val_loss[-1])"
   ]
  },
  {
   "cell_type": "markdown",
   "metadata": {},
   "source": [
    "結果：loss や val_loss は大きくなった。"
   ]
  },
  {
   "cell_type": "markdown",
   "metadata": {},
   "source": [
    "## 【問題10】（アドバンス課題）更新式の導出"
   ]
  },
  {
   "cell_type": "markdown",
   "metadata": {},
   "source": [
    "$$\n",
    "    \\theta_j := \\theta_j - \\alpha \\frac{1}{m} \\sum_{i=1}^{m}[(h_\\theta(x^{(i)}) - y^{(i)} )x_{j}^{(i)}]\n",
    "$$\n",
    "\n",
    "を導出する。\n",
    "\n",
    "$$\n",
    "    \\begin{align}\n",
    "    J(\\theta) &= \\frac{1}{2m}\\sum_{i=1}^{m}(h_\\theta(x^{(i)})-y^{(i)})^2 \\tag{1} \\\\\n",
    "    \\theta_j :&= \\theta_j - \\frac{\\partial}{\\partial \\theta_j}J(\\theta) \\tag{2} \\\\\n",
    "    \\end{align}\n",
    "$$\n",
    "\n",
    "(1)を(2)に代入して、\n",
    "\n",
    "$$\n",
    "    \\begin{align}\n",
    "    \\theta_j :&= \\theta_j - \\frac{\\partial}{\\partial \\theta_j} (\\frac{1}{2m}\\sum_{i=1}^{m}(h_\\theta(x^{(i)})-y^{(i)})^2) \\\\\n",
    "    &=  \\theta_j - \\frac{1}{2m}\\sum_{i=1}^{m}\\frac{\\partial}{\\partial \\theta_j}(h_\\theta(x^{(i)})-y^{(i)})^2 \\\\\n",
    "    &=  \\theta_j - \\frac{1}{2m}\\sum_{i=1}^{m}[2(h_\\theta(x^{(i)})-y^{(i)})\\frac{\\partial}{\\partial \\theta_j}(h_\\theta(x^{(i)}))] \\\\\n",
    "    &=  \\theta_j - \\frac{1}{m}\\sum_{i=1}^{m}[(h_\\theta(x^{(i)})-y^{(i)})\\frac{\\partial}{\\partial \\theta_j}(\\theta_0x_0^{(i)}+\\theta_1x_1^{(i)}+\\theta_2x_2^{(i)}+...+\\theta_nx_n^{(i)})] \\\\\n",
    "    &=  \\theta_j - \\frac{1}{m}\\sum_{i=1}^{m}[(h_\\theta(x^{(i)})-y^{(i)})x_{j}^{(i)}] \\\\\n",
    "    \\end{align}\n",
    "$$"
   ]
  },
  {
   "cell_type": "markdown",
   "metadata": {},
   "source": [
    "## 【問題11】（アドバンス課題）局所最適解の問題"
   ]
  },
  {
   "cell_type": "markdown",
   "metadata": {},
   "source": [
    "線形回帰は目的関数に平均二乗誤差を用いており、目的関数が極小値を一つしか持たないため、局所最適解の問題を考えなくても良い。"
   ]
  },
  {
   "cell_type": "code",
   "execution_count": null,
   "metadata": {},
   "outputs": [],
   "source": []
  }
 ],
 "metadata": {
  "kernelspec": {
   "display_name": "Python 3",
   "language": "python",
   "name": "python3"
  },
  "language_info": {
   "codemirror_mode": {
    "name": "ipython",
    "version": 3
   },
   "file_extension": ".py",
   "mimetype": "text/x-python",
   "name": "python",
   "nbconvert_exporter": "python",
   "pygments_lexer": "ipython3",
   "version": "3.6.4"
  }
 },
 "nbformat": 4,
 "nbformat_minor": 2
}
